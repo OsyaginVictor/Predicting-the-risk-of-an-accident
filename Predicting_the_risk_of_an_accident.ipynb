{
  "cells": [
    {
      "cell_type": "markdown",
      "metadata": {
        "id": "view-in-github",
        "colab_type": "text"
      },
      "source": [
        "<a href=\"https://colab.research.google.com/github/OsyaginVictor/Predicting-the-risk-of-an-accident/blob/main/Predicting_the_risk_of_an_accident.ipynb\" target=\"_parent\"><img src=\"https://colab.research.google.com/assets/colab-badge.svg\" alt=\"Open In Colab\"/></a>"
      ]
    },
    {
      "cell_type": "markdown",
      "metadata": {
        "id": "_rAbjRc52vOp"
      },
      "source": [
        "# Предсказание риска ДТП на маршруте"
      ]
    },
    {
      "cell_type": "markdown",
      "metadata": {
        "id": "PlFHoHqG21B3"
      },
      "source": [
        "#### Постановка задачи\n",
        "Нужно создать систему, которая могла бы оценить риск ДТП по выбранному маршруту движения. Под риском понимается вероятность ДТП с любым повреждением транспортного средства. Как только водитель забронировал автомобиль, сел за руль и выбрал маршрут, система должна оценить уровень риска. Если уровень риска высок, водитель увидит предупреждение и рекомендации по маршруту."
      ]
    },
    {
      "cell_type": "markdown",
      "metadata": {
        "id": "FczCNMvH25Wx"
      },
      "source": [
        "#### Идея решения задачи:\n",
        "\n",
        "Создать модель предсказания ДТП (целевое значение — at_fault (виновник) в таблице parties)\n",
        "\n",
        "Для модели выбрать тип виновника — только машина (car).\n",
        "\n",
        "Выбрать случаи, когда ДТП привело к любым повреждениям транспортного средства, кроме типа SCRATCH (царапина).\n",
        "\n",
        "Для моделирования ограничиться данными за 2012 год — они самые свежие.\n",
        "\n",
        "Обязательное условие — учесть фактор возраста автомобиля.\n",
        "\n",
        "На основе модели исследовать основные факторы ДТП.\n",
        "\n",
        "Понять, помогут ли результаты моделирования и анализ важности факторов ответить на вопросы:\n",
        "\n",
        "Возможно ли создать адекватную системы оценки водительского риска при выдаче авто?\n",
        "\n",
        "Какие ещё факторы нужно учесть?\n",
        "\n",
        "Нужно ли оборудовать автомобиль какими-либо датчиками или камерой?\n",
        "\n",
        "Заказчик предлагает вам поработать с базой данных по происшествиям и сформировать свои идеи создания такой системы."
      ]
    },
    {
      "cell_type": "markdown",
      "metadata": {
        "id": "Bef49xQ-28cR"
      },
      "source": [
        "## Описание таблиц данных"
      ]
    },
    {
      "cell_type": "markdown",
      "metadata": {
        "id": "GDZfUart2-R3"
      },
      "source": []
    },
    {
      "cell_type": "markdown",
      "metadata": {
        "id": "n_zU-AXu2-Uq"
      },
      "source": [
        "### collisions (информация о происшествия)\n",
        "\n",
        "case_id (идентификационный номер в базе данных);\n",
        "\n",
        "collision_date (дата происшествия);\n",
        "\n",
        "collision_time (время происшествия);\n",
        "\n",
        "intersection (является ли место происшествия перекрестком):\n",
        "\n",
        "Y — Intersection (перекрёсток);\n",
        "\n",
        "N — Not Intersection (не перекрёсток);\n",
        "\n",
        "_ Not stated (Не указано).\n",
        "\n",
        "weather_1 (погода):\n",
        "\n",
        "A — Clear (Ясно);\n",
        "\n",
        "B — Cloudy (Облачно);\n",
        "\n",
        "C — Raining (Дождь);\n",
        "\n",
        "D — Snowing (Снегопад);\n",
        "\n",
        "E — Fog (Туман);\n",
        "\n",
        "F — Other (Другое);\n",
        "\n",
        "G — Wind (Ветер);\n",
        "\n",
        "collision_damage (серьезность происшествия):\n",
        "\n",
        "Fatal TC (Не подлежит восстановлению);\n",
        "\n",
        "Severe Damage (Серьезное повреждение);\n",
        "\n",
        "Middle Damage (Машина в целом на ходу);\n",
        "\n",
        "Small Damage (Отдельный элемент под замену / покраску);\n",
        "\n",
        "Scratch (Царапина).\n",
        "\n",
        "primary_collision_factor (основной фактор аварии):\n",
        "\n",
        "A - Code Violation (Нарушение правил ПДД);\n",
        "\n",
        "B - Other Improper Driving (Другое неправильное вождение);\n",
        "\n",
        "C - Other Than Driver (Кроме водителя);\n",
        "\n",
        "D - Unknown (Неизвестно);\n",
        "\n",
        "E - Fell Asleep (Заснул);\n",
        "\n",
        "_ - Not Stated (Не указано).\n",
        "\n",
        "road_surface (состояние дороги):\n",
        "\n",
        "A — Dry (Сухая);\n",
        "\n",
        "B — Wet (Мокрая);\n",
        "\n",
        "C — Snowy or Icy (Заснеженная или обледенелая);\n",
        "\n",
        "D — Slippery (Muddy, Oily, etc.) (Скользкая, грязная, маслянистая и т. д.);\n",
        "\n",
        "_ Not Stated (Не указано).\n",
        "\n",
        "lightning (освещение):\n",
        "\n",
        "A — Daylight (Дневной свет);\n",
        "\n",
        "B — Dusk-Dawn (Сумерки-Рассвет);\n",
        "\n",
        "C — Dark-Street Lights (Темно-Уличные фонари);\n",
        "\n",
        "D — Dark-No Street Lights (Темно-Нет уличных фонарей);\n",
        "\n",
        "E — Dark-Street Lights Not Functioning (Темно-Уличные фонари не работают);\n",
        "\n",
        "_ Not Stated (Не указано).\n",
        "\n",
        "county_city_location (номер географических районов, где произошло ДТП);\n",
        "\n",
        "county_location (названия географических районов, где произошло ДТП);\n",
        "\n",
        "direction (направление движения):\n",
        "\n",
        "N — North (Север)\n",
        "\n",
        "E — East (Восток)\n",
        "\n",
        "S — South (Юг)\n",
        "\n",
        "W — West (Запад)\n",
        "\n",
        "_ — Not State (Не указано)\n",
        "\n",
        "на перекрёстке\n",
        "\n",
        "distance (расстояние до главной дороги в метрах);\n",
        "\n",
        "location_type (тип дороги):\n",
        "\n",
        "H — Highway (Шоссе);\n",
        "\n",
        "I — Intersection (Перекрёсток);\n",
        "\n",
        "R — Ramp (or Collector) (Рампа);\n",
        "\n",
        "_ — Not State Highway (Не указано).\n",
        "\n",
        "party_count (количество участников);\n",
        "\n",
        "pcf_violation_category (категория нарушения):\n",
        "\n",
        "01 - Driving Under the Influence of Alcohol or Drug - Вождение или езда в состоянии алкогольного или наркотического опьянения;\n",
        "\n",
        "02 - Impeding Traffic - Препятствие движению транспорта;\n",
        "\n",
        "03 - Unsafe Speed - Превышение скорости;\n",
        "\n",
        "04 - Following Too Closely - Опасное сближение;\n",
        "\n",
        "05 - Wrong Side of Road - Неправильная сторона дороги;\n",
        "\n",
        "06 — Improper Passing - Неправильное движение;\n",
        "\n",
        "07 — Unsafe Lane Change - Небезопасная смена полосы движения;\n",
        "\n",
        "08 — Improper Turning - Неправильный поворот;\n",
        "\n",
        "09 — Automobile Right of Way - Автомобильное право проезда;\n",
        "\n",
        "10 — Pedestrian Right of Way - Пешеходное право проезда;\n",
        "\n",
        "11 — Pedestrian Violation - Нарушение пешеходами;\n",
        "\n",
        "12 — Traffic Signals and Signs - Дорожные сигналы и знаки;\n",
        "\n",
        "13 — Hazardous Parking - Неправильная парковка;\n",
        "\n",
        "14 — Lights - Освещение;\n",
        "\n",
        "15 — Brakes - Тормоза;\n",
        "\n",
        "16 — Other Equipment - Другое оборудование;\n",
        "\n",
        "17 — Other Hazardous Violation - Другие нарушения;\n",
        "\n",
        "18 — Other Than Driver (or Pedestrian) - Кроме водителя или пешехода;\n",
        "\n",
        "19 — Speeding - Скорость;\n",
        "\n",
        "20 — Pedestrian dui - Нарушение пешехода;\n",
        "\n",
        "21 — Unsafe Starting or Backing - Опасный старт;\n",
        "\n",
        "22 — Other Improper Driving - Другое неправильное вождение;\n",
        "\n",
        "23 — Pedestrian or “Other” Under the Influence of Alcohol or Drug - Пешеход или «Другой» в состоянии алкогольного или наркотического опьянения;\n",
        "\n",
        "24 — Fell Asleep - Заснул;\n",
        "\n",
        "00 — Unknown - Неизвестно;\n",
        "\n",
        "_ - Not Stated - Не указано.\n",
        "\n",
        "type_of_collision (тип аварии):\n",
        "\n",
        "A — Head-On (Лоб в лоб);\n",
        "\n",
        "B — Sideswipe (Сторона);\n",
        "\n",
        "C — Rear End (Столкновение задней частью);\n",
        "\n",
        "D — Broadside (Боковой удар);\n",
        "\n",
        "E — Hit Object (Удар объекта);\n",
        "\n",
        "F — Overturned (Опрокинутый);\n",
        "\n",
        "G — Vehicle (транспортное средство/ Пешеход);\n",
        "\n",
        "H — Other (Другое);\n",
        "\n",
        "_ - Not Stated (Не указано).\n",
        "\n",
        "motor_vehicle_involved_with (дополнительные участники ДТП):\n",
        "\n",
        "Other motor vehicle (Другой автомобиль);\n",
        "\n",
        "Fixed object (Неподвижный объект);\n",
        "\n",
        "Parked motor vehicle (Припаркованный автомобиль);\n",
        "\n",
        "Pedestrian (Пешеход);\n",
        "\n",
        "Bicycle (Велосипедист);\n",
        "\n",
        "Non-collision (Не столкновение);\n",
        "\n",
        "Other object (Другой объект);\n",
        "\n",
        "Motor vehicle on other roadway (Автомобиль на другой проезжей);\n",
        "\n",
        "Animal (Животное);\n",
        "\n",
        "Train (Поезд).\n",
        "\n",
        "road_condition_1 (дорожное состояние):\n",
        "\n",
        "A — Holes, Deep Ruts (Ямы, глубокая колея);\n",
        "\n",
        "B — Loose Material on Roadway (Сыпучий материал на проезжей части);\n",
        "\n",
        "C — Obstruction on Roadway (Препятствие на проезжей части);\n",
        "\n",
        "D — Construction or Repair Zone (Зона строительства или ремонта);\n",
        "\n",
        "E — Reduced Roadway Width (Уменьшенная ширина проезжей части);\n",
        "\n",
        "F — Flooded (Затоплено);\n",
        "\n",
        "G — Other (Другое);\n",
        "\n",
        "H — No Unusual Condition (Нет ничего необычного);\n",
        "\n",
        "_ — Not Stated (Не указано).\n",
        "\n",
        "control_device (устройство управления):\n",
        "\n",
        "A — Functioning (Функционирует);\n",
        "\n",
        "B — Not Functioning (Не функционирует);\n",
        "\n",
        "C — Obscured (Затемнённый);\n",
        "\n",
        "D — None (Нет);\n",
        "\n",
        "_ Not Stated (Не указано)."
      ]
    },
    {
      "cell_type": "markdown",
      "metadata": {
        "id": "-RGeQcUU3Ea8"
      },
      "source": [
        "### vehicles (описание автомобиля)\n",
        "\n",
        "id (индекс текущей таблицы);\n",
        "\n",
        "case_id (идентификационный номер в базе данных);\n",
        "\n",
        "vehicle_type (тип кузова):\n",
        "\n",
        "MINIVAN;\n",
        "\n",
        "COUPE;\n",
        "\n",
        "SEDAN;\n",
        "\n",
        "HATCHBACK;\n",
        "\n",
        "OTHER.\n",
        "\n",
        "vehicle_transmission (тип КПП):\n",
        "\n",
        "auto (Автоматическая).\n",
        "\n",
        "manual (Ручная).\n",
        "\n",
        "_ - Not Stated (Не указано)\n",
        "\n",
        "vehicle_age (возраст автомобиля)."
      ]
    },
    {
      "cell_type": "markdown",
      "metadata": {
        "id": "4M9VXnPM3Hku"
      },
      "source": [
        "### parties (описание участников происшествия)\n",
        "\n",
        "case_id (уникальный номер зарегистрированного происшествия в таблице происшествий);\n",
        "\n",
        "party_number (номер участника происшествия) - от 1 до N: по числу участников происшествия;\n",
        "\n",
        "party_type (тип участника происшествия):\n",
        "\n",
        "1 - Car (Авто);\n",
        "\n",
        "2 - Road bumper (Дорожные знаки);\n",
        "\n",
        "3 - Building (Строения);\n",
        "\n",
        "4 - Road signs (Отбойник);\n",
        "\n",
        "5 - Other (Другое);\n",
        "\n",
        "6 - Operator (Оператор);\n",
        "\n",
        "_ - Not Stated (Не указано).\n",
        "\n",
        "at_fault (виновность участника) - 0 или 1;\n",
        "\n",
        "insurance_premium (сумма страховки);\n",
        "\n",
        "party_drug_physical (состояние чуастника: физическое или с учетом принятых лекарств):\n",
        "\n",
        "E - Under Drug Influence (Под воздействием лекарств);\n",
        "\n",
        "F - Impairment Physical (Ухудшение состояния);\n",
        "\n",
        "G - Impairment Unknown (Не известно);\n",
        "\n",
        "H - Not Applicable (Не оценивался);\n",
        "\n",
        "I - Sleepy / Fatigued (Сонный / усталый);\n",
        "\n",
        "_ - Not Stated (Не указано).\n",
        "\n",
        "party_sobriety (трезвость участника):\n",
        "\n",
        "A - Had Not Been Drinking (Не пил);\n",
        "\n",
        "B - Had Been Drinking, Under Influence (Был пьян, под влиянием);\n",
        "\n",
        "C - Had Been Drinking, Not Under Influence (Был пьян, не под влиянием);\n",
        "\n",
        "D - Had Been Drinking, Impairment Unknown (Был пьян, ухудшение неизвестно);\n",
        "\n",
        "G - Impairment Unknown (Неизвестно ухудшение);\n",
        "\n",
        "H - Not Applicable (Не оценивался);\n",
        "\n",
        "_ - Not Stated (Не указано).\n",
        "\n",
        "cellphone_in_use (наличие телефона в автомобиле) - 0 или"
      ]
    },
    {
      "cell_type": "markdown",
      "metadata": {
        "id": "nPWN5VqW3LR-"
      },
      "source": [
        "## Шаг 1. Подключитесь к базе. Загрузите таблицы sql"
      ]
    },
    {
      "cell_type": "markdown",
      "metadata": {
        "id": "coJiix-D3OJK"
      },
      "source": [
        "##### Для начала загрузим все библиотеки, которые нам могут понадобиться для решения задачи"
      ]
    },
    {
      "cell_type": "code",
      "execution_count": null,
      "metadata": {
        "colab": {
          "base_uri": "https://localhost:8080/"
        },
        "id": "Nt3MqKxXxubc",
        "outputId": "7727213a-32fc-4f4b-9dd5-b824e97d7310"
      },
      "outputs": [
        {
          "name": "stdout",
          "output_type": "stream",
          "text": [
            "Note: you may need to restart the kernel to use updated packages.\n",
            "Note: you may need to restart the kernel to use updated packages.\n",
            "Note: you may need to restart the kernel to use updated packages.\n",
            "Requirement already satisfied: sqlalchemy<2.0 in /opt/conda/lib/python3.9/site-packages (1.4.51)\n",
            "Requirement already satisfied: greenlet!=0.4.17 in /opt/conda/lib/python3.9/site-packages (from sqlalchemy<2.0) (1.1.0)\n"
          ]
        }
      ],
      "source": [
        "%pip install phik -q\n",
        "%pip install torchmetrics -q\n",
        "%pip install -q captum\n",
        "!pip3 install --upgrade 'sqlalchemy<2.0'\n",
        "\n",
        "from sqlalchemy import create_engine, text\n",
        "import pandas as pd\n",
        "from math import ceil\n",
        "import matplotlib as mpl\n",
        "import matplotlib.pyplot as plt\n",
        "import numpy as np\n",
        "from sqlalchemy import create_engine, text as sql_text\n",
        "import seaborn as sns\n",
        "\n",
        "\n",
        "\n",
        "\n",
        "import phik\n",
        "from phik import report\n",
        "from phik.report import plot_correlation_matrix\n",
        "\n",
        "from lightgbm import LGBMClassifier\n",
        "from sklearn.ensemble import RandomForestClassifier\n",
        "from sklearn.preprocessing import OrdinalEncoder, StandardScaler\n",
        "from sklearn.tree import DecisionTreeClassifier\n",
        "from sklearn.metrics import confusion_matrix, ConfusionMatrixDisplay, f1_score, roc_auc_score, precision_score, recall_score\n",
        "from sklearn.model_selection import GridSearchCV, train_test_split, RandomizedSearchCV\n",
        "from sklearn.model_selection import cross_val_score\n",
        "\n",
        "\n",
        "\n",
        "import torch\n",
        "from torch import nn\n",
        "import torch.optim as optim\n",
        "import torch.nn.functional as F\n",
        "import torch.nn.init as init\n",
        "from torchmetrics.classification import BinaryF1Score"
      ]
    },
    {
      "cell_type": "markdown",
      "metadata": {
        "id": "jvCA1fVE3S-F"
      },
      "source": [
        "Подключимся к базе, после чего посмотрим на целостность наших данных, а в конце напишем промежуточный вывод по этому пункту. После, приступим к следующим шагам."
      ]
    },
    {
      "cell_type": "code",
      "execution_count": null,
      "metadata": {
        "id": "tqGKu-Pxxv60"
      },
      "outputs": [],
      "source": [
        "db_config = {\n",
        "'user': 'praktikum_student', # имя пользователя,\n",
        "'pwd': 'Sdf4$2;d-d30pp', # пароль,\n",
        "'host': 'rc1b-wcoijxj3yxfsf3fs.mdb.yandexcloud.net',\n",
        "'port': 6432, # порт подключения,\n",
        "'db': 'data-science-vehicle-db' # название базы данных,\n",
        "}\n",
        "\n",
        "# строка подключения к базе данных\n",
        "connection_string = 'postgresql://{}:{}@{}:{}/{}'.format(\n",
        "    db_config['user'],\n",
        "    db_config['pwd'],\n",
        "    db_config['host'],\n",
        "    db_config['port'],\n",
        "    db_config['db']\n",
        ")\n",
        "\n",
        "engine = create_engine(connection_string)"
      ]
    },
    {
      "cell_type": "markdown",
      "metadata": {
        "id": "eRVZ6tjB3Wpm"
      },
      "source": [
        "## Шаг 2. Проведите первичное исследование таблиц"
      ]
    },
    {
      "cell_type": "code",
      "execution_count": null,
      "metadata": {
        "id": "23NgJEmrxyCP"
      },
      "outputs": [],
      "source": [
        "# Загружаем только первые несколько строк из таблицы \"collisions\"\n",
        "query = '''\n",
        "SELECT *\n",
        "FROM collisions\n",
        "LIMIT 5;\n",
        "'''\n",
        "\n",
        "collisions = pd.read_sql_query(query, con=engine)"
      ]
    },
    {
      "cell_type": "code",
      "execution_count": null,
      "metadata": {
        "colab": {
          "base_uri": "https://localhost:8080/",
          "height": 330
        },
        "id": "-VhJwSSlx0N2",
        "outputId": "55a4f21a-f252-4614-8b2d-9e80304c8a39"
      },
      "outputs": [
        {
          "data": {
            "text/html": [
              "<div>\n",
              "<style scoped>\n",
              "    .dataframe tbody tr th:only-of-type {\n",
              "        vertical-align: middle;\n",
              "    }\n",
              "\n",
              "    .dataframe tbody tr th {\n",
              "        vertical-align: top;\n",
              "    }\n",
              "\n",
              "    .dataframe thead th {\n",
              "        text-align: right;\n",
              "    }\n",
              "</style>\n",
              "<table border=\"1\" class=\"dataframe\">\n",
              "  <thead>\n",
              "    <tr style=\"text-align: right;\">\n",
              "      <th></th>\n",
              "      <th>case_id</th>\n",
              "      <th>county_city_location</th>\n",
              "      <th>county_location</th>\n",
              "      <th>distance</th>\n",
              "      <th>direction</th>\n",
              "      <th>intersection</th>\n",
              "      <th>weather_1</th>\n",
              "      <th>location_type</th>\n",
              "      <th>collision_damage</th>\n",
              "      <th>party_count</th>\n",
              "      <th>primary_collision_factor</th>\n",
              "      <th>pcf_violation_category</th>\n",
              "      <th>type_of_collision</th>\n",
              "      <th>motor_vehicle_involved_with</th>\n",
              "      <th>road_surface</th>\n",
              "      <th>road_condition_1</th>\n",
              "      <th>lighting</th>\n",
              "      <th>control_device</th>\n",
              "      <th>collision_date</th>\n",
              "      <th>collision_time</th>\n",
              "    </tr>\n",
              "  </thead>\n",
              "  <tbody>\n",
              "    <tr>\n",
              "      <th>0</th>\n",
              "      <td>4083072</td>\n",
              "      <td>1942</td>\n",
              "      <td>los angeles</td>\n",
              "      <td>528.0</td>\n",
              "      <td>north</td>\n",
              "      <td>0</td>\n",
              "      <td>cloudy</td>\n",
              "      <td>highway</td>\n",
              "      <td>small damage</td>\n",
              "      <td>2</td>\n",
              "      <td>vehicle code violation</td>\n",
              "      <td>unsafe lane change</td>\n",
              "      <td>sideswipe</td>\n",
              "      <td>other motor vehicle</td>\n",
              "      <td>wet</td>\n",
              "      <td>normal</td>\n",
              "      <td>daylight</td>\n",
              "      <td>none</td>\n",
              "      <td>2009-01-22</td>\n",
              "      <td>07:25:00</td>\n",
              "    </tr>\n",
              "    <tr>\n",
              "      <th>1</th>\n",
              "      <td>4083075</td>\n",
              "      <td>4313</td>\n",
              "      <td>santa clara</td>\n",
              "      <td>0.0</td>\n",
              "      <td>None</td>\n",
              "      <td>1</td>\n",
              "      <td>clear</td>\n",
              "      <td>None</td>\n",
              "      <td>small damage</td>\n",
              "      <td>1</td>\n",
              "      <td>vehicle code violation</td>\n",
              "      <td>improper passing</td>\n",
              "      <td>hit object</td>\n",
              "      <td>fixed object</td>\n",
              "      <td>dry</td>\n",
              "      <td>normal</td>\n",
              "      <td>dark with street lights</td>\n",
              "      <td>functioning</td>\n",
              "      <td>2009-01-03</td>\n",
              "      <td>02:26:00</td>\n",
              "    </tr>\n",
              "    <tr>\n",
              "      <th>2</th>\n",
              "      <td>4083073</td>\n",
              "      <td>0109</td>\n",
              "      <td>alameda</td>\n",
              "      <td>0.0</td>\n",
              "      <td>None</td>\n",
              "      <td>1</td>\n",
              "      <td>clear</td>\n",
              "      <td>None</td>\n",
              "      <td>scratch</td>\n",
              "      <td>2</td>\n",
              "      <td>vehicle code violation</td>\n",
              "      <td>improper turning</td>\n",
              "      <td>broadside</td>\n",
              "      <td>other motor vehicle</td>\n",
              "      <td>dry</td>\n",
              "      <td>normal</td>\n",
              "      <td>dark with street lights</td>\n",
              "      <td>functioning</td>\n",
              "      <td>2009-01-11</td>\n",
              "      <td>03:32:00</td>\n",
              "    </tr>\n",
              "    <tr>\n",
              "      <th>3</th>\n",
              "      <td>4083077</td>\n",
              "      <td>0109</td>\n",
              "      <td>alameda</td>\n",
              "      <td>0.0</td>\n",
              "      <td>None</td>\n",
              "      <td>1</td>\n",
              "      <td>clear</td>\n",
              "      <td>None</td>\n",
              "      <td>scratch</td>\n",
              "      <td>2</td>\n",
              "      <td>vehicle code violation</td>\n",
              "      <td>automobile right of way</td>\n",
              "      <td>broadside</td>\n",
              "      <td>other motor vehicle</td>\n",
              "      <td>dry</td>\n",
              "      <td>normal</td>\n",
              "      <td>daylight</td>\n",
              "      <td>functioning</td>\n",
              "      <td>2009-01-11</td>\n",
              "      <td>10:35:00</td>\n",
              "    </tr>\n",
              "    <tr>\n",
              "      <th>4</th>\n",
              "      <td>4083087</td>\n",
              "      <td>4313</td>\n",
              "      <td>santa clara</td>\n",
              "      <td>0.0</td>\n",
              "      <td>None</td>\n",
              "      <td>1</td>\n",
              "      <td>clear</td>\n",
              "      <td>None</td>\n",
              "      <td>scratch</td>\n",
              "      <td>2</td>\n",
              "      <td>vehicle code violation</td>\n",
              "      <td>speeding</td>\n",
              "      <td>rear end</td>\n",
              "      <td>other motor vehicle</td>\n",
              "      <td>dry</td>\n",
              "      <td>None</td>\n",
              "      <td>dark with street lights</td>\n",
              "      <td>functioning</td>\n",
              "      <td>2009-01-02</td>\n",
              "      <td>22:43:00</td>\n",
              "    </tr>\n",
              "  </tbody>\n",
              "</table>\n",
              "</div>"
            ],
            "text/plain": [
              "   case_id county_city_location county_location  distance direction  \\\n",
              "0  4083072                 1942     los angeles     528.0     north   \n",
              "1  4083075                 4313     santa clara       0.0      None   \n",
              "2  4083073                 0109         alameda       0.0      None   \n",
              "3  4083077                 0109         alameda       0.0      None   \n",
              "4  4083087                 4313     santa clara       0.0      None   \n",
              "\n",
              "   intersection weather_1 location_type collision_damage  party_count  \\\n",
              "0             0    cloudy       highway     small damage            2   \n",
              "1             1     clear          None     small damage            1   \n",
              "2             1     clear          None          scratch            2   \n",
              "3             1     clear          None          scratch            2   \n",
              "4             1     clear          None          scratch            2   \n",
              "\n",
              "  primary_collision_factor   pcf_violation_category type_of_collision  \\\n",
              "0   vehicle code violation       unsafe lane change         sideswipe   \n",
              "1   vehicle code violation         improper passing        hit object   \n",
              "2   vehicle code violation         improper turning         broadside   \n",
              "3   vehicle code violation  automobile right of way         broadside   \n",
              "4   vehicle code violation                 speeding          rear end   \n",
              "\n",
              "  motor_vehicle_involved_with road_surface road_condition_1  \\\n",
              "0         other motor vehicle          wet           normal   \n",
              "1                fixed object          dry           normal   \n",
              "2         other motor vehicle          dry           normal   \n",
              "3         other motor vehicle          dry           normal   \n",
              "4         other motor vehicle          dry             None   \n",
              "\n",
              "                  lighting control_device collision_date collision_time  \n",
              "0                 daylight           none     2009-01-22       07:25:00  \n",
              "1  dark with street lights    functioning     2009-01-03       02:26:00  \n",
              "2  dark with street lights    functioning     2009-01-11       03:32:00  \n",
              "3                 daylight    functioning     2009-01-11       10:35:00  \n",
              "4  dark with street lights    functioning     2009-01-02       22:43:00  "
            ]
          },
          "execution_count": 4,
          "metadata": {},
          "output_type": "execute_result"
        }
      ],
      "source": [
        "collisions.head()"
      ]
    },
    {
      "cell_type": "code",
      "execution_count": null,
      "metadata": {
        "colab": {
          "base_uri": "https://localhost:8080/"
        },
        "id": "qc6sH1fwz-r6",
        "outputId": "436bf605-3a59-4e93-a4fd-d8dd2fae0d4d"
      },
      "outputs": [
        {
          "name": "stdout",
          "output_type": "stream",
          "text": [
            "<class 'pandas.core.frame.DataFrame'>\n",
            "RangeIndex: 5 entries, 0 to 4\n",
            "Data columns (total 20 columns):\n",
            " #   Column                       Non-Null Count  Dtype  \n",
            "---  ------                       --------------  -----  \n",
            " 0   case_id                      5 non-null      object \n",
            " 1   county_city_location         5 non-null      object \n",
            " 2   county_location              5 non-null      object \n",
            " 3   distance                     5 non-null      float64\n",
            " 4   direction                    1 non-null      object \n",
            " 5   intersection                 5 non-null      int64  \n",
            " 6   weather_1                    5 non-null      object \n",
            " 7   location_type                1 non-null      object \n",
            " 8   collision_damage             5 non-null      object \n",
            " 9   party_count                  5 non-null      int64  \n",
            " 10  primary_collision_factor     5 non-null      object \n",
            " 11  pcf_violation_category       5 non-null      object \n",
            " 12  type_of_collision            5 non-null      object \n",
            " 13  motor_vehicle_involved_with  5 non-null      object \n",
            " 14  road_surface                 5 non-null      object \n",
            " 15  road_condition_1             4 non-null      object \n",
            " 16  lighting                     5 non-null      object \n",
            " 17  control_device               5 non-null      object \n",
            " 18  collision_date               5 non-null      object \n",
            " 19  collision_time               5 non-null      object \n",
            "dtypes: float64(1), int64(2), object(17)\n",
            "memory usage: 928.0+ bytes\n"
          ]
        }
      ],
      "source": [
        "collisions.info()"
      ]
    },
    {
      "cell_type": "code",
      "execution_count": null,
      "metadata": {
        "id": "FqfQc5LP0Btk"
      },
      "outputs": [],
      "source": [
        "query = '''\n",
        "SELECT *\n",
        "FROM parties\n",
        "LIMIT 5;\n",
        "'''\n",
        "\n",
        "parties = pd.read_sql_query(query, con=engine)"
      ]
    },
    {
      "cell_type": "code",
      "execution_count": null,
      "metadata": {
        "colab": {
          "base_uri": "https://localhost:8080/",
          "height": 206
        },
        "id": "mOkXgD2U0DoN",
        "outputId": "24a35d98-4fc7-48ac-bd88-6a671fd8cbc1"
      },
      "outputs": [
        {
          "data": {
            "text/html": [
              "<div>\n",
              "<style scoped>\n",
              "    .dataframe tbody tr th:only-of-type {\n",
              "        vertical-align: middle;\n",
              "    }\n",
              "\n",
              "    .dataframe tbody tr th {\n",
              "        vertical-align: top;\n",
              "    }\n",
              "\n",
              "    .dataframe thead th {\n",
              "        text-align: right;\n",
              "    }\n",
              "</style>\n",
              "<table border=\"1\" class=\"dataframe\">\n",
              "  <thead>\n",
              "    <tr style=\"text-align: right;\">\n",
              "      <th></th>\n",
              "      <th>id</th>\n",
              "      <th>case_id</th>\n",
              "      <th>party_number</th>\n",
              "      <th>party_type</th>\n",
              "      <th>at_fault</th>\n",
              "      <th>insurance_premium</th>\n",
              "      <th>party_sobriety</th>\n",
              "      <th>party_drug_physical</th>\n",
              "      <th>cellphone_in_use</th>\n",
              "    </tr>\n",
              "  </thead>\n",
              "  <tbody>\n",
              "    <tr>\n",
              "      <th>0</th>\n",
              "      <td>22</td>\n",
              "      <td>3899454</td>\n",
              "      <td>1</td>\n",
              "      <td>road signs</td>\n",
              "      <td>1</td>\n",
              "      <td>29.0</td>\n",
              "      <td>had not been drinking</td>\n",
              "      <td>None</td>\n",
              "      <td>0</td>\n",
              "    </tr>\n",
              "    <tr>\n",
              "      <th>1</th>\n",
              "      <td>23</td>\n",
              "      <td>3899454</td>\n",
              "      <td>2</td>\n",
              "      <td>road signs</td>\n",
              "      <td>0</td>\n",
              "      <td>7.0</td>\n",
              "      <td>had not been drinking</td>\n",
              "      <td>None</td>\n",
              "      <td>0</td>\n",
              "    </tr>\n",
              "    <tr>\n",
              "      <th>2</th>\n",
              "      <td>29</td>\n",
              "      <td>3899462</td>\n",
              "      <td>2</td>\n",
              "      <td>car</td>\n",
              "      <td>0</td>\n",
              "      <td>21.0</td>\n",
              "      <td>had not been drinking</td>\n",
              "      <td>None</td>\n",
              "      <td>0</td>\n",
              "    </tr>\n",
              "    <tr>\n",
              "      <th>3</th>\n",
              "      <td>31</td>\n",
              "      <td>3899465</td>\n",
              "      <td>2</td>\n",
              "      <td>road signs</td>\n",
              "      <td>0</td>\n",
              "      <td>24.0</td>\n",
              "      <td>had not been drinking</td>\n",
              "      <td>None</td>\n",
              "      <td>0</td>\n",
              "    </tr>\n",
              "    <tr>\n",
              "      <th>4</th>\n",
              "      <td>41</td>\n",
              "      <td>3899478</td>\n",
              "      <td>2</td>\n",
              "      <td>road bumper</td>\n",
              "      <td>0</td>\n",
              "      <td>NaN</td>\n",
              "      <td>not applicable</td>\n",
              "      <td>not applicable</td>\n",
              "      <td>0</td>\n",
              "    </tr>\n",
              "  </tbody>\n",
              "</table>\n",
              "</div>"
            ],
            "text/plain": [
              "   id  case_id  party_number   party_type  at_fault  insurance_premium  \\\n",
              "0  22  3899454             1   road signs         1               29.0   \n",
              "1  23  3899454             2   road signs         0                7.0   \n",
              "2  29  3899462             2          car         0               21.0   \n",
              "3  31  3899465             2   road signs         0               24.0   \n",
              "4  41  3899478             2  road bumper         0                NaN   \n",
              "\n",
              "          party_sobriety party_drug_physical  cellphone_in_use  \n",
              "0  had not been drinking                None                 0  \n",
              "1  had not been drinking                None                 0  \n",
              "2  had not been drinking                None                 0  \n",
              "3  had not been drinking                None                 0  \n",
              "4         not applicable      not applicable                 0  "
            ]
          },
          "execution_count": 7,
          "metadata": {},
          "output_type": "execute_result"
        }
      ],
      "source": [
        "parties.head()"
      ]
    },
    {
      "cell_type": "code",
      "execution_count": null,
      "metadata": {
        "colab": {
          "base_uri": "https://localhost:8080/"
        },
        "id": "wauMJfTb0NeY",
        "outputId": "4504b1d2-81e0-4bb6-e30a-3f8dea824c75"
      },
      "outputs": [
        {
          "name": "stdout",
          "output_type": "stream",
          "text": [
            "<class 'pandas.core.frame.DataFrame'>\n",
            "RangeIndex: 5 entries, 0 to 4\n",
            "Data columns (total 9 columns):\n",
            " #   Column               Non-Null Count  Dtype  \n",
            "---  ------               --------------  -----  \n",
            " 0   id                   5 non-null      int64  \n",
            " 1   case_id              5 non-null      object \n",
            " 2   party_number         5 non-null      int64  \n",
            " 3   party_type           5 non-null      object \n",
            " 4   at_fault             5 non-null      int64  \n",
            " 5   insurance_premium    4 non-null      float64\n",
            " 6   party_sobriety       5 non-null      object \n",
            " 7   party_drug_physical  1 non-null      object \n",
            " 8   cellphone_in_use     5 non-null      int64  \n",
            "dtypes: float64(1), int64(4), object(4)\n",
            "memory usage: 488.0+ bytes\n"
          ]
        }
      ],
      "source": [
        "parties.info()"
      ]
    },
    {
      "cell_type": "code",
      "execution_count": null,
      "metadata": {
        "id": "-mGe7u780Oac"
      },
      "outputs": [],
      "source": [
        "query = '''\n",
        "SELECT *\n",
        "FROM vehicles;\n",
        "'''\n",
        "\n",
        "vehicles = pd.read_sql_query(query, con=engine)"
      ]
    },
    {
      "cell_type": "code",
      "execution_count": null,
      "metadata": {
        "colab": {
          "base_uri": "https://localhost:8080/",
          "height": 206
        },
        "id": "kXxpeJKY0QRU",
        "outputId": "0214c249-10a6-4143-c557-345892485028"
      },
      "outputs": [
        {
          "data": {
            "text/html": [
              "<div>\n",
              "<style scoped>\n",
              "    .dataframe tbody tr th:only-of-type {\n",
              "        vertical-align: middle;\n",
              "    }\n",
              "\n",
              "    .dataframe tbody tr th {\n",
              "        vertical-align: top;\n",
              "    }\n",
              "\n",
              "    .dataframe thead th {\n",
              "        text-align: right;\n",
              "    }\n",
              "</style>\n",
              "<table border=\"1\" class=\"dataframe\">\n",
              "  <thead>\n",
              "    <tr style=\"text-align: right;\">\n",
              "      <th></th>\n",
              "      <th>id</th>\n",
              "      <th>case_id</th>\n",
              "      <th>party_number</th>\n",
              "      <th>vehicle_type</th>\n",
              "      <th>vehicle_transmission</th>\n",
              "      <th>vehicle_age</th>\n",
              "    </tr>\n",
              "  </thead>\n",
              "  <tbody>\n",
              "    <tr>\n",
              "      <th>0</th>\n",
              "      <td>1175713</td>\n",
              "      <td>5305032</td>\n",
              "      <td>2</td>\n",
              "      <td>sedan</td>\n",
              "      <td>manual</td>\n",
              "      <td>3.0</td>\n",
              "    </tr>\n",
              "    <tr>\n",
              "      <th>1</th>\n",
              "      <td>1</td>\n",
              "      <td>3858022</td>\n",
              "      <td>1</td>\n",
              "      <td>sedan</td>\n",
              "      <td>auto</td>\n",
              "      <td>3.0</td>\n",
              "    </tr>\n",
              "    <tr>\n",
              "      <th>2</th>\n",
              "      <td>1175712</td>\n",
              "      <td>5305030</td>\n",
              "      <td>1</td>\n",
              "      <td>sedan</td>\n",
              "      <td>auto</td>\n",
              "      <td>3.0</td>\n",
              "    </tr>\n",
              "    <tr>\n",
              "      <th>3</th>\n",
              "      <td>1175717</td>\n",
              "      <td>5305033</td>\n",
              "      <td>3</td>\n",
              "      <td>sedan</td>\n",
              "      <td>auto</td>\n",
              "      <td>5.0</td>\n",
              "    </tr>\n",
              "    <tr>\n",
              "      <th>4</th>\n",
              "      <td>1175722</td>\n",
              "      <td>5305034</td>\n",
              "      <td>2</td>\n",
              "      <td>sedan</td>\n",
              "      <td>auto</td>\n",
              "      <td>5.0</td>\n",
              "    </tr>\n",
              "  </tbody>\n",
              "</table>\n",
              "</div>"
            ],
            "text/plain": [
              "        id  case_id  party_number vehicle_type vehicle_transmission  \\\n",
              "0  1175713  5305032             2        sedan               manual   \n",
              "1        1  3858022             1        sedan                 auto   \n",
              "2  1175712  5305030             1        sedan                 auto   \n",
              "3  1175717  5305033             3        sedan                 auto   \n",
              "4  1175722  5305034             2        sedan                 auto   \n",
              "\n",
              "   vehicle_age  \n",
              "0          3.0  \n",
              "1          3.0  \n",
              "2          3.0  \n",
              "3          5.0  \n",
              "4          5.0  "
            ]
          },
          "execution_count": 10,
          "metadata": {},
          "output_type": "execute_result"
        }
      ],
      "source": [
        "vehicles.head()"
      ]
    },
    {
      "cell_type": "code",
      "execution_count": null,
      "metadata": {
        "colab": {
          "base_uri": "https://localhost:8080/"
        },
        "id": "rPtCg5kb0fu_",
        "outputId": "c80991fd-a06e-4113-c46f-b367e58e51ed"
      },
      "outputs": [
        {
          "name": "stdout",
          "output_type": "stream",
          "text": [
            "<class 'pandas.core.frame.DataFrame'>\n",
            "RangeIndex: 1021234 entries, 0 to 1021233\n",
            "Data columns (total 6 columns):\n",
            " #   Column                Non-Null Count    Dtype  \n",
            "---  ------                --------------    -----  \n",
            " 0   id                    1021234 non-null  int64  \n",
            " 1   case_id               1021234 non-null  object \n",
            " 2   party_number          1021234 non-null  int64  \n",
            " 3   vehicle_type          1021234 non-null  object \n",
            " 4   vehicle_transmission  997575 non-null   object \n",
            " 5   vehicle_age           996652 non-null   float64\n",
            "dtypes: float64(1), int64(2), object(3)\n",
            "memory usage: 46.7+ MB\n"
          ]
        }
      ],
      "source": [
        "vehicles.info()"
      ]
    },
    {
      "cell_type": "markdown",
      "metadata": {
        "id": "UMnwdIg23ncQ"
      },
      "source": [
        "##### Промежуточный вывод"
      ]
    },
    {
      "cell_type": "markdown",
      "metadata": {
        "id": "QC1ZbVM33pTI"
      },
      "source": [
        "У нас имеется набор данных, состоящий из трех таблиц. В соответствии с условием, каждая таблица содержит информацию о различных аспектах происшествий. Каждая таблица имеет описание столбцов, которые характеризуют данные. Общим ключом, используемым для связи таблиц, является case_id, который является уникальным идентификатором каждого происшествия. Кроме того, таблицы parties и vehicles связаны еще одним ключом - party_number, который указывает на номер участника происшествия.\n",
        "\n",
        "По сути, таблица parties содержит информацию обо всех участниках ДТП, включая людей, автомобили и сторонние предметы. Таблица vehicles дополняет эту информацию, освещая только аспекты, связанные с автомобилями.\n",
        "\n",
        "Общее количество записей в таблице parties составляет 2,7 миллиона, в таблице collisions - 1,4 миллиона, а в таблице vehicles - 1 миллион."
      ]
    },
    {
      "cell_type": "markdown",
      "metadata": {
        "id": "eP902KIG3uTT"
      },
      "source": [
        "##  Шаг 3. Проведите статистический анализ факторов ДТП"
      ]
    },
    {
      "cell_type": "markdown",
      "metadata": {
        "id": "MEBu5Zgf3xEZ"
      },
      "source": [
        "###### Изучим кол-во аварий по месяцам"
      ]
    },
    {
      "cell_type": "code",
      "execution_count": null,
      "metadata": {
        "id": "UM1pT_cO0krZ"
      },
      "outputs": [],
      "source": [
        "query = '''\n",
        "SELECT EXTRACT(YEAR FROM collision_date) AS year_collision,\n",
        "       EXTRACT(MONTH FROM collision_date) AS month_collision,\n",
        "       COUNT(case_id) AS count_collision\n",
        "FROM collisions\n",
        "GROUP BY year_collision, month_collision\n",
        "ORDER BY year_collision, count_collision DESC\n",
        "'''\n",
        "collisions_count = pd.read_sql_query(query, con=engine)"
      ]
    },
    {
      "cell_type": "code",
      "execution_count": null,
      "metadata": {
        "colab": {
          "base_uri": "https://localhost:8080/",
          "height": 206
        },
        "id": "Ztvyzfwd0ktx",
        "outputId": "2f99dc83-f072-44fb-e65a-46fe54f7dceb"
      },
      "outputs": [
        {
          "data": {
            "text/html": [
              "<div>\n",
              "<style scoped>\n",
              "    .dataframe tbody tr th:only-of-type {\n",
              "        vertical-align: middle;\n",
              "    }\n",
              "\n",
              "    .dataframe tbody tr th {\n",
              "        vertical-align: top;\n",
              "    }\n",
              "\n",
              "    .dataframe thead th {\n",
              "        text-align: right;\n",
              "    }\n",
              "</style>\n",
              "<table border=\"1\" class=\"dataframe\">\n",
              "  <thead>\n",
              "    <tr style=\"text-align: right;\">\n",
              "      <th></th>\n",
              "      <th>year_collision</th>\n",
              "      <th>month_collision</th>\n",
              "      <th>count_collision</th>\n",
              "    </tr>\n",
              "  </thead>\n",
              "  <tbody>\n",
              "    <tr>\n",
              "      <th>0</th>\n",
              "      <td>2009.0</td>\n",
              "      <td>10.0</td>\n",
              "      <td>37835</td>\n",
              "    </tr>\n",
              "    <tr>\n",
              "      <th>1</th>\n",
              "      <td>2009.0</td>\n",
              "      <td>5.0</td>\n",
              "      <td>36916</td>\n",
              "    </tr>\n",
              "    <tr>\n",
              "      <th>2</th>\n",
              "      <td>2009.0</td>\n",
              "      <td>3.0</td>\n",
              "      <td>36648</td>\n",
              "    </tr>\n",
              "    <tr>\n",
              "      <th>3</th>\n",
              "      <td>2009.0</td>\n",
              "      <td>12.0</td>\n",
              "      <td>36060</td>\n",
              "    </tr>\n",
              "    <tr>\n",
              "      <th>4</th>\n",
              "      <td>2009.0</td>\n",
              "      <td>9.0</td>\n",
              "      <td>35555</td>\n",
              "    </tr>\n",
              "  </tbody>\n",
              "</table>\n",
              "</div>"
            ],
            "text/plain": [
              "   year_collision  month_collision  count_collision\n",
              "0          2009.0             10.0            37835\n",
              "1          2009.0              5.0            36916\n",
              "2          2009.0              3.0            36648\n",
              "3          2009.0             12.0            36060\n",
              "4          2009.0              9.0            35555"
            ]
          },
          "execution_count": 13,
          "metadata": {},
          "output_type": "execute_result"
        }
      ],
      "source": [
        "collisions_count.head()"
      ]
    },
    {
      "cell_type": "code",
      "execution_count": null,
      "metadata": {
        "colab": {
          "base_uri": "https://localhost:8080/",
          "height": 795
        },
        "id": "RFw5kftq0kwk",
        "outputId": "6e63416a-7396-491a-e605-77445d826088"
      },
      "outputs": [
        {
          "data": {
            "image/png": "[encoded data removed]",
            "text/plain": [
              "<Figure size 1440x720 with 1 Axes>"
            ]
          },
          "metadata": {},
          "output_type": "display_data"
        }
      ],
      "source": [
        "# Задаем стиль графика\n",
        "sns.set_style(\"whitegrid\")\n",
        "\n",
        "# Создаем график и указываем размеры\n",
        "fig, ax = plt.subplots(figsize=(20, 10))\n",
        "\n",
        "# Строим столбчатую диаграмму\n",
        "sns.barplot(data=collisions_count, x='month_collision', y='count_collision', hue='year_collision', palette='Set2')\n",
        "\n",
        "# Задаем заголовок и подписи осей\n",
        "plt.title('Количество аварий в месяц')\n",
        "plt.xlabel('Месяц')\n",
        "plt.ylabel('Количество аварий')\n",
        "\n",
        "# Отображаем график\n",
        "plt.show()"
      ]
    },
    {
      "cell_type": "markdown",
      "metadata": {
        "id": "cq08PUlp3-k0"
      },
      "source": [
        "Имеющиеся данные о дорожно-транспортных происшествиях охватывают период с 2009 по 2012 годы. В то время имеется значительное количество записей. Однако за 2013 и 2020 годы информация о происшествиях доступна лишь в небольшом количестве, и их можно считать нерепрезентативными для анализа. С учетом этого, можно заметить, что после июня 2012 года произошло резкое снижение числа ДТП.\n",
        "\n",
        "Такое падение может быть обусловлено каким-то изменением в правилах и нормах, которое повлияло на уменьшение аварий, так и неполнотой данных. Возможно, в этот период были введены новые меры безопасности на дорогах или проведены реформы в системе учета ДТП, что может объяснить наблюдаемую тенденцию.\n",
        "\n",
        "Теперь предлагается подсчитать суммарную статистику происшествий по месяцам, однако рекомендуется исключить данные за 2013 и 2020 годы, чтобы избежать искажения результатов.\n",
        "\n",
        "Кроме того, стоит отметить, что количество дорожно-транспортных происшествий (ДТП) в марте было выше с 2009 по 2012 годы. Вероятная причина этого заключается в переменчивой погоде в этом месяце: когда температура днем поднималась выше нуля, а ночью опускалась ниже нуля, на дорогах мог образовываться гололед."
      ]
    },
    {
      "cell_type": "code",
      "execution_count": null,
      "metadata": {
        "id": "PuP_vEam0ky-"
      },
      "outputs": [],
      "source": [
        "query = '''\n",
        "WITH t AS (SELECT DATE_TRUNC('month', collision_date)::date AS date_month,\n",
        "                COUNT(*) AS cnt\n",
        "           FROM collisions\n",
        "           GROUP BY DATE_TRUNC('month', collision_date)::date)\n",
        "\n",
        "SELECT EXTRACT(MONTH FROM date_month)::int AS month,\n",
        "    AVG(cnt)::int\n",
        "FROM t\n",
        "WHERE EXTRACT(YEAR FROM date_month) BETWEEN 2009 AND 2012\n",
        "GROUP BY EXTRACT(MONTH FROM date_month)\n",
        "ORDER BY avg DESC;\n",
        "'''\n",
        "\n",
        "collisions_per_month = pd.read_sql_query(query, con=engine)"
      ]
    },
    {
      "cell_type": "code",
      "execution_count": null,
      "metadata": {
        "colab": {
          "base_uri": "https://localhost:8080/",
          "height": 426
        },
        "id": "1GDmK-zu0k1i",
        "outputId": "9fc75fda-fa67-41a5-e22d-75e1ff55ce18"
      },
      "outputs": [
        {
          "data": {
            "text/html": [
              "<div>\n",
              "<style scoped>\n",
              "    .dataframe tbody tr th:only-of-type {\n",
              "        vertical-align: middle;\n",
              "    }\n",
              "\n",
              "    .dataframe tbody tr th {\n",
              "        vertical-align: top;\n",
              "    }\n",
              "\n",
              "    .dataframe thead th {\n",
              "        text-align: right;\n",
              "    }\n",
              "</style>\n",
              "<table border=\"1\" class=\"dataframe\">\n",
              "  <thead>\n",
              "    <tr style=\"text-align: right;\">\n",
              "      <th></th>\n",
              "      <th>month</th>\n",
              "      <th>avg</th>\n",
              "    </tr>\n",
              "  </thead>\n",
              "  <tbody>\n",
              "    <tr>\n",
              "      <th>0</th>\n",
              "      <td>3</td>\n",
              "      <td>34884</td>\n",
              "    </tr>\n",
              "    <tr>\n",
              "      <th>1</th>\n",
              "      <td>1</td>\n",
              "      <td>32975</td>\n",
              "    </tr>\n",
              "    <tr>\n",
              "      <th>2</th>\n",
              "      <td>5</td>\n",
              "      <td>32579</td>\n",
              "    </tr>\n",
              "    <tr>\n",
              "      <th>3</th>\n",
              "      <td>4</td>\n",
              "      <td>32544</td>\n",
              "    </tr>\n",
              "    <tr>\n",
              "      <th>4</th>\n",
              "      <td>2</td>\n",
              "      <td>32188</td>\n",
              "    </tr>\n",
              "    <tr>\n",
              "      <th>5</th>\n",
              "      <td>10</td>\n",
              "      <td>28059</td>\n",
              "    </tr>\n",
              "    <tr>\n",
              "      <th>6</th>\n",
              "      <td>12</td>\n",
              "      <td>26986</td>\n",
              "    </tr>\n",
              "    <tr>\n",
              "      <th>7</th>\n",
              "      <td>9</td>\n",
              "      <td>26290</td>\n",
              "    </tr>\n",
              "    <tr>\n",
              "      <th>8</th>\n",
              "      <td>11</td>\n",
              "      <td>26193</td>\n",
              "    </tr>\n",
              "    <tr>\n",
              "      <th>9</th>\n",
              "      <td>8</td>\n",
              "      <td>26022</td>\n",
              "    </tr>\n",
              "    <tr>\n",
              "      <th>10</th>\n",
              "      <td>6</td>\n",
              "      <td>25648</td>\n",
              "    </tr>\n",
              "    <tr>\n",
              "      <th>11</th>\n",
              "      <td>7</td>\n",
              "      <td>25556</td>\n",
              "    </tr>\n",
              "  </tbody>\n",
              "</table>\n",
              "</div>"
            ],
            "text/plain": [
              "    month    avg\n",
              "0       3  34884\n",
              "1       1  32975\n",
              "2       5  32579\n",
              "3       4  32544\n",
              "4       2  32188\n",
              "5      10  28059\n",
              "6      12  26986\n",
              "7       9  26290\n",
              "8      11  26193\n",
              "9       8  26022\n",
              "10      6  25648\n",
              "11      7  25556"
            ]
          },
          "execution_count": 16,
          "metadata": {},
          "output_type": "execute_result"
        }
      ],
      "source": [
        "collisions_per_month"
      ]
    },
    {
      "cell_type": "code",
      "execution_count": null,
      "metadata": {
        "colab": {
          "base_uri": "https://localhost:8080/",
          "height": 795
        },
        "id": "yyhB7n8e0k35",
        "outputId": "ae53f8fb-efba-4881-be20-9076898a7bb4"
      },
      "outputs": [
        {
          "data": {
            "image/png": "[encoded data removed]",
            "text/plain": [
              "<Figure size 1440x720 with 1 Axes>"
            ]
          },
          "metadata": {},
          "output_type": "display_data"
        }
      ],
      "source": [
        "# Задаем стиль графика\n",
        "sns.set_style(\"whitegrid\")\n",
        "\n",
        "# Создаем график и указываем размеры\n",
        "fig, ax = plt.subplots(figsize=(20, 10))\n",
        "\n",
        "# Строим столбчатую диаграмму\n",
        "sns.barplot(data=collisions_per_month, x='month', y='avg', hue='month', palette='Set2')\n",
        "\n",
        "# Задаем заголовок и подписи осей\n",
        "plt.title('Количество ДТП по месяцам в среднем 2009-2012')\n",
        "plt.xlabel('Месяц')\n",
        "plt.ylabel('Среднее количество')\n",
        "\n",
        "# Отображаем график\n",
        "plt.show()"
      ]
    },
    {
      "cell_type": "markdown",
      "metadata": {
        "id": "PoyjRHsB5BPw"
      },
      "source": [
        "##### Следующее на что стоит обратить внимание - это состояние дороги на момент аварии."
      ]
    },
    {
      "cell_type": "markdown",
      "metadata": {
        "id": "Ji5MSxnt46Yb"
      },
      "source": [
        "По изображенному графику можно сделать вывод, что в период с января по май отмечается наибольшее количество аварий."
      ]
    },
    {
      "cell_type": "code",
      "execution_count": null,
      "metadata": {
        "colab": {
          "base_uri": "https://localhost:8080/",
          "height": 520
        },
        "id": "0LZpAnj_4_UM",
        "outputId": "06ac3129-ac9b-42fa-ef7c-9f0b84f9d193"
      },
      "outputs": [
        {
          "data": {
            "text/html": [
              "<div>\n",
              "<style scoped>\n",
              "    .dataframe tbody tr th:only-of-type {\n",
              "        vertical-align: middle;\n",
              "    }\n",
              "\n",
              "    .dataframe tbody tr th {\n",
              "        vertical-align: top;\n",
              "    }\n",
              "\n",
              "    .dataframe thead th {\n",
              "        text-align: right;\n",
              "    }\n",
              "</style>\n",
              "<table border=\"1\" class=\"dataframe\">\n",
              "  <thead>\n",
              "    <tr style=\"text-align: right;\">\n",
              "      <th></th>\n",
              "      <th>collision_damage</th>\n",
              "      <th>road_surface</th>\n",
              "      <th>count</th>\n",
              "    </tr>\n",
              "  </thead>\n",
              "  <tbody>\n",
              "    <tr>\n",
              "      <th>0</th>\n",
              "      <td>fatal</td>\n",
              "      <td>dry</td>\n",
              "      <td>9823</td>\n",
              "    </tr>\n",
              "    <tr>\n",
              "      <th>1</th>\n",
              "      <td>fatal</td>\n",
              "      <td>wet</td>\n",
              "      <td>857</td>\n",
              "    </tr>\n",
              "    <tr>\n",
              "      <th>2</th>\n",
              "      <td>fatal</td>\n",
              "      <td>None</td>\n",
              "      <td>55</td>\n",
              "    </tr>\n",
              "    <tr>\n",
              "      <th>3</th>\n",
              "      <td>fatal</td>\n",
              "      <td>snowy</td>\n",
              "      <td>46</td>\n",
              "    </tr>\n",
              "    <tr>\n",
              "      <th>4</th>\n",
              "      <td>fatal</td>\n",
              "      <td>slippery</td>\n",
              "      <td>12</td>\n",
              "    </tr>\n",
              "    <tr>\n",
              "      <th>5</th>\n",
              "      <td>middle damage</td>\n",
              "      <td>dry</td>\n",
              "      <td>151015</td>\n",
              "    </tr>\n",
              "    <tr>\n",
              "      <th>6</th>\n",
              "      <td>middle damage</td>\n",
              "      <td>wet</td>\n",
              "      <td>13190</td>\n",
              "    </tr>\n",
              "    <tr>\n",
              "      <th>7</th>\n",
              "      <td>middle damage</td>\n",
              "      <td>None</td>\n",
              "      <td>1378</td>\n",
              "    </tr>\n",
              "    <tr>\n",
              "      <th>8</th>\n",
              "      <td>middle damage</td>\n",
              "      <td>snowy</td>\n",
              "      <td>762</td>\n",
              "    </tr>\n",
              "    <tr>\n",
              "      <th>9</th>\n",
              "      <td>middle damage</td>\n",
              "      <td>slippery</td>\n",
              "      <td>238</td>\n",
              "    </tr>\n",
              "    <tr>\n",
              "      <th>10</th>\n",
              "      <td>scratch</td>\n",
              "      <td>dry</td>\n",
              "      <td>307963</td>\n",
              "    </tr>\n",
              "    <tr>\n",
              "      <th>11</th>\n",
              "      <td>scratch</td>\n",
              "      <td>wet</td>\n",
              "      <td>33301</td>\n",
              "    </tr>\n",
              "    <tr>\n",
              "      <th>12</th>\n",
              "      <td>scratch</td>\n",
              "      <td>None</td>\n",
              "      <td>3275</td>\n",
              "    </tr>\n",
              "    <tr>\n",
              "      <th>13</th>\n",
              "      <td>scratch</td>\n",
              "      <td>snowy</td>\n",
              "      <td>1259</td>\n",
              "    </tr>\n",
              "    <tr>\n",
              "      <th>14</th>\n",
              "      <td>scratch</td>\n",
              "      <td>slippery</td>\n",
              "      <td>308</td>\n",
              "    </tr>\n",
              "  </tbody>\n",
              "</table>\n",
              "</div>"
            ],
            "text/plain": [
              "   collision_damage road_surface   count\n",
              "0             fatal          dry    9823\n",
              "1             fatal          wet     857\n",
              "2             fatal         None      55\n",
              "3             fatal        snowy      46\n",
              "4             fatal     slippery      12\n",
              "5     middle damage          dry  151015\n",
              "6     middle damage          wet   13190\n",
              "7     middle damage         None    1378\n",
              "8     middle damage        snowy     762\n",
              "9     middle damage     slippery     238\n",
              "10          scratch          dry  307963\n",
              "11          scratch          wet   33301\n",
              "12          scratch         None    3275\n",
              "13          scratch        snowy    1259\n",
              "14          scratch     slippery     308"
            ]
          },
          "execution_count": 18,
          "metadata": {},
          "output_type": "execute_result"
        }
      ],
      "source": [
        "query = '''\n",
        "SELECT collision_damage,\n",
        "       road_surface AS road_surface,\n",
        "       COUNT(collision_damage)\n",
        "FROM collisions\n",
        "GROUP BY collision_damage, road_surface\n",
        "ORDER BY collision_damage, COUNT(collision_damage) DESC\n",
        "'''\n",
        "road = pd.read_sql_query(query, con=engine)\n",
        "road.head(15)"
      ]
    },
    {
      "cell_type": "code",
      "execution_count": null,
      "metadata": {
        "colab": {
          "base_uri": "https://localhost:8080/",
          "height": 829
        },
        "id": "VxdzCkxk5Efz",
        "outputId": "511f1ddb-d906-4cf7-9ce2-427df653ac7b"
      },
      "outputs": [
        {
          "data": {
            "image/png": "[encoded data removed]",
            "text/plain": [
              "<Figure size 720x720 with 1 Axes>"
            ]
          },
          "metadata": {},
          "output_type": "display_data"
        }
      ],
      "source": [
        "plt.figure(figsize=(10, 10))\n",
        "data = road.groupby('collision_damage')['count'].sum()\n",
        "plt.pie(data, labels=data.index, autopct='%.1f%%')\n",
        "plt.title('Количество повреждений транспортных средств, исходя из состояния дороги')\n",
        "plt.show()"
      ]
    },
    {
      "cell_type": "markdown",
      "metadata": {
        "id": "anvenrvw5SaS"
      },
      "source": [
        "Согласно исследованиям, больше всего аварий происходит на сухих дорогах. Это может быть связано с тем, что многие водители чувствуют себя более уверенно и безопасно на сухом асфальте, что иногда приводит к неосторожному вождению и нарушению правил дорожного движения. Однако также стоит отметить, что много ДТП происходит и на сырых дорогах, особенно во время дождей или после них, когда поверхность покрыта влагой или сыростью.\n",
        "\n",
        "Повреждения, которые наиболее часто возникают в результате аварий, включают небольшие дефекты и царапины."
      ]
    },
    {
      "cell_type": "code",
      "execution_count": null,
      "metadata": {
        "colab": {
          "base_uri": "https://localhost:8080/",
          "height": 206
        },
        "id": "CzktWFsB5GsR",
        "outputId": "66e2bf7b-7b4e-4431-86ee-59df1f7dbb18"
      },
      "outputs": [
        {
          "data": {
            "text/html": [
              "<div>\n",
              "<style scoped>\n",
              "    .dataframe tbody tr th:only-of-type {\n",
              "        vertical-align: middle;\n",
              "    }\n",
              "\n",
              "    .dataframe tbody tr th {\n",
              "        vertical-align: top;\n",
              "    }\n",
              "\n",
              "    .dataframe thead th {\n",
              "        text-align: right;\n",
              "    }\n",
              "</style>\n",
              "<table border=\"1\" class=\"dataframe\">\n",
              "  <thead>\n",
              "    <tr style=\"text-align: right;\">\n",
              "      <th></th>\n",
              "      <th>collision_damage</th>\n",
              "      <th>road_condition</th>\n",
              "      <th>count</th>\n",
              "    </tr>\n",
              "  </thead>\n",
              "  <tbody>\n",
              "    <tr>\n",
              "      <th>0</th>\n",
              "      <td>fatal</td>\n",
              "      <td>construction</td>\n",
              "      <td>174</td>\n",
              "    </tr>\n",
              "    <tr>\n",
              "      <th>1</th>\n",
              "      <td>fatal</td>\n",
              "      <td>other</td>\n",
              "      <td>54</td>\n",
              "    </tr>\n",
              "    <tr>\n",
              "      <th>2</th>\n",
              "      <td>fatal</td>\n",
              "      <td>obstruction</td>\n",
              "      <td>49</td>\n",
              "    </tr>\n",
              "    <tr>\n",
              "      <th>3</th>\n",
              "      <td>fatal</td>\n",
              "      <td>loose material</td>\n",
              "      <td>34</td>\n",
              "    </tr>\n",
              "    <tr>\n",
              "      <th>4</th>\n",
              "      <td>fatal</td>\n",
              "      <td>holes</td>\n",
              "      <td>23</td>\n",
              "    </tr>\n",
              "  </tbody>\n",
              "</table>\n",
              "</div>"
            ],
            "text/plain": [
              "  collision_damage  road_condition  count\n",
              "0            fatal    construction    174\n",
              "1            fatal           other     54\n",
              "2            fatal     obstruction     49\n",
              "3            fatal  loose material     34\n",
              "4            fatal           holes     23"
            ]
          },
          "execution_count": 20,
          "metadata": {},
          "output_type": "execute_result"
        }
      ],
      "source": [
        "query = '''\n",
        "SELECT collision_damage,\n",
        "       road_condition_1 AS road_condition,\n",
        "       COUNT(collision_damage)\n",
        "FROM collisions\n",
        "WHERE road_condition_1 != 'normal'\n",
        "GROUP BY collision_damage, road_condition\n",
        "ORDER BY collision_damage, COUNT(collision_damage) DESC\n",
        "'''\n",
        "road_collisions = pd.read_sql_query(query, con=engine)\n",
        "road_collisions.head()"
      ]
    },
    {
      "cell_type": "code",
      "execution_count": null,
      "metadata": {
        "colab": {
          "base_uri": "https://localhost:8080/",
          "height": 872
        },
        "id": "eF96aIER5VAS",
        "outputId": "e70afefd-25ab-4264-ad06-0a1d0451fff3"
      },
      "outputs": [
        {
          "data": {
            "image/png": "[encoded data removed]",
            "text/plain": [
              "<Figure size 1080x720 with 1 Axes>"
            ]
          },
          "metadata": {},
          "output_type": "display_data"
        }
      ],
      "source": [
        "sns.set_style(\"whitegrid\")\n",
        "\n",
        "# Создаем график и указываем размеры\n",
        "fig, ax = plt.subplots(figsize=(15, 10))\n",
        "\n",
        "# Строим столбчатую диаграмму\n",
        "sns.barplot(data=road_collisions, x='collision_damage', y='count',hue='road_condition', palette='Set2')\n",
        "\n",
        "# Задаем заголовок и подписи осей\n",
        "plt.title('Количество повреждений транспортных средств, исходя из дорожного состояния')\n",
        "plt.xlabel('Серьезность повреждений')\n",
        "plt.ylabel('Количество повреждений')\n",
        "\n",
        "# Отображаем график\n",
        "plt.show()"
      ]
    },
    {
      "cell_type": "markdown",
      "metadata": {
        "id": "bb53CzSN5gM8"
      },
      "source": [
        "Частые аварии на дорогах происходят из-за плохого состояния дорожного покрытия. Например, несовершенное строительство, присутствие препятствий на проезжей части или неровности могут стать причиной ДТП, которые в свою очередь приводят к различным повреждениям автомобилей, таким как царапины, небольшие или средние деформации."
      ]
    },
    {
      "cell_type": "code",
      "execution_count": null,
      "metadata": {
        "colab": {
          "base_uri": "https://localhost:8080/",
          "height": 206
        },
        "id": "AZ9W4rBF5Wlr",
        "outputId": "bd982b72-cf50-4f01-8599-d16a472e7e62"
      },
      "outputs": [
        {
          "data": {
            "text/html": [
              "<div>\n",
              "<style scoped>\n",
              "    .dataframe tbody tr th:only-of-type {\n",
              "        vertical-align: middle;\n",
              "    }\n",
              "\n",
              "    .dataframe tbody tr th {\n",
              "        vertical-align: top;\n",
              "    }\n",
              "\n",
              "    .dataframe thead th {\n",
              "        text-align: right;\n",
              "    }\n",
              "</style>\n",
              "<table border=\"1\" class=\"dataframe\">\n",
              "  <thead>\n",
              "    <tr style=\"text-align: right;\">\n",
              "      <th></th>\n",
              "      <th>collision_damage</th>\n",
              "      <th>count</th>\n",
              "    </tr>\n",
              "  </thead>\n",
              "  <tbody>\n",
              "    <tr>\n",
              "      <th>0</th>\n",
              "      <td>small damage</td>\n",
              "      <td>812420</td>\n",
              "    </tr>\n",
              "    <tr>\n",
              "      <th>1</th>\n",
              "      <td>scratch</td>\n",
              "      <td>333996</td>\n",
              "    </tr>\n",
              "    <tr>\n",
              "      <th>2</th>\n",
              "      <td>middle damage</td>\n",
              "      <td>160428</td>\n",
              "    </tr>\n",
              "    <tr>\n",
              "      <th>3</th>\n",
              "      <td>severe damage</td>\n",
              "      <td>29439</td>\n",
              "    </tr>\n",
              "    <tr>\n",
              "      <th>4</th>\n",
              "      <td>fatal</td>\n",
              "      <td>10372</td>\n",
              "    </tr>\n",
              "  </tbody>\n",
              "</table>\n",
              "</div>"
            ],
            "text/plain": [
              "  collision_damage   count\n",
              "0     small damage  812420\n",
              "1          scratch  333996\n",
              "2    middle damage  160428\n",
              "3    severe damage   29439\n",
              "4            fatal   10372"
            ]
          },
          "execution_count": 22,
          "metadata": {},
          "output_type": "execute_result"
        }
      ],
      "source": [
        "query = '''\n",
        "SELECT collision_damage,\n",
        "       COUNT(collision_damage)\n",
        "FROM collisions\n",
        "WHERE road_condition_1 = 'normal'\n",
        "GROUP BY collision_damage\n",
        "ORDER BY COUNT(collision_damage) DESC\n",
        "'''\n",
        "norm_road = pd.read_sql_query(query, con=engine)\n",
        "norm_road.head()"
      ]
    },
    {
      "cell_type": "code",
      "execution_count": null,
      "metadata": {
        "colab": {
          "base_uri": "https://localhost:8080/",
          "height": 829
        },
        "id": "p5C-bMHp5i0F",
        "outputId": "e164d8f0-2ec2-436f-afa0-8430d519cccd"
      },
      "outputs": [
        {
          "data": {
            "image/png": "[encoded data removed]",
            "text/plain": [
              "<Figure size 720x720 with 1 Axes>"
            ]
          },
          "metadata": {},
          "output_type": "display_data"
        }
      ],
      "source": [
        "fig, ax = plt.subplots(figsize=(10, 10))\n",
        "data = norm_road['count']\n",
        "labels = norm_road['collision_damage']\n",
        "plt.pie(data, labels=labels, autopct='%1.1f%%')\n",
        "plt.title('Доля каждой категории повреждений в нормальном дорожном состоянии')\n",
        "plt.show()"
      ]
    },
    {
      "cell_type": "markdown",
      "metadata": {
        "id": "9spoFnvf5qQI"
      },
      "source": [
        "Эта круговая диаграмма показывает, что при нормальном состоянии дорожного покрытия наиболее часто происходят дорожно-транспортные происшествия небольшой тяжести."
      ]
    },
    {
      "cell_type": "code",
      "execution_count": null,
      "metadata": {
        "colab": {
          "base_uri": "https://localhost:8080/",
          "height": 175
        },
        "id": "OADuoqwt5kks",
        "outputId": "c76ab2ab-b62b-4751-a7e4-6eb12153fa51"
      },
      "outputs": [
        {
          "data": {
            "text/html": [
              "<div>\n",
              "<style scoped>\n",
              "    .dataframe tbody tr th:only-of-type {\n",
              "        vertical-align: middle;\n",
              "    }\n",
              "\n",
              "    .dataframe tbody tr th {\n",
              "        vertical-align: top;\n",
              "    }\n",
              "\n",
              "    .dataframe thead th {\n",
              "        text-align: right;\n",
              "    }\n",
              "</style>\n",
              "<table border=\"1\" class=\"dataframe\">\n",
              "  <thead>\n",
              "    <tr style=\"text-align: right;\">\n",
              "      <th></th>\n",
              "      <th>primary_collision_factor</th>\n",
              "      <th>count_collision_factor</th>\n",
              "    </tr>\n",
              "  </thead>\n",
              "  <tbody>\n",
              "    <tr>\n",
              "      <th>0</th>\n",
              "      <td>vehicle code violation</td>\n",
              "      <td>1316453</td>\n",
              "    </tr>\n",
              "    <tr>\n",
              "      <th>1</th>\n",
              "      <td>other than driver</td>\n",
              "      <td>29780</td>\n",
              "    </tr>\n",
              "    <tr>\n",
              "      <th>2</th>\n",
              "      <td>other improper driving</td>\n",
              "      <td>8470</td>\n",
              "    </tr>\n",
              "    <tr>\n",
              "      <th>3</th>\n",
              "      <td>fell asleep</td>\n",
              "      <td>117</td>\n",
              "    </tr>\n",
              "  </tbody>\n",
              "</table>\n",
              "</div>"
            ],
            "text/plain": [
              "  primary_collision_factor  count_collision_factor\n",
              "0   vehicle code violation                 1316453\n",
              "1        other than driver                   29780\n",
              "2   other improper driving                    8470\n",
              "3              fell asleep                     117"
            ]
          },
          "execution_count": 24,
          "metadata": {},
          "output_type": "execute_result"
        }
      ],
      "source": [
        "query = '''\n",
        "SELECT primary_collision_factor,\n",
        "       COUNT(primary_collision_factor) count_collision_factor\n",
        "FROM collisions\n",
        "WHERE primary_collision_factor != 'unknown'\n",
        "GROUP BY primary_collision_factor\n",
        "ORDER BY count_collision_factor DESC\n",
        "'''\n",
        "reasons = pd.read_sql_query(query, con=engine)\n",
        "reasons"
      ]
    },
    {
      "cell_type": "code",
      "execution_count": null,
      "metadata": {
        "colab": {
          "base_uri": "https://localhost:8080/",
          "height": 802
        },
        "id": "z_0h1I3w5sxx",
        "outputId": "560398df-3c6c-48a3-842b-a6b5d98608b6"
      },
      "outputs": [
        {
          "data": {
            "text/html": [
              "<div>\n",
              "<style scoped>\n",
              "    .dataframe tbody tr th:only-of-type {\n",
              "        vertical-align: middle;\n",
              "    }\n",
              "\n",
              "    .dataframe tbody tr th {\n",
              "        vertical-align: top;\n",
              "    }\n",
              "\n",
              "    .dataframe thead th {\n",
              "        text-align: right;\n",
              "    }\n",
              "</style>\n",
              "<table border=\"1\" class=\"dataframe\">\n",
              "  <thead>\n",
              "    <tr style=\"text-align: right;\">\n",
              "      <th></th>\n",
              "      <th>pcf_violation_category</th>\n",
              "      <th>count_collision_factor</th>\n",
              "    </tr>\n",
              "  </thead>\n",
              "  <tbody>\n",
              "    <tr>\n",
              "      <th>0</th>\n",
              "      <td>speeding</td>\n",
              "      <td>438439</td>\n",
              "    </tr>\n",
              "    <tr>\n",
              "      <th>1</th>\n",
              "      <td>improper turning</td>\n",
              "      <td>238987</td>\n",
              "    </tr>\n",
              "    <tr>\n",
              "      <th>2</th>\n",
              "      <td>automobile right of way</td>\n",
              "      <td>158291</td>\n",
              "    </tr>\n",
              "    <tr>\n",
              "      <th>3</th>\n",
              "      <td>dui</td>\n",
              "      <td>110476</td>\n",
              "    </tr>\n",
              "    <tr>\n",
              "      <th>4</th>\n",
              "      <td>unsafe lane change</td>\n",
              "      <td>93962</td>\n",
              "    </tr>\n",
              "    <tr>\n",
              "      <th>5</th>\n",
              "      <td>traffic signals and signs</td>\n",
              "      <td>72751</td>\n",
              "    </tr>\n",
              "    <tr>\n",
              "      <th>6</th>\n",
              "      <td>unsafe starting or backing</td>\n",
              "      <td>55674</td>\n",
              "    </tr>\n",
              "    <tr>\n",
              "      <th>7</th>\n",
              "      <td>unknown</td>\n",
              "      <td>39558</td>\n",
              "    </tr>\n",
              "    <tr>\n",
              "      <th>8</th>\n",
              "      <td>wrong side of road</td>\n",
              "      <td>33631</td>\n",
              "    </tr>\n",
              "    <tr>\n",
              "      <th>9</th>\n",
              "      <td>following too closely</td>\n",
              "      <td>30033</td>\n",
              "    </tr>\n",
              "    <tr>\n",
              "      <th>10</th>\n",
              "      <td>other than driver (or pedestrian)</td>\n",
              "      <td>29780</td>\n",
              "    </tr>\n",
              "    <tr>\n",
              "      <th>11</th>\n",
              "      <td>pedestrian right of way</td>\n",
              "      <td>15739</td>\n",
              "    </tr>\n",
              "    <tr>\n",
              "      <th>12</th>\n",
              "      <td>pedestrian violation</td>\n",
              "      <td>15392</td>\n",
              "    </tr>\n",
              "    <tr>\n",
              "      <th>13</th>\n",
              "      <td>other hazardous violation</td>\n",
              "      <td>13851</td>\n",
              "    </tr>\n",
              "    <tr>\n",
              "      <th>14</th>\n",
              "      <td>improper passing</td>\n",
              "      <td>12136</td>\n",
              "    </tr>\n",
              "    <tr>\n",
              "      <th>15</th>\n",
              "      <td>other improper driving</td>\n",
              "      <td>8470</td>\n",
              "    </tr>\n",
              "    <tr>\n",
              "      <th>16</th>\n",
              "      <td>other equipment</td>\n",
              "      <td>1747</td>\n",
              "    </tr>\n",
              "    <tr>\n",
              "      <th>17</th>\n",
              "      <td>hazardous parking</td>\n",
              "      <td>1746</td>\n",
              "    </tr>\n",
              "    <tr>\n",
              "      <th>18</th>\n",
              "      <td>impeding traffic</td>\n",
              "      <td>752</td>\n",
              "    </tr>\n",
              "    <tr>\n",
              "      <th>19</th>\n",
              "      <td>brakes</td>\n",
              "      <td>303</td>\n",
              "    </tr>\n",
              "    <tr>\n",
              "      <th>20</th>\n",
              "      <td>lights</td>\n",
              "      <td>209</td>\n",
              "    </tr>\n",
              "    <tr>\n",
              "      <th>21</th>\n",
              "      <td>fell asleep</td>\n",
              "      <td>117</td>\n",
              "    </tr>\n",
              "    <tr>\n",
              "      <th>22</th>\n",
              "      <td>pedestrian dui</td>\n",
              "      <td>2</td>\n",
              "    </tr>\n",
              "    <tr>\n",
              "      <th>23</th>\n",
              "      <td>None</td>\n",
              "      <td>0</td>\n",
              "    </tr>\n",
              "  </tbody>\n",
              "</table>\n",
              "</div>"
            ],
            "text/plain": [
              "               pcf_violation_category  count_collision_factor\n",
              "0                            speeding                  438439\n",
              "1                    improper turning                  238987\n",
              "2             automobile right of way                  158291\n",
              "3                                 dui                  110476\n",
              "4                  unsafe lane change                   93962\n",
              "5           traffic signals and signs                   72751\n",
              "6          unsafe starting or backing                   55674\n",
              "7                             unknown                   39558\n",
              "8                  wrong side of road                   33631\n",
              "9               following too closely                   30033\n",
              "10  other than driver (or pedestrian)                   29780\n",
              "11            pedestrian right of way                   15739\n",
              "12               pedestrian violation                   15392\n",
              "13          other hazardous violation                   13851\n",
              "14                   improper passing                   12136\n",
              "15             other improper driving                    8470\n",
              "16                    other equipment                    1747\n",
              "17                  hazardous parking                    1746\n",
              "18                   impeding traffic                     752\n",
              "19                             brakes                     303\n",
              "20                             lights                     209\n",
              "21                        fell asleep                     117\n",
              "22                     pedestrian dui                       2\n",
              "23                               None                       0"
            ]
          },
          "execution_count": 25,
          "metadata": {},
          "output_type": "execute_result"
        }
      ],
      "source": [
        "query = '''\n",
        "SELECT PCF_VIOLATION_CATEGORY,\n",
        "       COUNT(PCF_VIOLATION_CATEGORY) AS count_collision_factor\n",
        "FROM collisions\n",
        "GROUP BY PCF_VIOLATION_CATEGORY\n",
        "ORDER BY count_collision_factor DESC\n",
        "'''\n",
        "collisions_category = pd.read_sql_query(query, con=engine)\n",
        "collisions_category"
      ]
    },
    {
      "cell_type": "code",
      "execution_count": null,
      "metadata": {
        "colab": {
          "base_uri": "https://localhost:8080/",
          "height": 891
        },
        "id": "ABA-ehCM5uKp",
        "outputId": "4ea69a46-6be3-46cc-93b8-9f3add19f69f"
      },
      "outputs": [
        {
          "data": {
            "image/png": "[encoded data removed]",
            "text/plain": [
              "<Figure size 1440x720 with 1 Axes>"
            ]
          },
          "metadata": {},
          "output_type": "display_data"
        }
      ],
      "source": [
        "fig, ax = plt.subplots(figsize=(20, 10))\n",
        "sns.barplot(\n",
        "    x='count_collision_factor',\n",
        "    y='pcf_violation_category',\n",
        "    ci=None,\n",
        "    data=collisions_category,\n",
        "    palette='pastel',  # Изменяем цвета столбцов на палитру \"pastel\"\n",
        ")\n",
        "plt.title('Причины ДТП')\n",
        "plt.xlabel('Количество ДТП')\n",
        "plt.ylabel('Категория нарушения')\n",
        "plt.show()"
      ]
    },
    {
      "cell_type": "markdown",
      "metadata": {
        "id": "G38a_vFR5ytF"
      },
      "source": [
        "Наиболее распространенными причинами аварий на дорогах являются следующие: превышение разрешенной скорости (это случается в 438 тысячах случаев), выполнение поворотов в местах, где такое действие запрещено (238 тысяч случаев), несоблюдение правил уступи дорогу (158 тысяч случаев) и управление автомобилем в состоянии алкогольного опьянения (110 тысяч случаев)."
      ]
    },
    {
      "cell_type": "markdown",
      "metadata": {
        "id": "IHyIX4UH52nA"
      },
      "source": [
        "## Шаг 4. Создайте модель для оценки водительского риска"
      ]
    },
    {
      "cell_type": "markdown",
      "metadata": {
        "id": "VlrGUFG955CY"
      },
      "source": [
        "Следующие шаги:\n",
        "\n",
        "- Объединение всех параметров, которые нужны будут для модели в одну таблицу\n",
        "- Предобработка данных\n",
        "- Разделение данных на выборки\n",
        "- Подготовка данных к обучению"
      ]
    },
    {
      "cell_type": "markdown",
      "metadata": {
        "id": "vddxD5oxGcCl"
      },
      "source": [
        "at_fault - указывает на главную причину ДТП, на которую делается акцент при анализе. Этот показатель помогает определить, кому принадлежит основная вина за происшествие.\n",
        "\n",
        "cellphone_in_use - определяет, имеет ли водитель возможность использовать мобильный телефон во время вождения по громкой связи. Использование телефона за рулем может стать потенциальной причиной ДТП.\n",
        "\n",
        "collision_damage - показывает степень серьезности повреждений, возникших в результате ДТП, исключая мелкие царапины.\n",
        "\n",
        "collision_date - указывает на месяц и день происшествия. Сезонность, погодные условия и состояние дороги могут оказывать влияние на возникновение ДТП.\n",
        "\n",
        "collision_time - указывает на время суток, когда произошло ДТП. Время воздействует на уровень усталости водителя и видимость на дороге.\n",
        "\n",
        "control_device - определяет тип устройства управления автомобилем, которым водитель манипулирует. Этот фактор может оказывать значительное влияние на передвижение автомобиля.\n",
        "\n",
        "county_city_location - обозначает географическую местоположение происшествия, которое может иметь значение при анализе. Разные районы могут иметь различия в дорожных условиях и инфраструктуре, что может влиять на вероятность возникновения ДТП.\n",
        "\n",
        "direction - указывает на направление движения автомобиля. Например, при использовании сервиса каршеринга необходимо учитывать направление движения, так как наличие других автомобилей встречного направления может повлиять на безопасность.\n",
        "\n",
        "intersection - указывает, произошло ли ДТП на перекрестке. Перекрестки могут быть опасными местами из-за возможного большого потока транспорта.\n",
        "\n",
        "lightning - определяет освещение в момент происшествия. Уровень освещения может влиять на видимость водителя и, как следствие, на возможность возникновения ДТП.\n",
        "\n",
        "location_type - указывает на тип дороги, на которой произошло ДТП. Вид дороги может оказывать влияние на безопасность движения.\n",
        "\n",
        "road_condition_1 - показывает состояние дороги, которое может привести к ухудшению условий движения.\n",
        "\n",
        "road_surface - определяет состояние дорожного покрытия. Наличие снега, гололеда или других факторов может повлиять на сцепление и безопасность движения.\n",
        "\n",
        "vehicle_age - указывает на возраст автомобиля, который может влиять на его маневренность и общую надежность во время движения.\n",
        "\n",
        "vehicle_transmission - определяет тип коробки передач автомобиля. Тип коробки передач может оказывать влияние на реакцию водителя во время движения.\n",
        "\n",
        "vehicle_type - указывает на тип кузова автомобиля, который может влиять на видимость водителя и его способность реагировать на дорожные ситуации.\n",
        "\n",
        "weather_1 - определяет погодные условия, которые могут влиять на видимость и сцепление с дорогой.\n",
        "\n",
        "##### Признаки, которые могли бы привести к ДТП, но НЕ могут быть оценены до поездки:\n",
        "\n",
        "party_drug_physical - относится к физическому состоянию участника ДТП, которое может оказывать влияние на его способности во время вождения. Однако оценить это состояние перед поездкой может быть затруднительно.\n",
        "\n",
        "party_sobriety - определяет уровень трезвости участника ДТП, что также может повлиять на его способности во время вождения. Оценка степени трезвости перед поездкой может быть непрактичной.\n",
        "\n",
        "primary_collision_factor - отражает основную причину ДТП, которая может различаться в каждом конкретном случае."
      ]
    },
    {
      "cell_type": "code",
      "execution_count": null,
      "metadata": {
        "id": "R4DyF1RX5vvg"
      },
      "outputs": [],
      "source": [
        "def get_query(query):\n",
        "    query_df = pd.read_sql_query(con=engine.connect(), sql=sql_text(query))\n",
        "    return query_df"
      ]
    },
    {
      "cell_type": "code",
      "execution_count": null,
      "metadata": {
        "colab": {
          "base_uri": "https://localhost:8080/",
          "height": 226
        },
        "id": "T-MfM95i57z6",
        "outputId": "cb1dc9e1-931f-42bf-9ce7-71e0304d187b"
      },
      "outputs": [
        {
          "data": {
            "text/html": [
              "<div>\n",
              "<style scoped>\n",
              "    .dataframe tbody tr th:only-of-type {\n",
              "        vertical-align: middle;\n",
              "    }\n",
              "\n",
              "    .dataframe tbody tr th {\n",
              "        vertical-align: top;\n",
              "    }\n",
              "\n",
              "    .dataframe thead th {\n",
              "        text-align: right;\n",
              "    }\n",
              "</style>\n",
              "<table border=\"1\" class=\"dataframe\">\n",
              "  <thead>\n",
              "    <tr style=\"text-align: right;\">\n",
              "      <th></th>\n",
              "      <th>case_id</th>\n",
              "      <th>county_city_location</th>\n",
              "      <th>county_location</th>\n",
              "      <th>distance</th>\n",
              "      <th>direction</th>\n",
              "      <th>intersection</th>\n",
              "      <th>weather_1</th>\n",
              "      <th>location_type</th>\n",
              "      <th>collision_damage</th>\n",
              "      <th>party_count</th>\n",
              "      <th>...</th>\n",
              "      <th>collision_hour</th>\n",
              "      <th>v_case_id</th>\n",
              "      <th>party_number</th>\n",
              "      <th>party_type</th>\n",
              "      <th>at_fault</th>\n",
              "      <th>insurance_premium</th>\n",
              "      <th>cellphone_in_use</th>\n",
              "      <th>vehicle_type</th>\n",
              "      <th>vehicle_transmission</th>\n",
              "      <th>vehicle_age</th>\n",
              "    </tr>\n",
              "  </thead>\n",
              "  <tbody>\n",
              "    <tr>\n",
              "      <th>0</th>\n",
              "      <td>5125160</td>\n",
              "      <td>3712</td>\n",
              "      <td>san diego</td>\n",
              "      <td>0.0</td>\n",
              "      <td>None</td>\n",
              "      <td>1.0</td>\n",
              "      <td>cloudy</td>\n",
              "      <td>None</td>\n",
              "      <td>small damage</td>\n",
              "      <td>2</td>\n",
              "      <td>...</td>\n",
              "      <td>7.0</td>\n",
              "      <td>5125160</td>\n",
              "      <td>2</td>\n",
              "      <td>car</td>\n",
              "      <td>0</td>\n",
              "      <td>42.0</td>\n",
              "      <td>0.0</td>\n",
              "      <td>sedan</td>\n",
              "      <td>auto</td>\n",
              "      <td>2.0</td>\n",
              "    </tr>\n",
              "    <tr>\n",
              "      <th>1</th>\n",
              "      <td>5173738</td>\n",
              "      <td>3404</td>\n",
              "      <td>sacramento</td>\n",
              "      <td>0.0</td>\n",
              "      <td>None</td>\n",
              "      <td>1.0</td>\n",
              "      <td>clear</td>\n",
              "      <td>None</td>\n",
              "      <td>small damage</td>\n",
              "      <td>2</td>\n",
              "      <td>...</td>\n",
              "      <td>12.0</td>\n",
              "      <td>5173738</td>\n",
              "      <td>2</td>\n",
              "      <td>car</td>\n",
              "      <td>0</td>\n",
              "      <td>31.0</td>\n",
              "      <td>0.0</td>\n",
              "      <td>sedan</td>\n",
              "      <td>auto</td>\n",
              "      <td>5.0</td>\n",
              "    </tr>\n",
              "    <tr>\n",
              "      <th>2</th>\n",
              "      <td>5269486</td>\n",
              "      <td>3400</td>\n",
              "      <td>sacramento</td>\n",
              "      <td>0.0</td>\n",
              "      <td>None</td>\n",
              "      <td>1.0</td>\n",
              "      <td>clear</td>\n",
              "      <td>None</td>\n",
              "      <td>small damage</td>\n",
              "      <td>2</td>\n",
              "      <td>...</td>\n",
              "      <td>16.0</td>\n",
              "      <td>5269486</td>\n",
              "      <td>2</td>\n",
              "      <td>car</td>\n",
              "      <td>0</td>\n",
              "      <td>21.0</td>\n",
              "      <td>0.0</td>\n",
              "      <td>sedan</td>\n",
              "      <td>auto</td>\n",
              "      <td>1.0</td>\n",
              "    </tr>\n",
              "    <tr>\n",
              "      <th>3</th>\n",
              "      <td>5319820</td>\n",
              "      <td>3607</td>\n",
              "      <td>san bernardino</td>\n",
              "      <td>5.0</td>\n",
              "      <td>east</td>\n",
              "      <td>0.0</td>\n",
              "      <td>clear</td>\n",
              "      <td>None</td>\n",
              "      <td>small damage</td>\n",
              "      <td>2</td>\n",
              "      <td>...</td>\n",
              "      <td>19.0</td>\n",
              "      <td>5319820</td>\n",
              "      <td>2</td>\n",
              "      <td>car</td>\n",
              "      <td>0</td>\n",
              "      <td>31.0</td>\n",
              "      <td>0.0</td>\n",
              "      <td>sedan</td>\n",
              "      <td>auto</td>\n",
              "      <td>4.0</td>\n",
              "    </tr>\n",
              "    <tr>\n",
              "      <th>4</th>\n",
              "      <td>5329109</td>\n",
              "      <td>3400</td>\n",
              "      <td>sacramento</td>\n",
              "      <td>0.0</td>\n",
              "      <td>None</td>\n",
              "      <td>1.0</td>\n",
              "      <td>clear</td>\n",
              "      <td>None</td>\n",
              "      <td>middle damage</td>\n",
              "      <td>2</td>\n",
              "      <td>...</td>\n",
              "      <td>13.0</td>\n",
              "      <td>5329109</td>\n",
              "      <td>2</td>\n",
              "      <td>car</td>\n",
              "      <td>1</td>\n",
              "      <td>49.0</td>\n",
              "      <td>0.0</td>\n",
              "      <td>coupe</td>\n",
              "      <td>auto</td>\n",
              "      <td>6.0</td>\n",
              "    </tr>\n",
              "  </tbody>\n",
              "</table>\n",
              "<p>5 rows × 30 columns</p>\n",
              "</div>"
            ],
            "text/plain": [
              "   case_id county_city_location county_location  distance direction  \\\n",
              "0  5125160                 3712       san diego       0.0      None   \n",
              "1  5173738                 3404      sacramento       0.0      None   \n",
              "2  5269486                 3400      sacramento       0.0      None   \n",
              "3  5319820                 3607  san bernardino       5.0      east   \n",
              "4  5329109                 3400      sacramento       0.0      None   \n",
              "\n",
              "   intersection weather_1 location_type collision_damage  party_count  ...  \\\n",
              "0           1.0    cloudy          None     small damage            2  ...   \n",
              "1           1.0     clear          None     small damage            2  ...   \n",
              "2           1.0     clear          None     small damage            2  ...   \n",
              "3           0.0     clear          None     small damage            2  ...   \n",
              "4           1.0     clear          None    middle damage            2  ...   \n",
              "\n",
              "  collision_hour v_case_id party_number party_type at_fault insurance_premium  \\\n",
              "0            7.0   5125160            2        car        0              42.0   \n",
              "1           12.0   5173738            2        car        0              31.0   \n",
              "2           16.0   5269486            2        car        0              21.0   \n",
              "3           19.0   5319820            2        car        0              31.0   \n",
              "4           13.0   5329109            2        car        1              49.0   \n",
              "\n",
              "  cellphone_in_use vehicle_type vehicle_transmission vehicle_age  \n",
              "0              0.0        sedan                 auto         2.0  \n",
              "1              0.0        sedan                 auto         5.0  \n",
              "2              0.0        sedan                 auto         1.0  \n",
              "3              0.0        sedan                 auto         4.0  \n",
              "4              0.0        coupe                 auto         6.0  \n",
              "\n",
              "[5 rows x 30 columns]"
            ]
          },
          "metadata": {},
          "output_type": "display_data"
        }
      ],
      "source": [
        "# Необходимые для модели параметры\n",
        "parameters_query = '''\n",
        "WITH cars AS (SELECT *\n",
        "                        FROM parties\n",
        "                        WHERE party_type = 'car'\n",
        "                        ),\n",
        "\n",
        "    vehicle_info AS (SELECT c.case_id as v_case_id,\n",
        "                        c.party_number,\n",
        "                        c.party_type,\n",
        "                        c.at_fault,\n",
        "                        c.insurance_premium,\n",
        "                        c.cellphone_in_use,\n",
        "                        v.vehicle_type,\n",
        "                        v.vehicle_transmission,\n",
        "                        v.vehicle_age\n",
        "                  FROM cars as c\n",
        "                  JOIN vehicles as v ON c.case_id = v.case_id\n",
        "                                      AND c.party_number = v.party_number\n",
        "                ),\n",
        "\n",
        "     damage AS (SELECT *, extract(hour from collision_time) as collision_hour\n",
        "                FROM collisions\n",
        "                WHERE collision_damage != 'scratch'\n",
        "                AND  EXTRACT(YEAR FROM collision_date::date) = 2012\n",
        ")\n",
        "\n",
        "\n",
        "SELECT *\n",
        "FROM damage as d\n",
        "JOIN vehicle_info as v ON d.case_id = v.v_case_id\n",
        "ORDER BY d.case_id\n",
        "'''\n",
        "\n",
        "df = get_query(parameters_query)\n",
        "display(df.head())"
      ]
    },
    {
      "cell_type": "markdown",
      "metadata": {
        "id": "1qJiJyiI6Bmi"
      },
      "source": [
        "Я решил исключить некоторые характеристики: party_drug_physical, party_sobriety и primary_collision_factor. Это связано с тем, что данные параметры, хоть и играют важную роль при расследовании ДТП, невозможно определить до начала самой поездки."
      ]
    },
    {
      "cell_type": "code",
      "execution_count": null,
      "metadata": {
        "colab": {
          "base_uri": "https://localhost:8080/"
        },
        "id": "KeFbjboa5-t2",
        "outputId": "c9c0165c-b0e1-4318-ac6a-eff2d15a5d2f"
      },
      "outputs": [
        {
          "name": "stdout",
          "output_type": "stream",
          "text": [
            "<class 'pandas.core.frame.DataFrame'>\n",
            "RangeIndex: 56248 entries, 0 to 56247\n",
            "Data columns (total 30 columns):\n",
            " #   Column                       Non-Null Count  Dtype  \n",
            "---  ------                       --------------  -----  \n",
            " 0   case_id                      56248 non-null  object \n",
            " 1   county_city_location         56248 non-null  object \n",
            " 2   county_location              56248 non-null  object \n",
            " 3   distance                     56248 non-null  float64\n",
            " 4   direction                    43230 non-null  object \n",
            " 5   intersection                 56073 non-null  float64\n",
            " 6   weather_1                    56080 non-null  object \n",
            " 7   location_type                25932 non-null  object \n",
            " 8   collision_damage             56248 non-null  object \n",
            " 9   party_count                  56248 non-null  int64  \n",
            " 10  primary_collision_factor     56137 non-null  object \n",
            " 11  pcf_violation_category       55482 non-null  object \n",
            " 12  type_of_collision            55940 non-null  object \n",
            " 13  motor_vehicle_involved_with  56086 non-null  object \n",
            " 14  road_surface                 55900 non-null  object \n",
            " 15  road_condition_1             55999 non-null  object \n",
            " 16  lighting                     56094 non-null  object \n",
            " 17  control_device               56033 non-null  object \n",
            " 18  collision_date               56248 non-null  object \n",
            " 19  collision_time               56160 non-null  object \n",
            " 20  collision_hour               56160 non-null  float64\n",
            " 21  v_case_id                    56248 non-null  object \n",
            " 22  party_number                 56248 non-null  int64  \n",
            " 23  party_type                   56248 non-null  object \n",
            " 24  at_fault                     56248 non-null  int64  \n",
            " 25  insurance_premium            55701 non-null  float64\n",
            " 26  cellphone_in_use             51777 non-null  float64\n",
            " 27  vehicle_type                 56248 non-null  object \n",
            " 28  vehicle_transmission         55389 non-null  object \n",
            " 29  vehicle_age                  54554 non-null  float64\n",
            "dtypes: float64(6), int64(3), object(21)\n",
            "memory usage: 12.9+ MB\n"
          ]
        }
      ],
      "source": [
        "df.info()"
      ]
    },
    {
      "cell_type": "code",
      "execution_count": null,
      "metadata": {
        "id": "k5dZcVhLWIZY"
      },
      "outputs": [],
      "source": [
        "columns_to_drop = ['collision_damage', 'party_count', 'primary_collision_factor', 'type_of_collision',\n",
        "                   'motor_vehicle_involved_with', 'party_number', 'party_type', 'case_id', 'v_case_id']\n",
        "df = df.drop(columns=columns_to_drop)"
      ]
    },
    {
      "cell_type": "code",
      "execution_count": null,
      "metadata": {
        "colab": {
          "base_uri": "https://localhost:8080/",
          "height": 300
        },
        "id": "68xj73SX6EBI",
        "outputId": "abd40417-84c8-49a2-ad04-c5001a0314ed"
      },
      "outputs": [
        {
          "data": {
            "text/html": [
              "<div>\n",
              "<style scoped>\n",
              "    .dataframe tbody tr th:only-of-type {\n",
              "        vertical-align: middle;\n",
              "    }\n",
              "\n",
              "    .dataframe tbody tr th {\n",
              "        vertical-align: top;\n",
              "    }\n",
              "\n",
              "    .dataframe thead th {\n",
              "        text-align: right;\n",
              "    }\n",
              "</style>\n",
              "<table border=\"1\" class=\"dataframe\">\n",
              "  <thead>\n",
              "    <tr style=\"text-align: right;\">\n",
              "      <th></th>\n",
              "      <th>distance</th>\n",
              "      <th>intersection</th>\n",
              "      <th>collision_hour</th>\n",
              "      <th>at_fault</th>\n",
              "      <th>insurance_premium</th>\n",
              "      <th>cellphone_in_use</th>\n",
              "      <th>vehicle_age</th>\n",
              "    </tr>\n",
              "  </thead>\n",
              "  <tbody>\n",
              "    <tr>\n",
              "      <th>count</th>\n",
              "      <td>5.624800e+04</td>\n",
              "      <td>56073.000000</td>\n",
              "      <td>56160.000000</td>\n",
              "      <td>56248.000000</td>\n",
              "      <td>55701.000000</td>\n",
              "      <td>51777.000000</td>\n",
              "      <td>54554.000000</td>\n",
              "    </tr>\n",
              "    <tr>\n",
              "      <th>mean</th>\n",
              "      <td>8.594387e+02</td>\n",
              "      <td>0.221533</td>\n",
              "      <td>13.318145</td>\n",
              "      <td>0.504427</td>\n",
              "      <td>37.607170</td>\n",
              "      <td>0.020357</td>\n",
              "      <td>4.856472</td>\n",
              "    </tr>\n",
              "    <tr>\n",
              "      <th>std</th>\n",
              "      <td>7.240295e+03</td>\n",
              "      <td>0.415282</td>\n",
              "      <td>5.526344</td>\n",
              "      <td>0.499985</td>\n",
              "      <td>16.328721</td>\n",
              "      <td>0.141218</td>\n",
              "      <td>3.234503</td>\n",
              "    </tr>\n",
              "    <tr>\n",
              "      <th>min</th>\n",
              "      <td>0.000000e+00</td>\n",
              "      <td>0.000000</td>\n",
              "      <td>0.000000</td>\n",
              "      <td>0.000000</td>\n",
              "      <td>0.000000</td>\n",
              "      <td>0.000000</td>\n",
              "      <td>0.000000</td>\n",
              "    </tr>\n",
              "    <tr>\n",
              "      <th>25%</th>\n",
              "      <td>7.000000e+00</td>\n",
              "      <td>0.000000</td>\n",
              "      <td>10.000000</td>\n",
              "      <td>0.000000</td>\n",
              "      <td>24.000000</td>\n",
              "      <td>0.000000</td>\n",
              "      <td>3.000000</td>\n",
              "    </tr>\n",
              "    <tr>\n",
              "      <th>50%</th>\n",
              "      <td>1.350000e+02</td>\n",
              "      <td>0.000000</td>\n",
              "      <td>14.000000</td>\n",
              "      <td>1.000000</td>\n",
              "      <td>34.000000</td>\n",
              "      <td>0.000000</td>\n",
              "      <td>4.000000</td>\n",
              "    </tr>\n",
              "    <tr>\n",
              "      <th>75%</th>\n",
              "      <td>5.450000e+02</td>\n",
              "      <td>0.000000</td>\n",
              "      <td>17.000000</td>\n",
              "      <td>1.000000</td>\n",
              "      <td>49.000000</td>\n",
              "      <td>0.000000</td>\n",
              "      <td>7.000000</td>\n",
              "    </tr>\n",
              "    <tr>\n",
              "      <th>max</th>\n",
              "      <td>1.584000e+06</td>\n",
              "      <td>1.000000</td>\n",
              "      <td>23.000000</td>\n",
              "      <td>1.000000</td>\n",
              "      <td>105.000000</td>\n",
              "      <td>1.000000</td>\n",
              "      <td>161.000000</td>\n",
              "    </tr>\n",
              "  </tbody>\n",
              "</table>\n",
              "</div>"
            ],
            "text/plain": [
              "           distance  intersection  collision_hour      at_fault  \\\n",
              "count  5.624800e+04  56073.000000    56160.000000  56248.000000   \n",
              "mean   8.594387e+02      0.221533       13.318145      0.504427   \n",
              "std    7.240295e+03      0.415282        5.526344      0.499985   \n",
              "min    0.000000e+00      0.000000        0.000000      0.000000   \n",
              "25%    7.000000e+00      0.000000       10.000000      0.000000   \n",
              "50%    1.350000e+02      0.000000       14.000000      1.000000   \n",
              "75%    5.450000e+02      0.000000       17.000000      1.000000   \n",
              "max    1.584000e+06      1.000000       23.000000      1.000000   \n",
              "\n",
              "       insurance_premium  cellphone_in_use   vehicle_age  \n",
              "count       55701.000000      51777.000000  54554.000000  \n",
              "mean           37.607170          0.020357      4.856472  \n",
              "std            16.328721          0.141218      3.234503  \n",
              "min             0.000000          0.000000      0.000000  \n",
              "25%            24.000000          0.000000      3.000000  \n",
              "50%            34.000000          0.000000      4.000000  \n",
              "75%            49.000000          0.000000      7.000000  \n",
              "max           105.000000          1.000000    161.000000  "
            ]
          },
          "execution_count": 31,
          "metadata": {},
          "output_type": "execute_result"
        }
      ],
      "source": [
        "df.describe()"
      ]
    },
    {
      "cell_type": "code",
      "execution_count": null,
      "metadata": {
        "colab": {
          "base_uri": "https://localhost:8080/"
        },
        "id": "9IF27zR26Hjf",
        "outputId": "16a859cf-4057-4674-b483-1883688e23b7"
      },
      "outputs": [
        {
          "data": {
            "text/plain": [
              "(56248, 21)"
            ]
          },
          "execution_count": 32,
          "metadata": {},
          "output_type": "execute_result"
        }
      ],
      "source": [
        "df.shape"
      ]
    },
    {
      "cell_type": "code",
      "execution_count": null,
      "metadata": {
        "colab": {
          "base_uri": "https://localhost:8080/"
        },
        "id": "XNehaPEQ6Iu9",
        "outputId": "fcdf2acc-f0b1-4ff6-ed5a-1d1f6b32668d"
      },
      "outputs": [
        {
          "data": {
            "text/plain": [
              "19"
            ]
          },
          "execution_count": 33,
          "metadata": {},
          "output_type": "execute_result"
        }
      ],
      "source": [
        "df.duplicated().sum()"
      ]
    },
    {
      "cell_type": "code",
      "execution_count": null,
      "metadata": {
        "colab": {
          "base_uri": "https://localhost:8080/"
        },
        "id": "c_-nigd_6KBi",
        "outputId": "26178f69-f4fb-4965-8885-fc63663ae92a"
      },
      "outputs": [
        {
          "data": {
            "text/plain": [
              "county_city_location          0\n",
              "county_location               0\n",
              "distance                      0\n",
              "direction                 13018\n",
              "intersection                175\n",
              "weather_1                   168\n",
              "location_type             30316\n",
              "pcf_violation_category      766\n",
              "road_surface                348\n",
              "road_condition_1            249\n",
              "lighting                    154\n",
              "control_device              215\n",
              "collision_date                0\n",
              "collision_time               88\n",
              "collision_hour               88\n",
              "at_fault                      0\n",
              "insurance_premium           547\n",
              "cellphone_in_use           4471\n",
              "vehicle_type                  0\n",
              "vehicle_transmission        859\n",
              "vehicle_age                1694\n",
              "dtype: int64"
            ]
          },
          "execution_count": 34,
          "metadata": {},
          "output_type": "execute_result"
        }
      ],
      "source": [
        "df.isna().sum()"
      ]
    },
    {
      "cell_type": "markdown",
      "metadata": {
        "id": "YbWRvwab6N0E"
      },
      "source": [
        "Исходя из полученной информации можно понять, что в данных много пропусков и есть явные дубликаты. Попробуем заполнить пропуски и удалим явные дубликаты."
      ]
    },
    {
      "cell_type": "code",
      "execution_count": null,
      "metadata": {
        "id": "0rDkwVnS6LZL"
      },
      "outputs": [],
      "source": [
        "df = df.drop_duplicates()"
      ]
    },
    {
      "cell_type": "code",
      "execution_count": null,
      "metadata": {
        "colab": {
          "base_uri": "https://localhost:8080/"
        },
        "id": "cBv1WVni6Pgl",
        "outputId": "854584ad-3f19-48b1-c336-8d38b5e06891"
      },
      "outputs": [
        {
          "data": {
            "text/plain": [
              "(56229, 21)"
            ]
          },
          "execution_count": 36,
          "metadata": {},
          "output_type": "execute_result"
        }
      ],
      "source": [
        "df.shape"
      ]
    },
    {
      "cell_type": "code",
      "execution_count": null,
      "metadata": {
        "colab": {
          "base_uri": "https://localhost:8080/"
        },
        "id": "fDxaprqE6Qzi",
        "outputId": "7353b746-5b26-4cde-dda9-a7d0a2b42d8f"
      },
      "outputs": [
        {
          "name": "stdout",
          "output_type": "stream",
          "text": [
            "<class 'pandas.core.frame.DataFrame'>\n",
            "Int64Index: 56229 entries, 0 to 56247\n",
            "Data columns (total 21 columns):\n",
            " #   Column                  Non-Null Count  Dtype  \n",
            "---  ------                  --------------  -----  \n",
            " 0   county_city_location    56229 non-null  object \n",
            " 1   county_location         56229 non-null  object \n",
            " 2   distance                56229 non-null  float64\n",
            " 3   direction               43213 non-null  object \n",
            " 4   intersection            56054 non-null  float64\n",
            " 5   weather_1               56061 non-null  object \n",
            " 6   location_type           25922 non-null  object \n",
            " 7   pcf_violation_category  55464 non-null  object \n",
            " 8   road_surface            55881 non-null  object \n",
            " 9   road_condition_1        55980 non-null  object \n",
            " 10  lighting                56075 non-null  object \n",
            " 11  control_device          56014 non-null  object \n",
            " 12  collision_date          56229 non-null  object \n",
            " 13  collision_time          56141 non-null  object \n",
            " 14  collision_hour          56141 non-null  float64\n",
            " 15  at_fault                56229 non-null  int64  \n",
            " 16  insurance_premium       55682 non-null  float64\n",
            " 17  cellphone_in_use        51761 non-null  float64\n",
            " 18  vehicle_type            56229 non-null  object \n",
            " 19  vehicle_transmission    55370 non-null  object \n",
            " 20  vehicle_age             54536 non-null  float64\n",
            "dtypes: float64(6), int64(1), object(14)\n",
            "memory usage: 9.4+ MB\n"
          ]
        }
      ],
      "source": [
        "df.info()"
      ]
    },
    {
      "cell_type": "code",
      "execution_count": null,
      "metadata": {
        "colab": {
          "base_uri": "https://localhost:8080/"
        },
        "id": "ngOG_VcY6SPf",
        "outputId": "8154dd89-1e27-47db-8172-433f6b761648"
      },
      "outputs": [
        {
          "data": {
            "text/plain": [
              "county_city_location          0\n",
              "county_location               0\n",
              "distance                      0\n",
              "direction                 13016\n",
              "intersection                175\n",
              "weather_1                   168\n",
              "location_type             30307\n",
              "pcf_violation_category      765\n",
              "road_surface                348\n",
              "road_condition_1            249\n",
              "lighting                    154\n",
              "control_device              215\n",
              "collision_date                0\n",
              "collision_time               88\n",
              "collision_hour               88\n",
              "at_fault                      0\n",
              "insurance_premium           547\n",
              "cellphone_in_use           4468\n",
              "vehicle_type                  0\n",
              "vehicle_transmission        859\n",
              "vehicle_age                1693\n",
              "dtype: int64"
            ]
          },
          "execution_count": 38,
          "metadata": {},
          "output_type": "execute_result"
        }
      ],
      "source": [
        "df.isna().sum()"
      ]
    },
    {
      "cell_type": "markdown",
      "metadata": {
        "id": "IqwQn2lT6WO6"
      },
      "source": [
        "##### Напишем функцию, которая поможет выводить графики по столбцам"
      ]
    },
    {
      "cell_type": "code",
      "execution_count": null,
      "metadata": {
        "id": "BscVnFTJ6UAK"
      },
      "outputs": [],
      "source": [
        "def graph(column):\n",
        "\n",
        "    fig, ax = plt.subplots(figsize=(10, 6))\n",
        "    fig.suptitle(column)\n",
        "\n",
        "    ax.hist(df[column], bins=10)\n",
        "    ax.set_title('Гистограмма распределения')\n",
        "    ax.set_xlabel(column)\n",
        "    ax.set_ylabel('Количество')\n",
        "\n",
        "    plt.show()"
      ]
    },
    {
      "cell_type": "markdown",
      "metadata": {
        "id": "bu7zSzSY6b5D"
      },
      "source": [
        "Заполним пропуски в зависимости от того, является переменная категориальной или количественной.\n",
        "Из выбранных параметров только vehicle_age (возраст автомобиля) является числовой переменной. Остальные переменные относятся к категориальным переменным, поскольку они представляют собой набор уникальных категорий или значений.\n"
      ]
    },
    {
      "cell_type": "markdown",
      "metadata": {
        "id": "MpPWq_QD6b_w"
      },
      "source": [
        "Начнем с пропусков в столбце cellphone_in_use"
      ]
    },
    {
      "cell_type": "code",
      "execution_count": null,
      "metadata": {
        "colab": {
          "base_uri": "https://localhost:8080/"
        },
        "id": "nNeSpLIB6aNi",
        "outputId": "e69b62bb-f47b-4723-8421-27896e941eb8"
      },
      "outputs": [
        {
          "data": {
            "text/plain": [
              "0.0    50707\n",
              "1.0     1054\n",
              "Name: cellphone_in_use, dtype: int64"
            ]
          },
          "execution_count": 40,
          "metadata": {},
          "output_type": "execute_result"
        }
      ],
      "source": [
        "df['cellphone_in_use'].value_counts()"
      ]
    },
    {
      "cell_type": "code",
      "execution_count": null,
      "metadata": {
        "id": "_tuEZt1l6ges"
      },
      "outputs": [],
      "source": [
        "df['cellphone_in_use'].fillna(0, inplace=True)"
      ]
    },
    {
      "cell_type": "code",
      "execution_count": null,
      "metadata": {
        "colab": {
          "base_uri": "https://localhost:8080/"
        },
        "id": "t5RtAX9P6hgm",
        "outputId": "dfe3017e-494a-44ed-9c02-5c8403637359"
      },
      "outputs": [
        {
          "data": {
            "text/plain": [
              "0.0    55175\n",
              "1.0     1054\n",
              "Name: cellphone_in_use, dtype: int64"
            ]
          },
          "execution_count": 42,
          "metadata": {},
          "output_type": "execute_result"
        }
      ],
      "source": [
        "df['cellphone_in_use'].value_counts()"
      ]
    },
    {
      "cell_type": "code",
      "execution_count": null,
      "metadata": {
        "colab": {
          "base_uri": "https://localhost:8080/",
          "height": 602
        },
        "id": "zfSUlaPI6itb",
        "outputId": "b9a5e693-c62e-464d-e907-0562c69f002e"
      },
      "outputs": [
        {
          "data": {
            "image/png": "[encoded data removed]",
            "text/plain": [
              "<Figure size 720x432 with 1 Axes>"
            ]
          },
          "metadata": {},
          "output_type": "display_data"
        }
      ],
      "source": [
        "graph('cellphone_in_use')"
      ]
    },
    {
      "cell_type": "markdown",
      "metadata": {
        "id": "Z5V0qZqx6mG2"
      },
      "source": [
        "В столбце было пропущено 9912 данных. Т.к. у большей части данных проставлен 0, было принято решение проставить 0 в пропущенных данных."
      ]
    },
    {
      "cell_type": "markdown",
      "metadata": {
        "id": "GfA16RmY6n4Z"
      },
      "source": [
        "В столбцах 'hour', 'control_device','intersection','lighting','road_condition','road_surface','weather' - есть незначительное кол-во пропусков для нашего датасета, поэтому удалим эти данные."
      ]
    },
    {
      "cell_type": "code",
      "execution_count": null,
      "metadata": {
        "id": "M28Ej6Gb6kGL"
      },
      "outputs": [],
      "source": [
        "df = df[~df['control_device'].isna()]\n",
        "df = df[~df['intersection'].isna()]\n",
        "df = df[~df['lighting'].isna()]\n",
        "df = df[~df['road_surface'].isna()]\n",
        "df = df[~df['weather_1'].isna()]\n",
        "df = df[~df['lighting'].isna()]\n",
        "df = df[~df['pcf_violation_category'].isna()]\n",
        "df = df[~df['road_condition_1'].isna()]\n",
        "df = df[~df['collision_hour'].isna()]\n",
        "df = df[~df['collision_time'].isna()]\n",
        "df = df[~df['insurance_premium'].isna()]"
      ]
    },
    {
      "cell_type": "code",
      "execution_count": null,
      "metadata": {
        "colab": {
          "base_uri": "https://localhost:8080/"
        },
        "id": "PHJ6_f3a6pYu",
        "outputId": "3912e416-f6bd-47c8-ff9b-c94e30c9867c"
      },
      "outputs": [
        {
          "data": {
            "text/plain": [
              "county_city_location          0\n",
              "county_location               0\n",
              "distance                      0\n",
              "direction                 12234\n",
              "intersection                  0\n",
              "weather_1                     0\n",
              "location_type             28604\n",
              "pcf_violation_category        0\n",
              "road_surface                  0\n",
              "road_condition_1              0\n",
              "lighting                      0\n",
              "control_device                0\n",
              "collision_date                0\n",
              "collision_time                0\n",
              "collision_hour                0\n",
              "at_fault                      0\n",
              "insurance_premium             0\n",
              "cellphone_in_use              0\n",
              "vehicle_type                  0\n",
              "vehicle_transmission        777\n",
              "vehicle_age                1479\n",
              "dtype: int64"
            ]
          },
          "execution_count": 45,
          "metadata": {},
          "output_type": "execute_result"
        }
      ],
      "source": [
        "df.isna().sum()"
      ]
    },
    {
      "cell_type": "markdown",
      "metadata": {
        "id": "wYn5S0O36tQX"
      },
      "source": [
        "У нас осталось 4 столбца, где есть пропуски. Попробуем привести значения в них к общему."
      ]
    },
    {
      "cell_type": "code",
      "execution_count": null,
      "metadata": {
        "colab": {
          "base_uri": "https://localhost:8080/"
        },
        "id": "Fr97cxG46r2l",
        "outputId": "55a3e65d-c95f-4723-8a8d-21ed9d56db65"
      },
      "outputs": [
        {
          "data": {
            "text/plain": [
              "north    11673\n",
              "south    11438\n",
              "west      9331\n",
              "east      9158\n",
              "Name: direction, dtype: int64"
            ]
          },
          "execution_count": 46,
          "metadata": {},
          "output_type": "execute_result"
        }
      ],
      "source": [
        "df['direction'].value_counts()"
      ]
    },
    {
      "cell_type": "markdown",
      "metadata": {
        "id": "nSJvFAIT6wL8"
      },
      "source": [
        "Заполним пропуски в этом столбце строкой 'None', поскольку непонятно, к какому направлению пропущенные значения относятся."
      ]
    },
    {
      "cell_type": "code",
      "execution_count": null,
      "metadata": {
        "id": "wGCYl4YB6ucu"
      },
      "outputs": [],
      "source": [
        "df['direction'].fillna('None', inplace=True)"
      ]
    },
    {
      "cell_type": "code",
      "execution_count": null,
      "metadata": {
        "colab": {
          "base_uri": "https://localhost:8080/",
          "height": 602
        },
        "id": "iYyK84Jq6xT_",
        "outputId": "d6156430-3de3-4bbb-8d12-ce4fd948ebd4"
      },
      "outputs": [
        {
          "data": {
            "image/png": "[encoded data removed]",
            "text/plain": [
              "<Figure size 720x432 with 1 Axes>"
            ]
          },
          "metadata": {},
          "output_type": "display_data"
        }
      ],
      "source": [
        "graph('direction')"
      ]
    },
    {
      "cell_type": "code",
      "execution_count": null,
      "metadata": {
        "colab": {
          "base_uri": "https://localhost:8080/"
        },
        "id": "i7Uosidk6yGb",
        "outputId": "5b8262ad-cce6-4dc3-e578-44be6c65333a"
      },
      "outputs": [
        {
          "data": {
            "text/plain": [
              "highway         20772\n",
              "ramp             3161\n",
              "intersection     1297\n",
              "Name: location_type, dtype: int64"
            ]
          },
          "execution_count": 49,
          "metadata": {},
          "output_type": "execute_result"
        }
      ],
      "source": [
        "df['location_type'].value_counts()"
      ]
    },
    {
      "cell_type": "markdown",
      "metadata": {
        "id": "7M-111UW61Ed"
      },
      "source": [
        "В этом столбце, так же, заполним пропуски строкой 'None', поскольку непонятно, к какому направлению пропущенные значения относятся."
      ]
    },
    {
      "cell_type": "code",
      "execution_count": null,
      "metadata": {
        "id": "k_AaHovm6zOL"
      },
      "outputs": [],
      "source": [
        "df['location_type'].fillna('None', inplace=True)"
      ]
    },
    {
      "cell_type": "code",
      "execution_count": null,
      "metadata": {
        "colab": {
          "base_uri": "https://localhost:8080/",
          "height": 602
        },
        "id": "ZrI7TgCI62PY",
        "outputId": "2d67b448-51b1-4c92-9ea7-306f6f84e960"
      },
      "outputs": [
        {
          "data": {
            "image/png": "[encoded data removed]",
            "text/plain": [
              "<Figure size 720x432 with 1 Axes>"
            ]
          },
          "metadata": {},
          "output_type": "display_data"
        }
      ],
      "source": [
        "graph('location_type')"
      ]
    },
    {
      "cell_type": "code",
      "execution_count": null,
      "metadata": {
        "colab": {
          "base_uri": "https://localhost:8080/"
        },
        "id": "TdBWJtwM63sL",
        "outputId": "b156e889-a35a-42c4-9b24-60f53e8d55e2"
      },
      "outputs": [
        {
          "data": {
            "text/plain": [
              "3.0      10573\n",
              "4.0       6838\n",
              "2.0       5796\n",
              "5.0       5312\n",
              "6.0       3793\n",
              "7.0       3701\n",
              "8.0       3381\n",
              "0.0       2967\n",
              "9.0       2674\n",
              "1.0       2438\n",
              "10.0      1865\n",
              "11.0      1328\n",
              "12.0       846\n",
              "13.0       526\n",
              "14.0       268\n",
              "15.0        37\n",
              "16.0         6\n",
              "17.0         3\n",
              "161.0        2\n",
              "19.0         1\n",
              "Name: vehicle_age, dtype: int64"
            ]
          },
          "execution_count": 52,
          "metadata": {},
          "output_type": "execute_result"
        }
      ],
      "source": [
        "df['vehicle_age'].value_counts()"
      ]
    },
    {
      "cell_type": "markdown",
      "metadata": {
        "id": "LADm-G3m66lb"
      },
      "source": [
        "В этом столбце можно спокойно заполнить пропуски медианным значением.\n",
        "Так же, есть выбросы - 4 машины, которым 161 год, эти данные мы удалим."
      ]
    },
    {
      "cell_type": "code",
      "execution_count": null,
      "metadata": {
        "id": "9008xSC567_c"
      },
      "outputs": [],
      "source": [
        "df['vehicle_age'].fillna(df['vehicle_age'].median(), inplace=True)"
      ]
    },
    {
      "cell_type": "code",
      "execution_count": null,
      "metadata": {
        "colab": {
          "base_uri": "https://localhost:8080/"
        },
        "id": "YzXwxq9o68_k",
        "outputId": "a3e00215-c5de-4dfc-cec8-82b5b31830a2"
      },
      "outputs": [
        {
          "data": {
            "text/plain": [
              "manual    25291\n",
              "auto      21713\n",
              "Name: vehicle_transmission, dtype: int64"
            ]
          },
          "execution_count": 55,
          "metadata": {},
          "output_type": "execute_result"
        }
      ],
      "source": [
        "df['vehicle_transmission'].value_counts()"
      ]
    },
    {
      "cell_type": "code",
      "execution_count": null,
      "metadata": {
        "colab": {
          "base_uri": "https://localhost:8080/"
        },
        "id": "12iaq_If6-D3",
        "outputId": "678381be-89c4-4ef5-8869-d30a04e71c96"
      },
      "outputs": [
        {
          "data": {
            "text/plain": [
              "3.0    10573\n",
              "4.0     6838\n",
              "2.0     5796\n",
              "5.0     5312\n",
              "6.0     3793\n",
              "7.0     3701\n",
              "8.0     3381\n",
              "0.0     2967\n",
              "9.0     2674\n",
              "1.0     2438\n",
              "Name: vehicle_age, dtype: int64"
            ]
          },
          "execution_count": 56,
          "metadata": {},
          "output_type": "execute_result"
        }
      ],
      "source": [
        "df['vehicle_age'].value_counts()"
      ]
    },
    {
      "cell_type": "code",
      "execution_count": null,
      "metadata": {
        "colab": {
          "base_uri": "https://localhost:8080/",
          "height": 602
        },
        "id": "El2L9jwc6_OI",
        "outputId": "3f601301-759d-4a7c-a120-826bff277c3a"
      },
      "outputs": [
        {
          "data": {
            "image/png": "[encoded data removed]",
            "text/plain": [
              "<Figure size 720x432 with 1 Axes>"
            ]
          },
          "metadata": {},
          "output_type": "display_data"
        }
      ],
      "source": [
        "graph('vehicle_age')"
      ]
    },
    {
      "cell_type": "markdown",
      "metadata": {
        "id": "NwkARuOU7Cj4"
      },
      "source": [
        "В этом столбце, так же, заполним пропуски строкой 'None', поскольку непонятно, к какому направлению пропущенные значения относятся."
      ]
    },
    {
      "cell_type": "code",
      "execution_count": null,
      "metadata": {
        "id": "OgWPE59q7Ar6"
      },
      "outputs": [],
      "source": [
        "df['vehicle_transmission'].fillna('None', inplace=True)"
      ]
    },
    {
      "cell_type": "code",
      "execution_count": null,
      "metadata": {
        "colab": {
          "base_uri": "https://localhost:8080/",
          "height": 602
        },
        "id": "bKERwuSK7ECw",
        "outputId": "75ce815a-7d4b-4cf8-8ef7-580d9c804038"
      },
      "outputs": [
        {
          "data": {
            "image/png": "[encoded data removed]",
            "text/plain": [
              "<Figure size 720x432 with 1 Axes>"
            ]
          },
          "metadata": {},
          "output_type": "display_data"
        }
      ],
      "source": [
        "graph('vehicle_transmission')"
      ]
    },
    {
      "cell_type": "code",
      "execution_count": null,
      "metadata": {
        "colab": {
          "base_uri": "https://localhost:8080/"
        },
        "id": "KaGYG5kd7FHz",
        "outputId": "a41e3cf4-4b46-4c88-cafa-9a83f9da09a1"
      },
      "outputs": [
        {
          "data": {
            "text/plain": [
              "county_city_location      0\n",
              "county_location           0\n",
              "distance                  0\n",
              "direction                 0\n",
              "intersection              0\n",
              "weather_1                 0\n",
              "location_type             0\n",
              "pcf_violation_category    0\n",
              "road_surface              0\n",
              "road_condition_1          0\n",
              "lighting                  0\n",
              "control_device            0\n",
              "collision_date            0\n",
              "collision_time            0\n",
              "collision_hour            0\n",
              "at_fault                  0\n",
              "insurance_premium         0\n",
              "cellphone_in_use          0\n",
              "vehicle_type              0\n",
              "vehicle_transmission      0\n",
              "vehicle_age               0\n",
              "dtype: int64"
            ]
          },
          "execution_count": 60,
          "metadata": {},
          "output_type": "execute_result"
        }
      ],
      "source": [
        " df.isna().sum()"
      ]
    },
    {
      "cell_type": "code",
      "execution_count": null,
      "metadata": {
        "colab": {
          "base_uri": "https://localhost:8080/"
        },
        "id": "qZ9nhop47F9Q",
        "outputId": "280088c5-7230-45dd-c2c1-2424d1586378"
      },
      "outputs": [
        {
          "data": {
            "text/plain": [
              "(47473, 21)"
            ]
          },
          "execution_count": 61,
          "metadata": {},
          "output_type": "execute_result"
        }
      ],
      "source": [
        "df.shape"
      ]
    },
    {
      "cell_type": "code",
      "execution_count": null,
      "metadata": {
        "colab": {
          "base_uri": "https://localhost:8080/"
        },
        "id": "OpvPiPxb7H0L",
        "outputId": "ebeb072c-474b-44b8-b06b-7a891ae94ae2"
      },
      "outputs": [
        {
          "name": "stdout",
          "output_type": "stream",
          "text": [
            "<class 'pandas.core.frame.DataFrame'>\n",
            "Int64Index: 47473 entries, 0 to 56247\n",
            "Data columns (total 21 columns):\n",
            " #   Column                  Non-Null Count  Dtype  \n",
            "---  ------                  --------------  -----  \n",
            " 0   county_city_location    47473 non-null  object \n",
            " 1   county_location         47473 non-null  object \n",
            " 2   distance                47473 non-null  float64\n",
            " 3   direction               47473 non-null  object \n",
            " 4   intersection            47473 non-null  float64\n",
            " 5   weather_1               47473 non-null  object \n",
            " 6   location_type           47473 non-null  object \n",
            " 7   pcf_violation_category  47473 non-null  object \n",
            " 8   road_surface            47473 non-null  object \n",
            " 9   road_condition_1        47473 non-null  object \n",
            " 10  lighting                47473 non-null  object \n",
            " 11  control_device          47473 non-null  object \n",
            " 12  collision_date          47473 non-null  object \n",
            " 13  collision_time          47473 non-null  object \n",
            " 14  collision_hour          47473 non-null  float64\n",
            " 15  at_fault                47473 non-null  int64  \n",
            " 16  insurance_premium       47473 non-null  float64\n",
            " 17  cellphone_in_use        47473 non-null  float64\n",
            " 18  vehicle_type            47473 non-null  object \n",
            " 19  vehicle_transmission    47473 non-null  object \n",
            " 20  vehicle_age             47473 non-null  float64\n",
            "dtypes: float64(6), int64(1), object(14)\n",
            "memory usage: 8.0+ MB\n"
          ]
        }
      ],
      "source": [
        "df.info()"
      ]
    },
    {
      "cell_type": "code",
      "execution_count": null,
      "metadata": {
        "colab": {
          "base_uri": "https://localhost:8080/"
        },
        "id": "V6ve6R4Y7ID_",
        "outputId": "0902cb03-259f-4c7c-f51a-f5df0fbf8c5b"
      },
      "outputs": [
        {
          "data": {
            "text/plain": [
              "0        2\n",
              "1        5\n",
              "2        1\n",
              "3        4\n",
              "4        6\n",
              "        ..\n",
              "56242    6\n",
              "56243    0\n",
              "56244    3\n",
              "56246    3\n",
              "56247    7\n",
              "Name: vehicle_age, Length: 47473, dtype: int64"
            ]
          },
          "execution_count": 63,
          "metadata": {},
          "output_type": "execute_result"
        }
      ],
      "source": [
        "df['vehicle_age'].astype('int')"
      ]
    },
    {
      "cell_type": "markdown",
      "metadata": {
        "id": "yLVJIeU_7Kyr"
      },
      "source": [
        "##### Рассмотрим еще несколько графиков"
      ]
    },
    {
      "cell_type": "code",
      "execution_count": null,
      "metadata": {
        "colab": {
          "base_uri": "https://localhost:8080/",
          "height": 602
        },
        "id": "VjY3lbBn7JI1",
        "outputId": "71226c71-a896-44d2-ab5d-1c365017d4d9"
      },
      "outputs": [
        {
          "data": {
            "image/png": "[encoded data removed]",
            "text/plain": [
              "<Figure size 720x432 with 1 Axes>"
            ]
          },
          "metadata": {},
          "output_type": "display_data"
        }
      ],
      "source": [
        "graph('intersection')"
      ]
    },
    {
      "cell_type": "code",
      "execution_count": null,
      "metadata": {
        "colab": {
          "base_uri": "https://localhost:8080/",
          "height": 602
        },
        "id": "xPgkT8_K7L1k",
        "outputId": "71be11c1-5e26-4d64-88ee-ef3d020e3d66"
      },
      "outputs": [
        {
          "data": {
            "image/png": "[encoded data removed]",
            "text/plain": [
              "<Figure size 720x432 with 1 Axes>"
            ]
          },
          "metadata": {},
          "output_type": "display_data"
        }
      ],
      "source": [
        "graph('vehicle_type')"
      ]
    },
    {
      "cell_type": "code",
      "execution_count": null,
      "metadata": {
        "colab": {
          "base_uri": "https://localhost:8080/",
          "height": 602
        },
        "id": "dpiHjEtf7Mqr",
        "outputId": "63d2057f-5742-4ca2-86de-1693ec70d31e"
      },
      "outputs": [
        {
          "data": {
            "image/png": "[encoded data removed]",
            "text/plain": [
              "<Figure size 720x432 with 1 Axes>"
            ]
          },
          "metadata": {},
          "output_type": "display_data"
        }
      ],
      "source": [
        "graph('lighting')"
      ]
    },
    {
      "cell_type": "markdown",
      "metadata": {
        "id": "FJXJrzK27O29"
      },
      "source": [
        "В результате выполнения нашей работы, мы осуществили следующие действия:\n",
        "\n",
        "Мы объединили все необходимые параметры для модели в одну таблицу.\n",
        "Мы подробно изучили данные и обнаружили, что в них имеется много пропусков.\n",
        "Для улучшения обучения моделей мы удалили небольшой процент данных, который не оказывает существенного влияния на общую картину.\n",
        "К сожалению, в столбце \"location_type\" было много пропусков, хотя этот фактор является одним из основных.\n",
        "Далее мы сосредоточимся на подготовке данных для обучения моделей."
      ]
    },
    {
      "cell_type": "markdown",
      "metadata": {
        "id": "fLzdpxKU7R8b"
      },
      "source": [
        "### Подготовка данных"
      ]
    },
    {
      "cell_type": "code",
      "execution_count": null,
      "metadata": {
        "id": "sQ2clkUw7Nbl"
      },
      "outputs": [],
      "source": [
        "# отключим предупреждение, которое Pandas выводит при обнаружении цепочки присваиваний.\n",
        "pd.options.mode.chained_assignment = None\n",
        "\n",
        "categorical_cols = ['county_city_location', 'county_location','direction','intersection','weather_1','location_type',\n",
        "                    'pcf_violation_category','road_surface','road_condition_1','lighting','control_device','collision_date',\n",
        "                    'collision_time','collision_hour','cellphone_in_use','vehicle_type','vehicle_transmission']\n",
        "numeric_col = ['vehicle_age','distance','insurance_premium']\n",
        "\n",
        "# Выделим таргет\n",
        "X = df.drop('at_fault', axis=1)\n",
        "y = df['at_fault']\n",
        "\n",
        "# Разобьем данные на трнеировочную и тестовую выборки\n",
        "X_train, X_test, y_train, y_test = train_test_split(\n",
        "    X, y, random_state=42, test_size=0.25\n",
        ")\n",
        "\n",
        "# Выполним порядковое кодирование\n",
        "encoder = OrdinalEncoder(handle_unknown='use_encoded_value', unknown_value=-1)\n",
        "encoder.fit(X_train[categorical_cols])\n",
        "X_train[categorical_cols] = encoder.transform(X_train[categorical_cols])\n",
        "X_test[categorical_cols] = encoder.transform(X_test[categorical_cols])\n",
        "\n",
        "# Масштабирование признаков\n",
        "scaler = StandardScaler()\n",
        "scaler.fit(X_train)\n",
        "\n",
        "X_train = scaler.transform(X_train)\n",
        "X_test = scaler.transform(X_test)"
      ]
    },
    {
      "cell_type": "markdown",
      "metadata": {
        "id": "ZtqsUDQd7WB-"
      },
      "source": [
        "В рамках нашей задачи необходимо осуществить следующее: минимизировать риск попадания в ДТП на маршруте движения. У нас имеется задача бинарной классификации, где значения целевого показателя - это \"Виновен\" и \"Не виновен\". Необходимо минимизировать ложноотрицательные значения с целью максимального снижения возможного риска, но также и минимизировать ложноположительные значения, чтобы была возможность быстро добраться на пункта назначения. С этим поможет справиться F1-мера. F1-мера является полезной метрикой, когда вам нужно сбалансировать Precision и Recall. Она вычисляется как двукратное произведение Precision и Recall, деленное на их сумму. Также для определения умения предсказывания и качества модели будем использовать AUC-ROC, сравнивая с рандомной моделью.Метрика AUC-ROC (Area Under the Receiver Operating Characteristic Curve) широко используется для оценки качества бинарного классификатора. Она измеряет способность классификатора разделять положительные и отрицательные примеры, учитывая все возможные пороговые значения.\n",
        "Напиши другими словами\n",
        "\n",
        "В данной бизнес-задаче мы ставим перед собой цель минимизировать риск попадания в ДТП при движении по маршруту. Для этого мы используем задачу бинарной классификации, где целевые значения могут быть \"Виновен\" или \"Не виновен\". Наша главная задача - снизить количество ложноотрицательных предсказаний, чтобы снизить реальный риск, однако мы также стремимся минимизировать ложноположительные предсказания, чтобы иметь возможность быстро достичь конечного пункта маршрута.\n",
        "\n",
        "Для достижения этой цели мы используем F1-меру, которая является полезной метрикой для балансировки между Precision и Recall. F1-мера вычисляется путем умножения Precision и Recall в два раза и деления на их сумму. Эта метрика позволяет нам оценить способность модели предсказывать и сбалансировать важность точности и полноты предсказаний.\n",
        "\n",
        "Для оценки качества классификатора мы также используем AUC-ROC, которая измеряет способность модели разделять положительные и отрицательные примеры, учитывая все возможные пороговые значения. Она широко используется для оценки бинарных классификаторов и позволяет сравнить производительность модели с произвольной моделью."
      ]
    },
    {
      "cell_type": "code",
      "execution_count": null,
      "metadata": {
        "id": "DzVPnjyL7UEt"
      },
      "outputs": [],
      "source": [
        "scoring = ['f1', 'roc_auc']"
      ]
    },
    {
      "cell_type": "markdown",
      "metadata": {
        "id": "mlW-KhqN7cMU"
      },
      "source": [
        "Нужно создать несколько моделей машинного обучения для решения задачи оценки риска попадания в ДТП на определенном маршруте. Для этого мы рассматриваем несколько ML-моделей: RandomForestClassifier, LGBMClassifier и нейронную сеть.\n",
        "\n",
        "RandomForestClassifier - это модель, основанная на ансамбле деревьев решений. Она строит несколько деревьев, каждое из которых делает предсказания, и затем комбинирует эти предсказания для получения окончательного результата. RandomForestClassifier обладает хорошей способностью к обобщению данных и устойчивостью к переобучению.\n",
        "\n",
        "LGBMClassifier - это модель градиентного бустинга на основе деревьев решений. Она работает похожим образом, как и RandomForestClassifier, но с использованием более эффективного алгоритма градиентного бустинга. LGBMClassifier обладает высокой скоростью работы и хорошей точностью.\n",
        "\n",
        "Нейронная сеть - это модель, которая имитирует работу человеческого мозга. Она состоит из нейронов, соединенных между собой, и обладает способностью обучаться на больших объемах данных. Нейронная сеть обеспечивает гибкость и способность к выявлению сложных связей в данных, что может быть полезно для нашей задачи оценки риска.\n",
        "\n",
        "Для каждой модели мы также планируем осуществить подбор гиперпараметров, чтобы достичь наилучшей производительности. После этого мы проведем тестирование моделей, чтобы оценить их качество и выбрать наиболее подходящую модель для решения нашей задачи."
      ]
    },
    {
      "cell_type": "markdown",
      "metadata": {
        "id": "kWjX2k_-WafB"
      },
      "source": [
        "## Шаг 5. Поиск наилучшей модели"
      ]
    },
    {
      "cell_type": "code",
      "execution_count": null,
      "metadata": {
        "colab": {
          "base_uri": "https://localhost:8080/",
          "height": 121
        },
        "id": "c49PKpV27ZrI",
        "outputId": "31f7608d-5111-444c-a2f6-1df65f47176c"
      },
      "outputs": [
        {
          "name": "stdout",
          "output_type": "stream",
          "text": [
            "RandomForestClassifier(max_depth=10, n_estimators=350, random_state=42)\n"
          ]
        },
        {
          "data": {
            "text/plain": [
              "mean_test_f1         0.654889\n",
              "mean_test_roc_auc    0.732018\n",
              "Name: 4, dtype: float64"
            ]
          },
          "metadata": {},
          "output_type": "display_data"
        },
        {
          "name": "stdout",
          "output_type": "stream",
          "text": [
            "CPU times: user 22min 1s, sys: 7 s, total: 22min 8s\n",
            "Wall time: 22min 9s\n"
          ]
        }
      ],
      "source": [
        "%%time\n",
        "\n",
        "forest = RandomForestClassifier(random_state=42)\n",
        "\n",
        "# Гиперпараметры для перебора\n",
        "param_grid = {\n",
        "    'max_depth': range(10, 21, 2),\n",
        "    'n_estimators': range(150, 351, 50)\n",
        "}\n",
        "\n",
        "# Перебор гиперпараметров.\n",
        "#Так же, установим параметр refit='f1' - это означает, что лучшая модель будет выбрана на основе значения метрики F1.\n",
        "grid = GridSearchCV(forest, param_grid, scoring=scoring, refit='f1')\n",
        "grid.fit(X_train, y_train)\n",
        "\n",
        "# Получение значения гиперпараметров с лучшими метриками\n",
        "metrics_columns = [f'mean_test_{x}' for x in scoring]\n",
        "final_metrics = pd.DataFrame(grid.cv_results_)[metrics_columns].iloc[grid.best_index_]\n",
        "\n",
        "print(grid.best_estimator_)\n",
        "display(final_metrics)\n"
      ]
    },
    {
      "cell_type": "code",
      "execution_count": null,
      "metadata": {
        "id": "NqOiY3bK7drs"
      },
      "outputs": [],
      "source": [
        "forest = RandomForestClassifier(max_depth=10, n_estimators=300, random_state=42)\n",
        "forest.fit(X_train, y_train)\n",
        "forest_preds = forest.predict(X_test)\n",
        "forest_f1 = round(f1_score(y_test, forest_preds), 3)\n",
        "forest_auc_roc = round(roc_auc_score(y_test, forest_preds), 3)"
      ]
    },
    {
      "cell_type": "code",
      "execution_count": null,
      "metadata": {
        "colab": {
          "base_uri": "https://localhost:8080/",
          "height": 260
        },
        "id": "TOnnNBX_7e75",
        "outputId": "6b6f57ab-5973-4243-bb05-e5fc2dfcbc7e"
      },
      "outputs": [
        {
          "name": "stdout",
          "output_type": "stream",
          "text": [
            "LGBMClassifier(random_state=42)\n"
          ]
        },
        {
          "data": {
            "text/plain": [
              "mean_test_f1         0.664966\n",
              "mean_test_roc_auc    0.747580\n",
              "Name: 6, dtype: float64"
            ]
          },
          "metadata": {},
          "output_type": "display_data"
        },
        {
          "name": "stdout",
          "output_type": "stream",
          "text": [
            "CPU times: user 4min 31s, sys: 2.82 s, total: 4min 33s\n",
            "Wall time: 4min 38s\n"
          ]
        }
      ],
      "source": [
        "%%time\n",
        "\n",
        "lgbm = LGBMClassifier(random_state=42)\n",
        "\n",
        "# Гиперпараметры для перебора\n",
        "params_lgbm = {\n",
        "    'num_leaves': range(31, 41, 3),\n",
        "    'n_estimators': range(100, 201, 50),\n",
        "}\n",
        "\n",
        "# Перебор гиперпараметров\n",
        "random_grid = RandomizedSearchCV(lgbm, params_lgbm, scoring=scoring, refit='f1')\n",
        "random_grid.fit(X_train, y_train)\n",
        "\n",
        "# Получение значения гиперпараметров с лучшими метриками\n",
        "metrics_columns = [f'mean_test_{x}' for x in scoring]\n",
        "final_metrics = pd.DataFrame(random_grid.cv_results_)[metrics_columns].iloc[random_grid.best_index_]\n",
        "\n",
        "print(random_grid.best_estimator_)\n",
        "display(final_metrics)"
      ]
    },
    {
      "cell_type": "code",
      "execution_count": null,
      "metadata": {
        "id": "IVzDKMvn7f8q"
      },
      "outputs": [],
      "source": [
        "lgbm = LGBMClassifier(n_estimators=150, random_state=42)\n",
        "lgbm.fit(X_train, y_train)\n",
        "lgbm_preds = lgbm.predict(X_test)\n",
        "lgbm_f1 = round(f1_score(y_test, lgbm_preds), 3)\n",
        "lgbm_auc_roc = round(roc_auc_score(y_test, lgbm_preds), 3)"
      ]
    },
    {
      "cell_type": "code",
      "execution_count": null,
      "metadata": {
        "id": "q0YugYI87g6C"
      },
      "outputs": [],
      "source": [
        "# Установка random seed\n",
        "\n",
        "torch.manual_seed(42)\n",
        "np.random.seed(42)\n",
        "\n",
        "X_train_torch = torch.FloatTensor(X_train)\n",
        "X_test_torch = torch.FloatTensor(X_test)\n",
        "y_train_torch = torch.FloatTensor(y_train.values)\n",
        "y_test_torch = torch.FloatTensor(y_test.values)\n",
        "\n",
        "in_neurons = X_train.shape[1]\n",
        "hidden_neurons_1 = 16\n",
        "hidden_neurons_2 = 8\n",
        "out_neurons = 1\n",
        "\n",
        "class Net(nn.Module):\n",
        "    def __init__(self):\n",
        "        super(Net, self).__init__()\n",
        "        self.fc1 = nn.Linear(in_neurons, hidden_neurons_1)\n",
        "        self.bn1 = nn.BatchNorm1d(hidden_neurons_1)\n",
        "        self.fc2 = nn.Linear(hidden_neurons_1, hidden_neurons_2)\n",
        "        self.bn2 = nn.BatchNorm1d(hidden_neurons_2)\n",
        "        self.fc3 = nn.Linear(hidden_neurons_2, out_neurons)\n",
        "\n",
        "    def forward(self, x):\n",
        "        x = self.fc1(x)\n",
        "        x = self.bn1(x)\n",
        "        x = F.sigmoid(x)\n",
        "        x = self.fc2(x)\n",
        "        x = self.bn2(x)\n",
        "        x = F.sigmoid(x)\n",
        "        x = self.fc3(x)\n",
        "        x = F.sigmoid(x)\n",
        "        return x\n",
        "\n",
        "net = Net()\n",
        "optimizer = optim.Adam(net.parameters(), lr=1e-3)\n",
        "loss = nn.BCELoss()\n"
      ]
    },
    {
      "cell_type": "code",
      "execution_count": null,
      "metadata": {
        "colab": {
          "base_uri": "https://localhost:8080/"
        },
        "id": "iLh2PnsD7iSF",
        "outputId": "dd1925c4-2d10-4fe8-a88f-c0be55798172"
      },
      "outputs": [
        {
          "data": {
            "text/plain": [
              "Net(\n",
              "  (fc1): Linear(in_features=20, out_features=16, bias=True)\n",
              "  (bn1): BatchNorm1d(16, eps=1e-05, momentum=0.1, affine=True, track_running_stats=True)\n",
              "  (fc2): Linear(in_features=16, out_features=8, bias=True)\n",
              "  (bn2): BatchNorm1d(8, eps=1e-05, momentum=0.1, affine=True, track_running_stats=True)\n",
              "  (fc3): Linear(in_features=8, out_features=1, bias=True)\n",
              ")"
            ]
          },
          "execution_count": 74,
          "metadata": {},
          "output_type": "execute_result"
        }
      ],
      "source": [
        "def init_weights(m):\n",
        "    if isinstance(m, nn.Linear):\n",
        "        init.xavier_uniform_(m.weight)\n",
        "        init.constant_(m.bias, 0.0)\n",
        "\n",
        "net.apply(init_weights)"
      ]
    },
    {
      "cell_type": "code",
      "execution_count": null,
      "metadata": {
        "colab": {
          "base_uri": "https://localhost:8080/"
        },
        "id": "Wa4hMQOv7jRm",
        "outputId": "bc47e24b-d8cf-4fd3-eaf3-cac6ab2813b7"
      },
      "outputs": [
        {
          "name": "stderr",
          "output_type": "stream",
          "text": [
            "/opt/conda/lib/python3.9/site-packages/torch/nn/functional.py:1806: UserWarning: nn.functional.sigmoid is deprecated. Use torch.sigmoid instead.\n",
            "  warnings.warn(\"nn.functional.sigmoid is deprecated. Use torch.sigmoid instead.\")\n"
          ]
        },
        {
          "name": "stdout",
          "output_type": "stream",
          "text": [
            "Epoch: 0\n",
            "F1-мера = 0.625\n",
            "AUC-ROC = 0.636 \n",
            "\n"
          ]
        },
        {
          "name": "stderr",
          "output_type": "stream",
          "text": [
            "/opt/conda/lib/python3.9/site-packages/torch/nn/functional.py:1806: UserWarning: nn.functional.sigmoid is deprecated. Use torch.sigmoid instead.\n",
            "  warnings.warn(\"nn.functional.sigmoid is deprecated. Use torch.sigmoid instead.\")\n"
          ]
        },
        {
          "name": "stdout",
          "output_type": "stream",
          "text": [
            "Epoch: 1\n",
            "F1-мера = 0.628\n",
            "AUC-ROC = 0.638 \n",
            "\n"
          ]
        },
        {
          "name": "stderr",
          "output_type": "stream",
          "text": [
            "/opt/conda/lib/python3.9/site-packages/torch/nn/functional.py:1806: UserWarning: nn.functional.sigmoid is deprecated. Use torch.sigmoid instead.\n",
            "  warnings.warn(\"nn.functional.sigmoid is deprecated. Use torch.sigmoid instead.\")\n"
          ]
        },
        {
          "name": "stdout",
          "output_type": "stream",
          "text": [
            "Epoch: 2\n",
            "F1-мера = 0.633\n",
            "AUC-ROC = 0.637 \n",
            "\n"
          ]
        },
        {
          "name": "stderr",
          "output_type": "stream",
          "text": [
            "/opt/conda/lib/python3.9/site-packages/torch/nn/functional.py:1806: UserWarning: nn.functional.sigmoid is deprecated. Use torch.sigmoid instead.\n",
            "  warnings.warn(\"nn.functional.sigmoid is deprecated. Use torch.sigmoid instead.\")\n"
          ]
        },
        {
          "name": "stdout",
          "output_type": "stream",
          "text": [
            "Epoch: 3\n",
            "F1-мера = 0.634\n",
            "AUC-ROC = 0.638 \n",
            "\n"
          ]
        },
        {
          "name": "stderr",
          "output_type": "stream",
          "text": [
            "/opt/conda/lib/python3.9/site-packages/torch/nn/functional.py:1806: UserWarning: nn.functional.sigmoid is deprecated. Use torch.sigmoid instead.\n",
            "  warnings.warn(\"nn.functional.sigmoid is deprecated. Use torch.sigmoid instead.\")\n"
          ]
        },
        {
          "name": "stdout",
          "output_type": "stream",
          "text": [
            "Epoch: 4\n",
            "F1-мера = 0.61\n",
            "AUC-ROC = 0.639 \n",
            "\n"
          ]
        },
        {
          "name": "stderr",
          "output_type": "stream",
          "text": [
            "/opt/conda/lib/python3.9/site-packages/torch/nn/functional.py:1806: UserWarning: nn.functional.sigmoid is deprecated. Use torch.sigmoid instead.\n",
            "  warnings.warn(\"nn.functional.sigmoid is deprecated. Use torch.sigmoid instead.\")\n"
          ]
        },
        {
          "name": "stdout",
          "output_type": "stream",
          "text": [
            "Epoch: 5\n",
            "F1-мера = 0.614\n",
            "AUC-ROC = 0.642 \n",
            "\n"
          ]
        },
        {
          "name": "stderr",
          "output_type": "stream",
          "text": [
            "/opt/conda/lib/python3.9/site-packages/torch/nn/functional.py:1806: UserWarning: nn.functional.sigmoid is deprecated. Use torch.sigmoid instead.\n",
            "  warnings.warn(\"nn.functional.sigmoid is deprecated. Use torch.sigmoid instead.\")\n"
          ]
        },
        {
          "name": "stdout",
          "output_type": "stream",
          "text": [
            "Epoch: 6\n",
            "F1-мера = 0.623\n",
            "AUC-ROC = 0.644 \n",
            "\n"
          ]
        },
        {
          "name": "stderr",
          "output_type": "stream",
          "text": [
            "/opt/conda/lib/python3.9/site-packages/torch/nn/functional.py:1806: UserWarning: nn.functional.sigmoid is deprecated. Use torch.sigmoid instead.\n",
            "  warnings.warn(\"nn.functional.sigmoid is deprecated. Use torch.sigmoid instead.\")\n"
          ]
        },
        {
          "name": "stdout",
          "output_type": "stream",
          "text": [
            "Epoch: 7\n",
            "F1-мера = 0.607\n",
            "AUC-ROC = 0.647 \n",
            "\n"
          ]
        },
        {
          "name": "stderr",
          "output_type": "stream",
          "text": [
            "/opt/conda/lib/python3.9/site-packages/torch/nn/functional.py:1806: UserWarning: nn.functional.sigmoid is deprecated. Use torch.sigmoid instead.\n",
            "  warnings.warn(\"nn.functional.sigmoid is deprecated. Use torch.sigmoid instead.\")\n"
          ]
        },
        {
          "name": "stdout",
          "output_type": "stream",
          "text": [
            "Epoch: 8\n",
            "F1-мера = 0.631\n",
            "AUC-ROC = 0.651 \n",
            "\n"
          ]
        },
        {
          "name": "stderr",
          "output_type": "stream",
          "text": [
            "/opt/conda/lib/python3.9/site-packages/torch/nn/functional.py:1806: UserWarning: nn.functional.sigmoid is deprecated. Use torch.sigmoid instead.\n",
            "  warnings.warn(\"nn.functional.sigmoid is deprecated. Use torch.sigmoid instead.\")\n"
          ]
        },
        {
          "name": "stdout",
          "output_type": "stream",
          "text": [
            "Epoch: 9\n",
            "F1-мера = 0.628\n",
            "AUC-ROC = 0.65 \n",
            "\n"
          ]
        },
        {
          "name": "stderr",
          "output_type": "stream",
          "text": [
            "/opt/conda/lib/python3.9/site-packages/torch/nn/functional.py:1806: UserWarning: nn.functional.sigmoid is deprecated. Use torch.sigmoid instead.\n",
            "  warnings.warn(\"nn.functional.sigmoid is deprecated. Use torch.sigmoid instead.\")\n"
          ]
        },
        {
          "name": "stdout",
          "output_type": "stream",
          "text": [
            "Epoch: 10\n",
            "F1-мера = 0.624\n",
            "AUC-ROC = 0.65 \n",
            "\n"
          ]
        },
        {
          "name": "stderr",
          "output_type": "stream",
          "text": [
            "/opt/conda/lib/python3.9/site-packages/torch/nn/functional.py:1806: UserWarning: nn.functional.sigmoid is deprecated. Use torch.sigmoid instead.\n",
            "  warnings.warn(\"nn.functional.sigmoid is deprecated. Use torch.sigmoid instead.\")\n"
          ]
        },
        {
          "name": "stdout",
          "output_type": "stream",
          "text": [
            "Epoch: 11\n",
            "F1-мера = 0.634\n",
            "AUC-ROC = 0.652 \n",
            "\n",
            "CPU times: user 21.7 s, sys: 214 ms, total: 21.9 s\n",
            "Wall time: 22.3 s\n"
          ]
        }
      ],
      "source": [
        "%%time\n",
        "\n",
        "num_epochs = 12\n",
        "batch_size = 128\n",
        "num_batches = ceil(len(X_train_torch) / batch_size)\n",
        "\n",
        "for epoch in range(num_epochs):\n",
        "    order = np.random.permutation(len(X_train_torch))\n",
        "    for batch_idx in range(num_batches):\n",
        "        start_idx = batch_idx * batch_size\n",
        "        optimizer.zero_grad()\n",
        "        batch_indexes = order[start_idx:start_idx + batch_size]\n",
        "        X_batch = X_train_torch[batch_indexes]\n",
        "        y_batch = y_train_torch[batch_indexes]\n",
        "        preds = net(X_batch).flatten()\n",
        "        loss_value = loss(preds, y_batch)\n",
        "        loss_value.backward()\n",
        "        optimizer.step()\n",
        "\n",
        "    if epoch % 1 == 0:\n",
        "        net.eval()\n",
        "        net_preds = net(X_test_torch).flatten()\n",
        "        net_f1 = round(f1_score(y_test, net_preds.detach().numpy().round()), 3)\n",
        "        net_auc_roc = round(roc_auc_score(y_test, net_preds.detach().numpy().round()), 3)\n",
        "        print('Epoch:', epoch)\n",
        "        print('F1-мера =', net_f1)\n",
        "        print('AUC-ROC =', net_auc_roc, '\\n')"
      ]
    },
    {
      "cell_type": "code",
      "execution_count": null,
      "metadata": {
        "colab": {
          "base_uri": "https://localhost:8080/",
          "height": 112
        },
        "id": "IH-z6eYr7klT",
        "outputId": "900b5b47-7cb3-4049-9c32-a85a1a07e02d"
      },
      "outputs": [
        {
          "data": {
            "text/html": [
              "<div>\n",
              "<style scoped>\n",
              "    .dataframe tbody tr th:only-of-type {\n",
              "        vertical-align: middle;\n",
              "    }\n",
              "\n",
              "    .dataframe tbody tr th {\n",
              "        vertical-align: top;\n",
              "    }\n",
              "\n",
              "    .dataframe thead th {\n",
              "        text-align: right;\n",
              "    }\n",
              "</style>\n",
              "<table border=\"1\" class=\"dataframe\">\n",
              "  <thead>\n",
              "    <tr style=\"text-align: right;\">\n",
              "      <th></th>\n",
              "      <th>RandomForestClassifier</th>\n",
              "      <th>LGBMClassifier</th>\n",
              "      <th>NeuralNet</th>\n",
              "    </tr>\n",
              "  </thead>\n",
              "  <tbody>\n",
              "    <tr>\n",
              "      <th>F1</th>\n",
              "      <td>0.663</td>\n",
              "      <td>0.667</td>\n",
              "      <td>0.634</td>\n",
              "    </tr>\n",
              "    <tr>\n",
              "      <th>AUC-ROC</th>\n",
              "      <td>0.681</td>\n",
              "      <td>0.680</td>\n",
              "      <td>0.652</td>\n",
              "    </tr>\n",
              "  </tbody>\n",
              "</table>\n",
              "</div>"
            ],
            "text/plain": [
              "         RandomForestClassifier  LGBMClassifier  NeuralNet\n",
              "F1                        0.663           0.667      0.634\n",
              "AUC-ROC                   0.681           0.680      0.652"
            ]
          },
          "metadata": {},
          "output_type": "display_data"
        }
      ],
      "source": [
        "models_metrics = pd.DataFrame(\n",
        "    data=[[forest_f1, lgbm_f1, net_f1],\n",
        "          [forest_auc_roc, lgbm_auc_roc, net_auc_roc]],\n",
        "    columns=['RandomForestClassifier', 'LGBMClassifier', 'NeuralNet'],\n",
        "    index=['F1', 'AUC-ROC']\n",
        ")\n",
        "\n",
        "display(models_metrics)"
      ]
    },
    {
      "cell_type": "markdown",
      "metadata": {
        "id": "HDsDZ1NSVZLZ"
      },
      "source": [
        "Исходя из предоставленных данных, можно сделать следующие выводы:\n",
        "\n",
        "RandomForestClassifier показал значительное значение F1-меры (0.663), что указывает на высокую способность модели правильно классифицировать оба класса. Значение AUC-ROC для этой модели (0.681) также является довольно высоким, указывая на хорошую способность модели предсказывать вероятности.\n",
        "\n",
        "LGBMClassifier имеет незначительно более высокие значения F1-меры (0.667) по сравнению с RandomForestClassifier, указывая на более сбалансированную модель для обоих классов. Значение AUC-ROC для этой модели (0.680) также довольно высокое, подтверждая хорошую способность модели в вероятностной оценке предсказаний.\n",
        "\n",
        "NeuralNet показывает F1-меру немного лучше, чем остальные модели (0.634). Значение AUC-ROC для этой модели (0.652) также является довольно высоким, указывая на хорошую способность модели предсказывать вероятности.\n",
        "\n",
        "В целом, все три модели показывают высокую производительность и хорошие значения метрик F1 и AUC-ROC. Но NeuralNet вырывается вперед."
      ]
    },
    {
      "cell_type": "markdown",
      "metadata": {
        "id": "fgW-E-NdV8Vr"
      },
      "source": [
        "## Шаг 6. Проверим лучшую модель в работе"
      ]
    },
    {
      "cell_type": "markdown",
      "metadata": {
        "id": "O8NeLfGfWAJn"
      },
      "source": [
        "Для начала, давайте рассмотрим матрицу ошибок для лучших моделей. Матрица ошибок – это таблица, представляющая собой сопоставление предсказанных и фактических классов в задаче классификации.\n",
        "\n",
        "После этого мы можем определить важность параметров, то есть как каждый параметр влияет на предсказания модели.\n"
      ]
    },
    {
      "cell_type": "code",
      "execution_count": null,
      "metadata": {
        "colab": {
          "base_uri": "https://localhost:8080/",
          "height": 585
        },
        "id": "vqNpR8_i25jl",
        "outputId": "adb962fb-db24-4557-8aec-c67ad347f65a"
      },
      "outputs": [
        {
          "data": {
            "image/png": "[encoded data removed]",
            "text/plain": [
              "<Figure size 576x432 with 2 Axes>"
            ]
          },
          "metadata": {},
          "output_type": "display_data"
        }
      ],
      "source": [
        "\n",
        "# Создаем матрицу ошибок\n",
        "cm = confusion_matrix(y_test, lgbm_preds)\n",
        "\n",
        "# Вычисляем значения метрик Recall и Precision\n",
        "precision = precision_score(y_test, lgbm_preds)\n",
        "recall = recall_score(y_test, lgbm_preds)\n",
        "\n",
        "# Создаем список меток классов\n",
        "class_names = ['Класс 0', 'Класс 1']\n",
        "\n",
        "# Создаем фигуру и оси графика\n",
        "plt.figure(figsize=(8, 6))\n",
        "sns.heatmap(cm, annot=True, fmt='d', cmap='Blues', xticklabels=class_names, yticklabels=class_names)\n",
        "\n",
        "# Добавляем значения метрик Recall и Precision в заголовок\n",
        "plt.title(f'Матрица ошибок\\nRecall: {recall:.3f}, Precision: {precision:.3f}')\n",
        "\n",
        "# Добавляем названия осей\n",
        "plt.xlabel('Предсказанный класс')\n",
        "plt.ylabel('Истинный класс')\n",
        "\n",
        "# Отображаем график\n",
        "plt.show()"
      ]
    },
    {
      "cell_type": "code",
      "execution_count": null,
      "metadata": {
        "colab": {
          "base_uri": "https://localhost:8080/",
          "height": 585
        },
        "id": "IXr5Zr2S3wlz",
        "outputId": "39244c32-2315-4214-f73c-cef0ceefde0a"
      },
      "outputs": [
        {
          "data": {
            "image/png": "[encoded data removed]",
            "text/plain": [
              "<Figure size 576x432 with 2 Axes>"
            ]
          },
          "metadata": {},
          "output_type": "display_data"
        }
      ],
      "source": [
        "# Создаем матрицу ошибок\n",
        "cm_net = confusion_matrix(y_test, net_preds.detach().numpy().round())\n",
        "\n",
        "# Вычисляем значения метрик Recall и Precision\n",
        "precision_net = precision_score(y_test, net_preds.detach().numpy().round())\n",
        "recall_net = recall_score(y_test, net_preds.detach().numpy().round())\n",
        "\n",
        "# Создаем список с названиями классов\n",
        "class_names = [\"Класс 0\", \"Класс 1\"]\n",
        "\n",
        "# Создаем фигуру и оси графика\n",
        "plt.figure(figsize=(8, 6))\n",
        "sns.heatmap(cm_net, annot=True, fmt='d', cmap='Blues', xticklabels=class_names, yticklabels=class_names)\n",
        "\n",
        "# Добавляем значения метрик Recall и Precision в заголовок\n",
        "plt.title(f'Матрица ошибок\\nRecall: {recall_net:.3f}, Precision: {precision_net:.3f}')\n",
        "\n",
        "# Добавляем названия осей\n",
        "plt.xlabel('Предсказанный класс')\n",
        "plt.ylabel('Истинный класс')\n",
        "\n",
        "# Отображаем график\n",
        "plt.show()"
      ]
    },
    {
      "cell_type": "markdown",
      "metadata": {
        "id": "fm0QChqQYbLu"
      },
      "source": [
        "По анализу матриц ошибок двух моделей - LGBMClassifier и Нейронной сети - можно сделать следующие выводы. Во-первых, обе модели показывают результаты, которые лучше случайного угадывания и могут быть полезны при прогнозировании риска попадания в ДТП.\n",
        "\n",
        "Второе наблюдение состоит в том, что у модели LGBMClassifier значение метрики Precision (точность) выше, чем у Нейронной сети. Это означает, что модель LGBMClassifier наиболее точно идентифицирует истинно положительные случаи.\n",
        "\n",
        "Третье наблюдение - значения метрики Recall (полнота) практически одинаковы для обеих моделей. Recall измеряет способность модели обнаружить все положительные случаи.\n",
        "\n",
        "Таким образом, при сравнении этих двух моделей можно сказать, что нейросеть выигрывает в показателях, но и LGBMClassifier не сильно отстает. Выбор между моделями должен быть основан на приоритетах и требованиях к конкретной задаче, будь то важность точности или полноты прогнозов."
      ]
    },
    {
      "cell_type": "markdown",
      "metadata": {
        "id": "W6j7sx2MZSlW"
      },
      "source": [
        "### Важность факторов"
      ]
    },
    {
      "cell_type": "code",
      "execution_count": null,
      "metadata": {
        "colab": {
          "base_uri": "https://localhost:8080/",
          "height": 1000
        },
        "id": "Uu8heFkWYoZV",
        "outputId": "01404ac5-ebea-4d55-e3d7-9177fa0f1e99"
      },
      "outputs": [
        {
          "data": {
            "image/png": "[encoded data removed]",
            "text/plain": [
              "<Figure size 720x720 with 1 Axes>"
            ]
          },
          "metadata": {},
          "output_type": "display_data"
        }
      ],
      "source": [
        "importances = lgbm.feature_importances_\n",
        "forest_importances = pd.Series(importances, X.columns.values)\n",
        "\n",
        "plt.figure(figsize=(10, 10))\n",
        "\n",
        "ax = forest_importances.plot(kind='bar', grid=True, color='g')  # Изменили цвет столбцов на зеленый\n",
        "\n",
        "plt.title('Важность факторов', fontsize=16)\n",
        "plt.xticks(fontsize=12, rotation=70)  # Изменили угол наклона меток по оси X для лучшей читаемости\n",
        "plt.xlabel('Факторы', fontsize=14)\n",
        "plt.yticks(fontsize=12)\n",
        "plt.ylabel('Степень значимости', fontsize=14)\n",
        "\n",
        "# Добавляем значения важности над каждым столбцом\n",
        "for i, v in enumerate(importances):\n",
        "    ax.text(i, v + 0.01, str(round(v, 2)), ha='center', va='bottom', fontsize=10)\n",
        "\n",
        "plt.show()"
      ]
    },
    {
      "cell_type": "markdown",
      "metadata": {
        "id": "Ojr21B4BWIZf"
      },
      "source": [
        "Для рассмотрения графика зависимости самого важного фактора, влияющее на предсказание модели - location_type - воспользуемся корреляцией phik, которая помогает определить коэффициент корреляции с категориальными параметрами."
      ]
    },
    {
      "cell_type": "code",
      "execution_count": null,
      "metadata": {
        "colab": {
          "base_uri": "https://localhost:8080/",
          "height": 803
        },
        "id": "d6d6xTTxfmql",
        "outputId": "16cc6535-4301-444d-ecc9-62ae422a0440"
      },
      "outputs": [
        {
          "name": "stdout",
          "output_type": "stream",
          "text": [
            "interval columns not set, guessing: ['at_fault']\n"
          ]
        },
        {
          "data": {
            "image/png": "[encoded data removed]",
            "text/plain": [
              "<Figure size 720x576 with 2 Axes>"
            ]
          },
          "metadata": {},
          "output_type": "display_data"
        }
      ],
      "source": [
        "phik_overview = df[['at_fault', 'location_type']].phik_matrix()\n",
        "phik_overview_rounded = phik_overview.round(2)\n",
        "\n",
        "# Изменение размера графика\n",
        "plt.figure(figsize=(10, 8))\n",
        "\n",
        "# Создание цветовой шкалы\n",
        "cmap = sns.color_palette(\"coolwarm\", as_cmap=True)\n",
        "\n",
        "# Отрисовка тепловой карты\n",
        "sns.heatmap(\n",
        "    phik_overview_rounded.values,\n",
        "    cmap=cmap,\n",
        "    vmin=0,\n",
        "    vmax=1,\n",
        "    annot=True,\n",
        "    fmt=\".2f\",\n",
        "    xticklabels=phik_overview_rounded.columns,\n",
        "    yticklabels=phik_overview_rounded.index\n",
        ")\n",
        "\n",
        "# Добавление заголовка и меток осей\n",
        "plt.title('График зависимости\\nТип дороги (location_type)\\nи\\nВиновности участника (at_fault)',\n",
        "          fontsize=14)\n",
        "plt.xlabel('county_city_location')\n",
        "plt.ylabel('at_fault')\n",
        "\n",
        "plt.show()"
      ]
    },
    {
      "cell_type": "markdown",
      "metadata": {
        "id": "a3-S-Y5R6Job"
      },
      "source": [
        "На основании представленного графика можно сделать вывод о низкой значимости фактора \"Тип дороги\", где произошло ДТП\" для определения виновности участника в ДТП,коэффициент корреляции phik довольно низок и составляет всего 0.04"
      ]
    },
    {
      "cell_type": "markdown",
      "metadata": {
        "id": "SD47MzTj83Am"
      },
      "source": [
        "## Шаг 7. общий вывод по модели"
      ]
    },
    {
      "cell_type": "markdown",
      "metadata": {
        "id": "uNw3S9qU65T0"
      },
      "source": [
        "\n",
        "\n",
        "На основании нашего исследования мы пришли к выводу, что для решения данной задачи хорошо подходит модель нейросети. Мы достигли неплохих результатов в метриках, насколько я могу судить. Однако я уверен, что метрики можно улучшить, если будет меньше пропусков в данных.\n",
        "\n",
        "Предложение: Для учета данного фактора при посадке водителя можно оборудовать машину GPS-локатором и GPS-навигатором, которые будут отслеживать местоположение автомобиля, маршрут движения, а также предлагать возможные объездные пути для того, чтобы снизить риск попадания в аварию. Более того, маршрут движения должен быть отображен заранее, чтобы можно было предложить рекомендации по движению еще до его начала, а не только во время пути, когда тоже возможно повышения риска попадания в ДТП."
      ]
    }
  ],
  "metadata": {
    "ExecuteTimeLog": [
      {
        "duration": 42578,
        "start_time": "2024-02-22T18:49:23.061Z"
      },
      {
        "duration": 11039,
        "start_time": "2024-02-22T18:50:05.641Z"
      },
      {
        "duration": 39968,
        "start_time": "2024-02-22T18:52:38.725Z"
      },
      {
        "duration": 10700,
        "start_time": "2024-02-22T18:53:18.696Z"
      },
      {
        "duration": 50,
        "start_time": "2024-02-22T18:54:55.972Z"
      },
      {
        "duration": 0,
        "start_time": "2024-02-22T18:54:56.025Z"
      },
      {
        "duration": 44,
        "start_time": "2024-02-23T06:26:25.065Z"
      },
      {
        "duration": 21739,
        "start_time": "2024-02-23T06:26:31.530Z"
      },
      {
        "duration": 7811,
        "start_time": "2024-02-23T06:26:53.271Z"
      },
      {
        "duration": 212,
        "start_time": "2024-02-23T06:27:01.084Z"
      },
      {
        "duration": 21,
        "start_time": "2024-02-23T06:27:01.297Z"
      },
      {
        "duration": 22,
        "start_time": "2024-02-23T06:27:01.320Z"
      },
      {
        "duration": 12630,
        "start_time": "2024-02-23T06:27:01.344Z"
      },
      {
        "duration": 12,
        "start_time": "2024-02-23T06:27:13.976Z"
      },
      {
        "duration": 9,
        "start_time": "2024-02-23T06:27:13.989Z"
      },
      {
        "duration": 4126,
        "start_time": "2024-02-23T06:27:14.000Z"
      },
      {
        "duration": 15,
        "start_time": "2024-02-23T06:27:18.128Z"
      },
      {
        "duration": 247,
        "start_time": "2024-02-23T06:27:18.145Z"
      },
      {
        "duration": 388,
        "start_time": "2024-02-23T06:27:18.394Z"
      },
      {
        "duration": 8,
        "start_time": "2024-02-23T06:27:18.784Z"
      },
      {
        "duration": 611,
        "start_time": "2024-02-23T06:27:18.794Z"
      },
      {
        "duration": 828,
        "start_time": "2024-02-23T06:27:19.407Z"
      },
      {
        "duration": 8,
        "start_time": "2024-02-23T06:27:20.237Z"
      },
      {
        "duration": 577,
        "start_time": "2024-02-23T06:27:20.247Z"
      },
      {
        "duration": 0,
        "start_time": "2024-02-23T06:27:20.827Z"
      },
      {
        "duration": 0,
        "start_time": "2024-02-23T06:27:20.833Z"
      },
      {
        "duration": 0,
        "start_time": "2024-02-23T06:27:20.837Z"
      },
      {
        "duration": 0,
        "start_time": "2024-02-23T06:27:20.838Z"
      },
      {
        "duration": 0,
        "start_time": "2024-02-23T06:27:20.840Z"
      },
      {
        "duration": 0,
        "start_time": "2024-02-23T06:27:20.842Z"
      },
      {
        "duration": 0,
        "start_time": "2024-02-23T06:27:20.843Z"
      },
      {
        "duration": 0,
        "start_time": "2024-02-23T06:27:20.845Z"
      },
      {
        "duration": 0,
        "start_time": "2024-02-23T06:27:20.847Z"
      },
      {
        "duration": 1,
        "start_time": "2024-02-23T06:27:20.848Z"
      },
      {
        "duration": 0,
        "start_time": "2024-02-23T06:27:20.850Z"
      },
      {
        "duration": 0,
        "start_time": "2024-02-23T06:27:20.851Z"
      },
      {
        "duration": 0,
        "start_time": "2024-02-23T06:27:20.852Z"
      },
      {
        "duration": 0,
        "start_time": "2024-02-23T06:27:20.854Z"
      },
      {
        "duration": 0,
        "start_time": "2024-02-23T06:27:20.855Z"
      },
      {
        "duration": 0,
        "start_time": "2024-02-23T06:27:20.857Z"
      },
      {
        "duration": 0,
        "start_time": "2024-02-23T06:27:20.858Z"
      },
      {
        "duration": 0,
        "start_time": "2024-02-23T06:27:20.859Z"
      },
      {
        "duration": 0,
        "start_time": "2024-02-23T06:27:20.860Z"
      },
      {
        "duration": 0,
        "start_time": "2024-02-23T06:27:20.861Z"
      },
      {
        "duration": 0,
        "start_time": "2024-02-23T06:27:20.863Z"
      },
      {
        "duration": 0,
        "start_time": "2024-02-23T06:27:20.864Z"
      },
      {
        "duration": 0,
        "start_time": "2024-02-23T06:27:20.865Z"
      },
      {
        "duration": 0,
        "start_time": "2024-02-23T06:27:20.866Z"
      },
      {
        "duration": 0,
        "start_time": "2024-02-23T06:27:20.867Z"
      },
      {
        "duration": 0,
        "start_time": "2024-02-23T06:27:20.868Z"
      },
      {
        "duration": 0,
        "start_time": "2024-02-23T06:27:20.869Z"
      },
      {
        "duration": 0,
        "start_time": "2024-02-23T06:27:20.870Z"
      },
      {
        "duration": 0,
        "start_time": "2024-02-23T06:27:20.871Z"
      },
      {
        "duration": 0,
        "start_time": "2024-02-23T06:27:20.872Z"
      },
      {
        "duration": 0,
        "start_time": "2024-02-23T06:27:20.873Z"
      },
      {
        "duration": 0,
        "start_time": "2024-02-23T06:27:20.874Z"
      },
      {
        "duration": 0,
        "start_time": "2024-02-23T06:27:20.875Z"
      },
      {
        "duration": 0,
        "start_time": "2024-02-23T06:27:20.876Z"
      },
      {
        "duration": 0,
        "start_time": "2024-02-23T06:27:20.877Z"
      },
      {
        "duration": 0,
        "start_time": "2024-02-23T06:27:20.934Z"
      },
      {
        "duration": 0,
        "start_time": "2024-02-23T06:27:20.936Z"
      },
      {
        "duration": 0,
        "start_time": "2024-02-23T06:27:20.938Z"
      },
      {
        "duration": 0,
        "start_time": "2024-02-23T06:27:20.939Z"
      },
      {
        "duration": 0,
        "start_time": "2024-02-23T06:27:20.941Z"
      },
      {
        "duration": 0,
        "start_time": "2024-02-23T06:27:20.942Z"
      },
      {
        "duration": 0,
        "start_time": "2024-02-23T06:27:20.943Z"
      },
      {
        "duration": 0,
        "start_time": "2024-02-23T06:27:20.944Z"
      },
      {
        "duration": 0,
        "start_time": "2024-02-23T06:27:20.946Z"
      },
      {
        "duration": 0,
        "start_time": "2024-02-23T06:27:20.946Z"
      },
      {
        "duration": 0,
        "start_time": "2024-02-23T06:27:20.948Z"
      },
      {
        "duration": 0,
        "start_time": "2024-02-23T06:27:20.948Z"
      },
      {
        "duration": 0,
        "start_time": "2024-02-23T06:27:20.950Z"
      },
      {
        "duration": 0,
        "start_time": "2024-02-23T06:27:20.950Z"
      },
      {
        "duration": 0,
        "start_time": "2024-02-23T06:27:20.952Z"
      },
      {
        "duration": 0,
        "start_time": "2024-02-23T06:27:20.953Z"
      },
      {
        "duration": 0,
        "start_time": "2024-02-23T06:27:20.954Z"
      },
      {
        "duration": 0,
        "start_time": "2024-02-23T06:27:20.954Z"
      },
      {
        "duration": 0,
        "start_time": "2024-02-23T06:27:20.956Z"
      },
      {
        "duration": 0,
        "start_time": "2024-02-23T06:27:20.957Z"
      },
      {
        "duration": 0,
        "start_time": "2024-02-23T06:27:20.958Z"
      },
      {
        "duration": 0,
        "start_time": "2024-02-23T06:27:20.960Z"
      },
      {
        "duration": 1,
        "start_time": "2024-02-23T06:27:20.960Z"
      },
      {
        "duration": 0,
        "start_time": "2024-02-23T06:27:20.962Z"
      },
      {
        "duration": 0,
        "start_time": "2024-02-23T06:27:20.963Z"
      },
      {
        "duration": 0,
        "start_time": "2024-02-23T06:27:20.963Z"
      },
      {
        "duration": 0,
        "start_time": "2024-02-23T06:27:20.964Z"
      },
      {
        "duration": 1203,
        "start_time": "2024-02-23T06:29:10.081Z"
      },
      {
        "duration": 249,
        "start_time": "2024-02-23T06:29:43.770Z"
      },
      {
        "duration": 1150,
        "start_time": "2024-02-23T06:32:09.377Z"
      },
      {
        "duration": 17061,
        "start_time": "2024-02-23T06:32:34.367Z"
      },
      {
        "duration": 7750,
        "start_time": "2024-02-23T06:32:51.430Z"
      },
      {
        "duration": 205,
        "start_time": "2024-02-23T06:32:59.182Z"
      },
      {
        "duration": 23,
        "start_time": "2024-02-23T06:32:59.389Z"
      },
      {
        "duration": 11,
        "start_time": "2024-02-23T06:32:59.413Z"
      },
      {
        "duration": 12790,
        "start_time": "2024-02-23T06:32:59.426Z"
      },
      {
        "duration": 19,
        "start_time": "2024-02-23T06:33:12.218Z"
      },
      {
        "duration": 17,
        "start_time": "2024-02-23T06:33:12.239Z"
      },
      {
        "duration": 3780,
        "start_time": "2024-02-23T06:33:12.258Z"
      },
      {
        "duration": 9,
        "start_time": "2024-02-23T06:33:16.041Z"
      },
      {
        "duration": 243,
        "start_time": "2024-02-23T06:33:16.051Z"
      },
      {
        "duration": 383,
        "start_time": "2024-02-23T06:33:16.295Z"
      },
      {
        "duration": 8,
        "start_time": "2024-02-23T06:33:16.680Z"
      },
      {
        "duration": 710,
        "start_time": "2024-02-23T06:33:16.689Z"
      },
      {
        "duration": 817,
        "start_time": "2024-02-23T06:33:17.400Z"
      },
      {
        "duration": 7,
        "start_time": "2024-02-23T06:33:18.219Z"
      },
      {
        "duration": 578,
        "start_time": "2024-02-23T06:33:18.228Z"
      },
      {
        "duration": 0,
        "start_time": "2024-02-23T06:33:18.809Z"
      },
      {
        "duration": 0,
        "start_time": "2024-02-23T06:33:18.811Z"
      },
      {
        "duration": 0,
        "start_time": "2024-02-23T06:33:18.812Z"
      },
      {
        "duration": 0,
        "start_time": "2024-02-23T06:33:18.813Z"
      },
      {
        "duration": 0,
        "start_time": "2024-02-23T06:33:18.814Z"
      },
      {
        "duration": 0,
        "start_time": "2024-02-23T06:33:18.815Z"
      },
      {
        "duration": 0,
        "start_time": "2024-02-23T06:33:18.816Z"
      },
      {
        "duration": 0,
        "start_time": "2024-02-23T06:33:18.832Z"
      },
      {
        "duration": 0,
        "start_time": "2024-02-23T06:33:18.834Z"
      },
      {
        "duration": 0,
        "start_time": "2024-02-23T06:33:18.835Z"
      },
      {
        "duration": 0,
        "start_time": "2024-02-23T06:33:18.835Z"
      },
      {
        "duration": 0,
        "start_time": "2024-02-23T06:33:18.836Z"
      },
      {
        "duration": 0,
        "start_time": "2024-02-23T06:33:18.837Z"
      },
      {
        "duration": 0,
        "start_time": "2024-02-23T06:33:18.838Z"
      },
      {
        "duration": 0,
        "start_time": "2024-02-23T06:33:18.839Z"
      },
      {
        "duration": 0,
        "start_time": "2024-02-23T06:33:18.840Z"
      },
      {
        "duration": 0,
        "start_time": "2024-02-23T06:33:18.845Z"
      },
      {
        "duration": 0,
        "start_time": "2024-02-23T06:33:18.847Z"
      },
      {
        "duration": 0,
        "start_time": "2024-02-23T06:33:18.849Z"
      },
      {
        "duration": 0,
        "start_time": "2024-02-23T06:33:18.851Z"
      },
      {
        "duration": 0,
        "start_time": "2024-02-23T06:33:18.853Z"
      },
      {
        "duration": 0,
        "start_time": "2024-02-23T06:33:18.854Z"
      },
      {
        "duration": 0,
        "start_time": "2024-02-23T06:33:18.855Z"
      },
      {
        "duration": 0,
        "start_time": "2024-02-23T06:33:18.856Z"
      },
      {
        "duration": 0,
        "start_time": "2024-02-23T06:33:18.858Z"
      },
      {
        "duration": 0,
        "start_time": "2024-02-23T06:33:18.859Z"
      },
      {
        "duration": 0,
        "start_time": "2024-02-23T06:33:18.860Z"
      },
      {
        "duration": 0,
        "start_time": "2024-02-23T06:33:18.861Z"
      },
      {
        "duration": 0,
        "start_time": "2024-02-23T06:33:18.862Z"
      },
      {
        "duration": 0,
        "start_time": "2024-02-23T06:33:18.863Z"
      },
      {
        "duration": 0,
        "start_time": "2024-02-23T06:33:18.864Z"
      },
      {
        "duration": 0,
        "start_time": "2024-02-23T06:33:18.865Z"
      },
      {
        "duration": 0,
        "start_time": "2024-02-23T06:33:18.866Z"
      },
      {
        "duration": 0,
        "start_time": "2024-02-23T06:33:18.867Z"
      },
      {
        "duration": 0,
        "start_time": "2024-02-23T06:33:18.868Z"
      },
      {
        "duration": 0,
        "start_time": "2024-02-23T06:33:18.869Z"
      },
      {
        "duration": 0,
        "start_time": "2024-02-23T06:33:18.870Z"
      },
      {
        "duration": 0,
        "start_time": "2024-02-23T06:33:18.871Z"
      },
      {
        "duration": 0,
        "start_time": "2024-02-23T06:33:18.872Z"
      },
      {
        "duration": 0,
        "start_time": "2024-02-23T06:33:18.873Z"
      },
      {
        "duration": 0,
        "start_time": "2024-02-23T06:33:18.874Z"
      },
      {
        "duration": 0,
        "start_time": "2024-02-23T06:33:18.875Z"
      },
      {
        "duration": 0,
        "start_time": "2024-02-23T06:33:18.875Z"
      },
      {
        "duration": 0,
        "start_time": "2024-02-23T06:33:18.875Z"
      },
      {
        "duration": 0,
        "start_time": "2024-02-23T06:33:18.934Z"
      },
      {
        "duration": 0,
        "start_time": "2024-02-23T06:33:18.935Z"
      },
      {
        "duration": 0,
        "start_time": "2024-02-23T06:33:18.937Z"
      },
      {
        "duration": 0,
        "start_time": "2024-02-23T06:33:18.938Z"
      },
      {
        "duration": 0,
        "start_time": "2024-02-23T06:33:18.940Z"
      },
      {
        "duration": 0,
        "start_time": "2024-02-23T06:33:18.941Z"
      },
      {
        "duration": 0,
        "start_time": "2024-02-23T06:33:18.942Z"
      },
      {
        "duration": 0,
        "start_time": "2024-02-23T06:33:18.943Z"
      },
      {
        "duration": 0,
        "start_time": "2024-02-23T06:33:18.945Z"
      },
      {
        "duration": 0,
        "start_time": "2024-02-23T06:33:18.946Z"
      },
      {
        "duration": 0,
        "start_time": "2024-02-23T06:33:18.947Z"
      },
      {
        "duration": 0,
        "start_time": "2024-02-23T06:33:18.948Z"
      },
      {
        "duration": 0,
        "start_time": "2024-02-23T06:33:18.950Z"
      },
      {
        "duration": 0,
        "start_time": "2024-02-23T06:33:18.952Z"
      },
      {
        "duration": 0,
        "start_time": "2024-02-23T06:33:18.953Z"
      },
      {
        "duration": 0,
        "start_time": "2024-02-23T06:33:18.960Z"
      },
      {
        "duration": 0,
        "start_time": "2024-02-23T06:33:18.961Z"
      },
      {
        "duration": 0,
        "start_time": "2024-02-23T06:33:18.962Z"
      },
      {
        "duration": 262,
        "start_time": "2024-02-23T06:36:19.771Z"
      },
      {
        "duration": 1301,
        "start_time": "2024-02-23T06:37:08.952Z"
      },
      {
        "duration": 225,
        "start_time": "2024-02-23T06:37:19.018Z"
      },
      {
        "duration": 136,
        "start_time": "2024-02-23T06:37:19.374Z"
      },
      {
        "duration": 16229,
        "start_time": "2024-02-23T06:40:40.459Z"
      },
      {
        "duration": 8162,
        "start_time": "2024-02-23T06:40:56.690Z"
      },
      {
        "duration": 197,
        "start_time": "2024-02-23T06:41:04.854Z"
      },
      {
        "duration": 21,
        "start_time": "2024-02-23T06:41:05.053Z"
      },
      {
        "duration": 11,
        "start_time": "2024-02-23T06:41:05.077Z"
      },
      {
        "duration": 11508,
        "start_time": "2024-02-23T06:41:05.089Z"
      },
      {
        "duration": 11,
        "start_time": "2024-02-23T06:41:16.598Z"
      },
      {
        "duration": 26,
        "start_time": "2024-02-23T06:41:16.611Z"
      },
      {
        "duration": 3565,
        "start_time": "2024-02-23T06:41:16.638Z"
      },
      {
        "duration": 13,
        "start_time": "2024-02-23T06:41:20.205Z"
      },
      {
        "duration": 246,
        "start_time": "2024-02-23T06:41:20.220Z"
      },
      {
        "duration": 389,
        "start_time": "2024-02-23T06:41:20.468Z"
      },
      {
        "duration": 11,
        "start_time": "2024-02-23T06:41:20.859Z"
      },
      {
        "duration": 724,
        "start_time": "2024-02-23T06:41:20.873Z"
      },
      {
        "duration": 959,
        "start_time": "2024-02-23T06:41:21.599Z"
      },
      {
        "duration": 7,
        "start_time": "2024-02-23T06:41:22.560Z"
      },
      {
        "duration": 1205,
        "start_time": "2024-02-23T06:41:22.568Z"
      },
      {
        "duration": 231,
        "start_time": "2024-02-23T06:41:23.775Z"
      },
      {
        "duration": 190,
        "start_time": "2024-02-23T06:41:24.007Z"
      },
      {
        "duration": 160,
        "start_time": "2024-02-23T06:41:24.199Z"
      },
      {
        "duration": 419,
        "start_time": "2024-02-23T06:41:24.362Z"
      },
      {
        "duration": 213,
        "start_time": "2024-02-23T06:41:24.782Z"
      },
      {
        "duration": 121,
        "start_time": "2024-02-23T06:41:24.997Z"
      },
      {
        "duration": 202,
        "start_time": "2024-02-23T06:41:25.120Z"
      },
      {
        "duration": 201,
        "start_time": "2024-02-23T06:41:25.323Z"
      },
      {
        "duration": 325,
        "start_time": "2024-02-23T06:41:25.526Z"
      },
      {
        "duration": 3,
        "start_time": "2024-02-23T06:41:25.852Z"
      },
      {
        "duration": 1701,
        "start_time": "2024-02-23T06:41:25.856Z"
      },
      {
        "duration": 192,
        "start_time": "2024-02-23T06:41:27.559Z"
      },
      {
        "duration": 60,
        "start_time": "2024-02-23T06:41:27.753Z"
      },
      {
        "duration": 4,
        "start_time": "2024-02-23T06:41:27.815Z"
      },
      {
        "duration": 371,
        "start_time": "2024-02-23T06:41:27.833Z"
      },
      {
        "duration": 190,
        "start_time": "2024-02-23T06:41:28.206Z"
      },
      {
        "duration": 401,
        "start_time": "2024-02-23T06:41:28.398Z"
      },
      {
        "duration": 4,
        "start_time": "2024-02-23T06:41:28.800Z"
      },
      {
        "duration": 180,
        "start_time": "2024-02-23T06:41:28.806Z"
      },
      {
        "duration": 153,
        "start_time": "2024-02-23T06:41:28.988Z"
      },
      {
        "duration": 4,
        "start_time": "2024-02-23T06:41:29.143Z"
      },
      {
        "duration": 8,
        "start_time": "2024-02-23T06:41:29.148Z"
      },
      {
        "duration": 4,
        "start_time": "2024-02-23T06:41:29.157Z"
      },
      {
        "duration": 7,
        "start_time": "2024-02-23T06:41:29.166Z"
      },
      {
        "duration": 207,
        "start_time": "2024-02-23T06:41:29.174Z"
      },
      {
        "duration": 501,
        "start_time": "2024-02-23T06:41:29.383Z"
      },
      {
        "duration": 159,
        "start_time": "2024-02-23T06:41:29.885Z"
      },
      {
        "duration": 45,
        "start_time": "2024-02-23T06:41:30.048Z"
      },
      {
        "duration": 65,
        "start_time": "2024-02-23T06:41:30.094Z"
      },
      {
        "duration": 289,
        "start_time": "2024-02-23T06:41:30.161Z"
      },
      {
        "duration": 23,
        "start_time": "2024-02-23T06:41:30.452Z"
      },
      {
        "duration": 253,
        "start_time": "2024-02-23T06:41:30.477Z"
      },
      {
        "duration": 259,
        "start_time": "2024-02-23T06:41:30.731Z"
      },
      {
        "duration": 7,
        "start_time": "2024-02-23T06:41:30.992Z"
      },
      {
        "duration": 114,
        "start_time": "2024-02-23T06:41:31.000Z"
      },
      {
        "duration": 8,
        "start_time": "2024-02-23T06:41:31.116Z"
      },
      {
        "duration": 53,
        "start_time": "2024-02-23T06:41:31.126Z"
      },
      {
        "duration": 33,
        "start_time": "2024-02-23T06:41:31.181Z"
      },
      {
        "duration": 216,
        "start_time": "2024-02-23T06:41:31.216Z"
      },
      {
        "duration": 25,
        "start_time": "2024-02-23T06:41:31.435Z"
      },
      {
        "duration": 234,
        "start_time": "2024-02-23T06:41:31.462Z"
      },
      {
        "duration": 177,
        "start_time": "2024-02-23T06:41:31.698Z"
      },
      {
        "duration": 13,
        "start_time": "2024-02-23T06:41:31.877Z"
      },
      {
        "duration": 172,
        "start_time": "2024-02-23T06:41:31.892Z"
      },
      {
        "duration": 6,
        "start_time": "2024-02-23T06:41:32.065Z"
      },
      {
        "duration": 180,
        "start_time": "2024-02-23T06:41:32.073Z"
      },
      {
        "duration": 211,
        "start_time": "2024-02-23T06:41:32.255Z"
      },
      {
        "duration": 227,
        "start_time": "2024-02-23T06:41:32.468Z"
      },
      {
        "duration": 2395,
        "start_time": "2024-02-23T06:41:32.696Z"
      },
      {
        "duration": 3,
        "start_time": "2024-02-23T06:41:35.093Z"
      },
      {
        "duration": 16785,
        "start_time": "2024-02-23T06:43:43.889Z"
      },
      {
        "duration": 7763,
        "start_time": "2024-02-23T06:44:00.676Z"
      },
      {
        "duration": 203,
        "start_time": "2024-02-23T06:44:08.440Z"
      },
      {
        "duration": 21,
        "start_time": "2024-02-23T06:44:08.645Z"
      },
      {
        "duration": 23,
        "start_time": "2024-02-23T06:44:08.667Z"
      },
      {
        "duration": 11414,
        "start_time": "2024-02-23T06:44:08.692Z"
      },
      {
        "duration": 10,
        "start_time": "2024-02-23T06:44:20.108Z"
      },
      {
        "duration": 18,
        "start_time": "2024-02-23T06:44:20.119Z"
      },
      {
        "duration": 3448,
        "start_time": "2024-02-23T06:44:20.138Z"
      },
      {
        "duration": 10,
        "start_time": "2024-02-23T06:44:23.588Z"
      },
      {
        "duration": 269,
        "start_time": "2024-02-23T06:44:23.600Z"
      },
      {
        "duration": 383,
        "start_time": "2024-02-23T06:44:23.874Z"
      },
      {
        "duration": 8,
        "start_time": "2024-02-23T06:44:24.259Z"
      },
      {
        "duration": 664,
        "start_time": "2024-02-23T06:44:24.269Z"
      },
      {
        "duration": 819,
        "start_time": "2024-02-23T06:44:24.935Z"
      },
      {
        "duration": 9,
        "start_time": "2024-02-23T06:44:25.756Z"
      },
      {
        "duration": 1180,
        "start_time": "2024-02-23T06:44:25.766Z"
      },
      {
        "duration": 223,
        "start_time": "2024-02-23T06:44:26.947Z"
      },
      {
        "duration": 144,
        "start_time": "2024-02-23T06:44:27.171Z"
      },
      {
        "duration": 155,
        "start_time": "2024-02-23T06:44:27.317Z"
      },
      {
        "duration": 341,
        "start_time": "2024-02-23T06:44:27.473Z"
      },
      {
        "duration": 221,
        "start_time": "2024-02-23T06:44:27.816Z"
      },
      {
        "duration": 133,
        "start_time": "2024-02-23T06:44:28.039Z"
      },
      {
        "duration": 207,
        "start_time": "2024-02-23T06:44:28.174Z"
      },
      {
        "duration": 201,
        "start_time": "2024-02-23T06:44:28.383Z"
      },
      {
        "duration": 303,
        "start_time": "2024-02-23T06:44:28.586Z"
      },
      {
        "duration": 2,
        "start_time": "2024-02-23T06:44:28.891Z"
      },
      {
        "duration": 1989,
        "start_time": "2024-02-23T06:44:28.897Z"
      },
      {
        "duration": 0,
        "start_time": "2024-02-23T06:44:30.889Z"
      },
      {
        "duration": 0,
        "start_time": "2024-02-23T06:44:30.891Z"
      },
      {
        "duration": 0,
        "start_time": "2024-02-23T06:44:30.893Z"
      },
      {
        "duration": 0,
        "start_time": "2024-02-23T06:44:30.895Z"
      },
      {
        "duration": 0,
        "start_time": "2024-02-23T06:44:30.896Z"
      },
      {
        "duration": 0,
        "start_time": "2024-02-23T06:44:30.897Z"
      },
      {
        "duration": 0,
        "start_time": "2024-02-23T06:44:30.898Z"
      },
      {
        "duration": 0,
        "start_time": "2024-02-23T06:44:30.899Z"
      },
      {
        "duration": 0,
        "start_time": "2024-02-23T06:44:30.901Z"
      },
      {
        "duration": 0,
        "start_time": "2024-02-23T06:44:30.902Z"
      },
      {
        "duration": 0,
        "start_time": "2024-02-23T06:44:30.903Z"
      },
      {
        "duration": 0,
        "start_time": "2024-02-23T06:44:30.904Z"
      },
      {
        "duration": 0,
        "start_time": "2024-02-23T06:44:30.905Z"
      },
      {
        "duration": 0,
        "start_time": "2024-02-23T06:44:30.907Z"
      },
      {
        "duration": 0,
        "start_time": "2024-02-23T06:44:30.907Z"
      },
      {
        "duration": 0,
        "start_time": "2024-02-23T06:44:30.934Z"
      },
      {
        "duration": 0,
        "start_time": "2024-02-23T06:44:30.935Z"
      },
      {
        "duration": 0,
        "start_time": "2024-02-23T06:44:30.937Z"
      },
      {
        "duration": 0,
        "start_time": "2024-02-23T06:44:30.938Z"
      },
      {
        "duration": 0,
        "start_time": "2024-02-23T06:44:30.940Z"
      },
      {
        "duration": 0,
        "start_time": "2024-02-23T06:44:30.941Z"
      },
      {
        "duration": 0,
        "start_time": "2024-02-23T06:44:30.943Z"
      },
      {
        "duration": 0,
        "start_time": "2024-02-23T06:44:30.945Z"
      },
      {
        "duration": 0,
        "start_time": "2024-02-23T06:44:30.946Z"
      },
      {
        "duration": 0,
        "start_time": "2024-02-23T06:44:30.947Z"
      },
      {
        "duration": 0,
        "start_time": "2024-02-23T06:44:30.949Z"
      },
      {
        "duration": 0,
        "start_time": "2024-02-23T06:44:30.950Z"
      },
      {
        "duration": 0,
        "start_time": "2024-02-23T06:44:30.952Z"
      },
      {
        "duration": 0,
        "start_time": "2024-02-23T06:44:30.953Z"
      },
      {
        "duration": 0,
        "start_time": "2024-02-23T06:44:30.954Z"
      },
      {
        "duration": 0,
        "start_time": "2024-02-23T06:44:30.959Z"
      },
      {
        "duration": 0,
        "start_time": "2024-02-23T06:44:30.960Z"
      },
      {
        "duration": 0,
        "start_time": "2024-02-23T06:44:30.962Z"
      },
      {
        "duration": 0,
        "start_time": "2024-02-23T06:44:30.963Z"
      },
      {
        "duration": 0,
        "start_time": "2024-02-23T06:44:30.964Z"
      },
      {
        "duration": 0,
        "start_time": "2024-02-23T06:44:30.966Z"
      },
      {
        "duration": 0,
        "start_time": "2024-02-23T06:44:30.968Z"
      },
      {
        "duration": 0,
        "start_time": "2024-02-23T06:44:30.969Z"
      },
      {
        "duration": 0,
        "start_time": "2024-02-23T06:44:30.970Z"
      },
      {
        "duration": 0,
        "start_time": "2024-02-23T06:44:30.972Z"
      },
      {
        "duration": 0,
        "start_time": "2024-02-23T06:44:31.034Z"
      },
      {
        "duration": 0,
        "start_time": "2024-02-23T06:44:31.035Z"
      },
      {
        "duration": 0,
        "start_time": "2024-02-23T06:44:31.036Z"
      },
      {
        "duration": 0,
        "start_time": "2024-02-23T06:44:31.038Z"
      },
      {
        "duration": 0,
        "start_time": "2024-02-23T06:44:31.039Z"
      },
      {
        "duration": 0,
        "start_time": "2024-02-23T06:44:31.040Z"
      },
      {
        "duration": 0,
        "start_time": "2024-02-23T06:44:31.041Z"
      },
      {
        "duration": 0,
        "start_time": "2024-02-23T06:44:31.043Z"
      },
      {
        "duration": 0,
        "start_time": "2024-02-23T06:44:31.044Z"
      },
      {
        "duration": 0,
        "start_time": "2024-02-23T06:44:31.045Z"
      },
      {
        "duration": 0,
        "start_time": "2024-02-23T06:44:31.046Z"
      },
      {
        "duration": 1631,
        "start_time": "2024-02-23T06:45:10.738Z"
      },
      {
        "duration": 152,
        "start_time": "2024-02-23T06:45:19.351Z"
      },
      {
        "duration": 83,
        "start_time": "2024-02-23T06:45:19.935Z"
      },
      {
        "duration": 5,
        "start_time": "2024-02-23T06:45:26.610Z"
      },
      {
        "duration": 290,
        "start_time": "2024-02-23T06:45:26.931Z"
      },
      {
        "duration": 139,
        "start_time": "2024-02-23T06:45:27.341Z"
      },
      {
        "duration": 330,
        "start_time": "2024-02-23T06:45:28.637Z"
      },
      {
        "duration": 4,
        "start_time": "2024-02-23T06:45:29.709Z"
      },
      {
        "duration": 157,
        "start_time": "2024-02-23T06:45:37.001Z"
      },
      {
        "duration": 144,
        "start_time": "2024-02-23T06:45:37.294Z"
      },
      {
        "duration": 4,
        "start_time": "2024-02-23T06:45:39.021Z"
      },
      {
        "duration": 7,
        "start_time": "2024-02-23T06:45:42.866Z"
      },
      {
        "duration": 3,
        "start_time": "2024-02-23T06:45:43.644Z"
      },
      {
        "duration": 6,
        "start_time": "2024-02-23T06:45:44.099Z"
      },
      {
        "duration": 170,
        "start_time": "2024-02-23T06:45:44.655Z"
      },
      {
        "duration": 458,
        "start_time": "2024-02-23T06:45:46.025Z"
      },
      {
        "duration": 137,
        "start_time": "2024-02-23T06:45:47.238Z"
      },
      {
        "duration": 33,
        "start_time": "2024-02-23T06:45:47.530Z"
      },
      {
        "duration": 16,
        "start_time": "2024-02-23T06:45:47.593Z"
      },
      {
        "duration": 227,
        "start_time": "2024-02-23T06:45:47.624Z"
      },
      {
        "duration": 32,
        "start_time": "2024-02-23T06:45:47.853Z"
      },
      {
        "duration": 31,
        "start_time": "2024-02-23T06:45:47.888Z"
      },
      {
        "duration": 189,
        "start_time": "2024-02-23T06:45:47.922Z"
      },
      {
        "duration": 6,
        "start_time": "2024-02-23T06:45:48.113Z"
      },
      {
        "duration": 84,
        "start_time": "2024-02-23T06:45:48.133Z"
      },
      {
        "duration": 10,
        "start_time": "2024-02-23T06:45:48.219Z"
      },
      {
        "duration": 54,
        "start_time": "2024-02-23T06:45:48.232Z"
      },
      {
        "duration": 7,
        "start_time": "2024-02-23T06:45:48.538Z"
      },
      {
        "duration": 179,
        "start_time": "2024-02-23T06:45:48.790Z"
      },
      {
        "duration": 18,
        "start_time": "2024-02-23T06:45:48.970Z"
      },
      {
        "duration": 228,
        "start_time": "2024-02-23T06:45:48.990Z"
      },
      {
        "duration": 147,
        "start_time": "2024-02-23T06:45:49.220Z"
      },
      {
        "duration": 3,
        "start_time": "2024-02-23T06:45:49.369Z"
      },
      {
        "duration": 156,
        "start_time": "2024-02-23T06:45:49.373Z"
      },
      {
        "duration": 6,
        "start_time": "2024-02-23T06:45:49.533Z"
      },
      {
        "duration": 203,
        "start_time": "2024-02-23T06:45:49.541Z"
      },
      {
        "duration": 251,
        "start_time": "2024-02-23T06:45:49.746Z"
      },
      {
        "duration": 221,
        "start_time": "2024-02-23T06:45:49.999Z"
      },
      {
        "duration": 2038,
        "start_time": "2024-02-23T06:45:50.222Z"
      },
      {
        "duration": 3,
        "start_time": "2024-02-23T06:45:52.262Z"
      },
      {
        "duration": 15990,
        "start_time": "2024-02-23T06:53:46.184Z"
      },
      {
        "duration": 7585,
        "start_time": "2024-02-23T06:54:02.176Z"
      },
      {
        "duration": 205,
        "start_time": "2024-02-23T06:54:09.763Z"
      },
      {
        "duration": 21,
        "start_time": "2024-02-23T06:54:09.970Z"
      },
      {
        "duration": 11,
        "start_time": "2024-02-23T06:54:09.992Z"
      },
      {
        "duration": 11243,
        "start_time": "2024-02-23T06:54:10.005Z"
      },
      {
        "duration": 11,
        "start_time": "2024-02-23T06:54:21.250Z"
      },
      {
        "duration": 8,
        "start_time": "2024-02-23T06:54:21.263Z"
      },
      {
        "duration": 3470,
        "start_time": "2024-02-23T06:54:21.273Z"
      },
      {
        "duration": 11,
        "start_time": "2024-02-23T06:54:24.746Z"
      },
      {
        "duration": 258,
        "start_time": "2024-02-23T06:54:24.759Z"
      },
      {
        "duration": 389,
        "start_time": "2024-02-23T06:54:25.018Z"
      },
      {
        "duration": 7,
        "start_time": "2024-02-23T06:54:25.408Z"
      },
      {
        "duration": 647,
        "start_time": "2024-02-23T06:54:25.417Z"
      },
      {
        "duration": 834,
        "start_time": "2024-02-23T06:54:26.066Z"
      },
      {
        "duration": 8,
        "start_time": "2024-02-23T06:54:26.902Z"
      },
      {
        "duration": 1149,
        "start_time": "2024-02-23T06:54:26.912Z"
      },
      {
        "duration": 226,
        "start_time": "2024-02-23T06:54:28.063Z"
      },
      {
        "duration": 126,
        "start_time": "2024-02-23T06:54:28.291Z"
      },
      {
        "duration": 158,
        "start_time": "2024-02-23T06:54:28.419Z"
      },
      {
        "duration": 325,
        "start_time": "2024-02-23T06:54:28.579Z"
      },
      {
        "duration": 214,
        "start_time": "2024-02-23T06:54:28.905Z"
      },
      {
        "duration": 123,
        "start_time": "2024-02-23T06:54:29.120Z"
      },
      {
        "duration": 204,
        "start_time": "2024-02-23T06:54:29.245Z"
      },
      {
        "duration": 203,
        "start_time": "2024-02-23T06:54:29.451Z"
      },
      {
        "duration": 317,
        "start_time": "2024-02-23T06:54:29.656Z"
      },
      {
        "duration": 3,
        "start_time": "2024-02-23T06:54:29.974Z"
      },
      {
        "duration": 1700,
        "start_time": "2024-02-23T06:54:29.981Z"
      },
      {
        "duration": 172,
        "start_time": "2024-02-23T06:54:31.683Z"
      },
      {
        "duration": 61,
        "start_time": "2024-02-23T06:54:31.857Z"
      },
      {
        "duration": 4,
        "start_time": "2024-02-23T06:54:31.933Z"
      },
      {
        "duration": 305,
        "start_time": "2024-02-23T06:54:31.938Z"
      },
      {
        "duration": 147,
        "start_time": "2024-02-23T06:54:32.244Z"
      },
      {
        "duration": 325,
        "start_time": "2024-02-23T06:54:32.393Z"
      },
      {
        "duration": 3,
        "start_time": "2024-02-23T06:54:32.720Z"
      },
      {
        "duration": 130,
        "start_time": "2024-02-23T06:54:32.733Z"
      },
      {
        "duration": 137,
        "start_time": "2024-02-23T06:54:32.865Z"
      },
      {
        "duration": 3,
        "start_time": "2024-02-23T06:54:33.004Z"
      },
      {
        "duration": 9,
        "start_time": "2024-02-23T06:54:33.009Z"
      },
      {
        "duration": 4,
        "start_time": "2024-02-23T06:54:33.032Z"
      },
      {
        "duration": 8,
        "start_time": "2024-02-23T06:54:33.038Z"
      },
      {
        "duration": 212,
        "start_time": "2024-02-23T06:54:33.047Z"
      },
      {
        "duration": 439,
        "start_time": "2024-02-23T06:54:33.261Z"
      },
      {
        "duration": 132,
        "start_time": "2024-02-23T06:54:33.702Z"
      },
      {
        "duration": 26,
        "start_time": "2024-02-23T06:54:33.835Z"
      },
      {
        "duration": 16,
        "start_time": "2024-02-23T06:54:33.862Z"
      },
      {
        "duration": 213,
        "start_time": "2024-02-23T06:54:33.879Z"
      },
      {
        "duration": 20,
        "start_time": "2024-02-23T06:54:34.093Z"
      },
      {
        "duration": 26,
        "start_time": "2024-02-23T06:54:34.115Z"
      },
      {
        "duration": 191,
        "start_time": "2024-02-23T06:54:34.142Z"
      },
      {
        "duration": 9,
        "start_time": "2024-02-23T06:54:34.334Z"
      },
      {
        "duration": 56,
        "start_time": "2024-02-23T06:54:34.345Z"
      },
      {
        "duration": 31,
        "start_time": "2024-02-23T06:54:34.402Z"
      },
      {
        "duration": 32,
        "start_time": "2024-02-23T06:54:34.435Z"
      },
      {
        "duration": 9,
        "start_time": "2024-02-23T06:54:34.469Z"
      },
      {
        "duration": 200,
        "start_time": "2024-02-23T06:54:34.479Z"
      },
      {
        "duration": 19,
        "start_time": "2024-02-23T06:54:34.680Z"
      },
      {
        "duration": 191,
        "start_time": "2024-02-23T06:54:34.701Z"
      },
      {
        "duration": 141,
        "start_time": "2024-02-23T06:54:34.894Z"
      },
      {
        "duration": 4,
        "start_time": "2024-02-23T06:54:35.036Z"
      },
      {
        "duration": 143,
        "start_time": "2024-02-23T06:54:35.042Z"
      },
      {
        "duration": 6,
        "start_time": "2024-02-23T06:54:35.187Z"
      },
      {
        "duration": 181,
        "start_time": "2024-02-23T06:54:35.195Z"
      },
      {
        "duration": 210,
        "start_time": "2024-02-23T06:54:35.378Z"
      },
      {
        "duration": 235,
        "start_time": "2024-02-23T06:54:35.589Z"
      },
      {
        "duration": 1970,
        "start_time": "2024-02-23T06:54:35.826Z"
      },
      {
        "duration": 3,
        "start_time": "2024-02-23T06:54:37.797Z"
      },
      {
        "duration": 1765476,
        "start_time": "2024-02-23T06:54:37.801Z"
      },
      {
        "duration": 12832,
        "start_time": "2024-02-23T07:24:03.279Z"
      },
      {
        "duration": 15887,
        "start_time": "2024-02-23T08:54:09.375Z"
      },
      {
        "duration": 7780,
        "start_time": "2024-02-23T08:54:25.265Z"
      },
      {
        "duration": 195,
        "start_time": "2024-02-23T08:54:33.047Z"
      },
      {
        "duration": 30,
        "start_time": "2024-02-23T08:54:33.245Z"
      },
      {
        "duration": 10,
        "start_time": "2024-02-23T08:54:33.276Z"
      },
      {
        "duration": 11488,
        "start_time": "2024-02-23T08:54:33.287Z"
      },
      {
        "duration": 10,
        "start_time": "2024-02-23T08:54:44.777Z"
      },
      {
        "duration": 15,
        "start_time": "2024-02-23T08:54:44.788Z"
      },
      {
        "duration": 3417,
        "start_time": "2024-02-23T08:54:44.804Z"
      },
      {
        "duration": 12,
        "start_time": "2024-02-23T08:54:48.223Z"
      },
      {
        "duration": 227,
        "start_time": "2024-02-23T08:54:48.236Z"
      },
      {
        "duration": 384,
        "start_time": "2024-02-23T08:54:48.465Z"
      },
      {
        "duration": 8,
        "start_time": "2024-02-23T08:54:48.850Z"
      },
      {
        "duration": 611,
        "start_time": "2024-02-23T08:54:48.859Z"
      },
      {
        "duration": 871,
        "start_time": "2024-02-23T08:54:49.472Z"
      },
      {
        "duration": 6,
        "start_time": "2024-02-23T08:54:50.345Z"
      },
      {
        "duration": 1131,
        "start_time": "2024-02-23T08:54:50.352Z"
      },
      {
        "duration": 228,
        "start_time": "2024-02-23T08:54:51.484Z"
      },
      {
        "duration": 137,
        "start_time": "2024-02-23T08:54:51.714Z"
      },
      {
        "duration": 157,
        "start_time": "2024-02-23T08:54:51.853Z"
      },
      {
        "duration": 351,
        "start_time": "2024-02-23T08:54:52.011Z"
      },
      {
        "duration": 214,
        "start_time": "2024-02-23T08:54:52.363Z"
      },
      {
        "duration": 124,
        "start_time": "2024-02-23T08:54:52.578Z"
      },
      {
        "duration": 203,
        "start_time": "2024-02-23T08:54:52.703Z"
      },
      {
        "duration": 198,
        "start_time": "2024-02-23T08:54:52.907Z"
      },
      {
        "duration": 311,
        "start_time": "2024-02-23T08:54:53.106Z"
      },
      {
        "duration": 3,
        "start_time": "2024-02-23T08:54:53.419Z"
      },
      {
        "duration": 1543,
        "start_time": "2024-02-23T08:54:53.433Z"
      },
      {
        "duration": 148,
        "start_time": "2024-02-23T08:54:54.978Z"
      },
      {
        "duration": 50,
        "start_time": "2024-02-23T08:54:55.127Z"
      },
      {
        "duration": 3,
        "start_time": "2024-02-23T08:54:55.178Z"
      },
      {
        "duration": 311,
        "start_time": "2024-02-23T08:54:55.183Z"
      },
      {
        "duration": 159,
        "start_time": "2024-02-23T08:54:55.495Z"
      },
      {
        "duration": 357,
        "start_time": "2024-02-23T08:54:55.655Z"
      },
      {
        "duration": 4,
        "start_time": "2024-02-23T08:54:56.013Z"
      },
      {
        "duration": 158,
        "start_time": "2024-02-23T08:54:56.019Z"
      },
      {
        "duration": 148,
        "start_time": "2024-02-23T08:54:56.179Z"
      },
      {
        "duration": 4,
        "start_time": "2024-02-23T08:54:56.333Z"
      },
      {
        "duration": 24,
        "start_time": "2024-02-23T08:54:56.338Z"
      },
      {
        "duration": 13,
        "start_time": "2024-02-23T08:54:56.364Z"
      },
      {
        "duration": 20,
        "start_time": "2024-02-23T08:54:56.378Z"
      },
      {
        "duration": 163,
        "start_time": "2024-02-23T08:54:56.400Z"
      },
      {
        "duration": 448,
        "start_time": "2024-02-23T08:54:56.565Z"
      },
      {
        "duration": 137,
        "start_time": "2024-02-23T08:54:57.015Z"
      },
      {
        "duration": 29,
        "start_time": "2024-02-23T08:54:57.154Z"
      },
      {
        "duration": 18,
        "start_time": "2024-02-23T08:54:57.185Z"
      },
      {
        "duration": 218,
        "start_time": "2024-02-23T08:54:57.204Z"
      },
      {
        "duration": 21,
        "start_time": "2024-02-23T08:54:57.423Z"
      },
      {
        "duration": 14,
        "start_time": "2024-02-23T08:54:57.446Z"
      },
      {
        "duration": 190,
        "start_time": "2024-02-23T08:54:57.461Z"
      },
      {
        "duration": 9,
        "start_time": "2024-02-23T08:54:57.653Z"
      },
      {
        "duration": 73,
        "start_time": "2024-02-23T08:54:57.664Z"
      },
      {
        "duration": 7,
        "start_time": "2024-02-23T08:54:57.739Z"
      },
      {
        "duration": 73,
        "start_time": "2024-02-23T08:54:57.748Z"
      },
      {
        "duration": 23,
        "start_time": "2024-02-23T08:54:57.822Z"
      },
      {
        "duration": 193,
        "start_time": "2024-02-23T08:54:57.846Z"
      },
      {
        "duration": 18,
        "start_time": "2024-02-23T08:54:58.040Z"
      },
      {
        "duration": 203,
        "start_time": "2024-02-23T08:54:58.059Z"
      },
      {
        "duration": 134,
        "start_time": "2024-02-23T08:54:58.264Z"
      },
      {
        "duration": 4,
        "start_time": "2024-02-23T08:54:58.399Z"
      },
      {
        "duration": 157,
        "start_time": "2024-02-23T08:54:58.404Z"
      },
      {
        "duration": 5,
        "start_time": "2024-02-23T08:54:58.563Z"
      },
      {
        "duration": 193,
        "start_time": "2024-02-23T08:54:58.569Z"
      },
      {
        "duration": 211,
        "start_time": "2024-02-23T08:54:58.763Z"
      },
      {
        "duration": 219,
        "start_time": "2024-02-23T08:54:58.976Z"
      },
      {
        "duration": 1943,
        "start_time": "2024-02-23T08:54:59.197Z"
      },
      {
        "duration": 3,
        "start_time": "2024-02-23T08:55:01.142Z"
      },
      {
        "duration": 1766773,
        "start_time": "2024-02-23T08:55:01.147Z"
      },
      {
        "duration": 12646,
        "start_time": "2024-02-23T09:24:27.922Z"
      },
      {
        "duration": 16063,
        "start_time": "2024-02-23T12:10:00.880Z"
      },
      {
        "duration": 7744,
        "start_time": "2024-02-23T12:10:16.945Z"
      },
      {
        "duration": 213,
        "start_time": "2024-02-23T12:10:24.690Z"
      },
      {
        "duration": 20,
        "start_time": "2024-02-23T12:10:24.905Z"
      },
      {
        "duration": 12,
        "start_time": "2024-02-23T12:10:24.927Z"
      },
      {
        "duration": 11419,
        "start_time": "2024-02-23T12:10:24.941Z"
      },
      {
        "duration": 10,
        "start_time": "2024-02-23T12:10:36.362Z"
      },
      {
        "duration": 7,
        "start_time": "2024-02-23T12:10:36.374Z"
      },
      {
        "duration": 3428,
        "start_time": "2024-02-23T12:10:36.383Z"
      },
      {
        "duration": 9,
        "start_time": "2024-02-23T12:10:39.814Z"
      },
      {
        "duration": 218,
        "start_time": "2024-02-23T12:10:39.824Z"
      },
      {
        "duration": 391,
        "start_time": "2024-02-23T12:10:40.043Z"
      },
      {
        "duration": 10,
        "start_time": "2024-02-23T12:10:40.435Z"
      },
      {
        "duration": 642,
        "start_time": "2024-02-23T12:10:40.447Z"
      },
      {
        "duration": 860,
        "start_time": "2024-02-23T12:10:41.092Z"
      },
      {
        "duration": 8,
        "start_time": "2024-02-23T12:10:41.953Z"
      },
      {
        "duration": 1167,
        "start_time": "2024-02-23T12:10:41.963Z"
      },
      {
        "duration": 230,
        "start_time": "2024-02-23T12:10:43.132Z"
      },
      {
        "duration": 128,
        "start_time": "2024-02-23T12:10:43.364Z"
      },
      {
        "duration": 158,
        "start_time": "2024-02-23T12:10:43.494Z"
      },
      {
        "duration": 334,
        "start_time": "2024-02-23T12:10:43.654Z"
      },
      {
        "duration": 213,
        "start_time": "2024-02-23T12:10:43.990Z"
      },
      {
        "duration": 126,
        "start_time": "2024-02-23T12:10:44.205Z"
      },
      {
        "duration": 203,
        "start_time": "2024-02-23T12:10:44.333Z"
      },
      {
        "duration": 207,
        "start_time": "2024-02-23T12:10:44.537Z"
      },
      {
        "duration": 315,
        "start_time": "2024-02-23T12:10:44.745Z"
      },
      {
        "duration": 3,
        "start_time": "2024-02-23T12:10:45.061Z"
      },
      {
        "duration": 1589,
        "start_time": "2024-02-23T12:10:45.067Z"
      },
      {
        "duration": 141,
        "start_time": "2024-02-23T12:10:46.658Z"
      },
      {
        "duration": 60,
        "start_time": "2024-02-23T12:10:46.801Z"
      },
      {
        "duration": 3,
        "start_time": "2024-02-23T12:10:46.864Z"
      },
      {
        "duration": 299,
        "start_time": "2024-02-23T12:10:46.869Z"
      },
      {
        "duration": 152,
        "start_time": "2024-02-23T12:10:47.169Z"
      },
      {
        "duration": 332,
        "start_time": "2024-02-23T12:10:47.322Z"
      },
      {
        "duration": 4,
        "start_time": "2024-02-23T12:10:47.656Z"
      },
      {
        "duration": 144,
        "start_time": "2024-02-23T12:10:47.661Z"
      },
      {
        "duration": 142,
        "start_time": "2024-02-23T12:10:47.806Z"
      },
      {
        "duration": 21,
        "start_time": "2024-02-23T12:10:47.950Z"
      },
      {
        "duration": 28,
        "start_time": "2024-02-23T12:10:47.972Z"
      },
      {
        "duration": 7,
        "start_time": "2024-02-23T12:10:48.002Z"
      },
      {
        "duration": 29,
        "start_time": "2024-02-23T12:10:48.010Z"
      },
      {
        "duration": 183,
        "start_time": "2024-02-23T12:10:48.041Z"
      },
      {
        "duration": 444,
        "start_time": "2024-02-23T12:10:48.225Z"
      },
      {
        "duration": 128,
        "start_time": "2024-02-23T12:10:48.670Z"
      },
      {
        "duration": 33,
        "start_time": "2024-02-23T12:10:48.800Z"
      },
      {
        "duration": 16,
        "start_time": "2024-02-23T12:10:48.834Z"
      },
      {
        "duration": 202,
        "start_time": "2024-02-23T12:10:48.851Z"
      },
      {
        "duration": 21,
        "start_time": "2024-02-23T12:10:49.054Z"
      },
      {
        "duration": 13,
        "start_time": "2024-02-23T12:10:49.077Z"
      },
      {
        "duration": 192,
        "start_time": "2024-02-23T12:10:49.091Z"
      },
      {
        "duration": 7,
        "start_time": "2024-02-23T12:10:49.284Z"
      },
      {
        "duration": 72,
        "start_time": "2024-02-23T12:10:49.292Z"
      },
      {
        "duration": 6,
        "start_time": "2024-02-23T12:10:49.366Z"
      },
      {
        "duration": 39,
        "start_time": "2024-02-23T12:10:49.374Z"
      },
      {
        "duration": 20,
        "start_time": "2024-02-23T12:10:49.414Z"
      },
      {
        "duration": 193,
        "start_time": "2024-02-23T12:10:49.435Z"
      },
      {
        "duration": 18,
        "start_time": "2024-02-23T12:10:49.630Z"
      },
      {
        "duration": 197,
        "start_time": "2024-02-23T12:10:49.650Z"
      },
      {
        "duration": 138,
        "start_time": "2024-02-23T12:10:49.849Z"
      },
      {
        "duration": 4,
        "start_time": "2024-02-23T12:10:49.989Z"
      },
      {
        "duration": 159,
        "start_time": "2024-02-23T12:10:49.995Z"
      },
      {
        "duration": 7,
        "start_time": "2024-02-23T12:10:50.156Z"
      },
      {
        "duration": 189,
        "start_time": "2024-02-23T12:10:50.164Z"
      },
      {
        "duration": 208,
        "start_time": "2024-02-23T12:10:50.354Z"
      },
      {
        "duration": 219,
        "start_time": "2024-02-23T12:10:50.563Z"
      },
      {
        "duration": 1936,
        "start_time": "2024-02-23T12:10:50.783Z"
      },
      {
        "duration": 3,
        "start_time": "2024-02-23T12:10:52.721Z"
      },
      {
        "duration": 1777028,
        "start_time": "2024-02-23T12:10:52.726Z"
      },
      {
        "duration": 12709,
        "start_time": "2024-02-23T12:40:29.756Z"
      },
      {
        "duration": 15981,
        "start_time": "2024-02-23T12:52:21.503Z"
      },
      {
        "duration": 7610,
        "start_time": "2024-02-23T12:52:37.486Z"
      },
      {
        "duration": 210,
        "start_time": "2024-02-23T12:52:45.097Z"
      },
      {
        "duration": 21,
        "start_time": "2024-02-23T12:52:45.309Z"
      },
      {
        "duration": 12,
        "start_time": "2024-02-23T12:52:45.331Z"
      },
      {
        "duration": 11443,
        "start_time": "2024-02-23T12:52:45.344Z"
      },
      {
        "duration": 11,
        "start_time": "2024-02-23T12:52:56.789Z"
      },
      {
        "duration": 13,
        "start_time": "2024-02-23T12:52:56.801Z"
      },
      {
        "duration": 3399,
        "start_time": "2024-02-23T12:52:56.816Z"
      },
      {
        "duration": 14,
        "start_time": "2024-02-23T12:53:00.218Z"
      },
      {
        "duration": 237,
        "start_time": "2024-02-23T12:53:00.234Z"
      },
      {
        "duration": 401,
        "start_time": "2024-02-23T12:53:00.473Z"
      },
      {
        "duration": 8,
        "start_time": "2024-02-23T12:53:00.876Z"
      },
      {
        "duration": 686,
        "start_time": "2024-02-23T12:53:00.885Z"
      },
      {
        "duration": 849,
        "start_time": "2024-02-23T12:53:01.573Z"
      },
      {
        "duration": 6,
        "start_time": "2024-02-23T12:53:02.424Z"
      },
      {
        "duration": 1167,
        "start_time": "2024-02-23T12:53:02.432Z"
      },
      {
        "duration": 224,
        "start_time": "2024-02-23T12:53:03.601Z"
      },
      {
        "duration": 123,
        "start_time": "2024-02-23T12:53:03.827Z"
      },
      {
        "duration": 161,
        "start_time": "2024-02-23T12:53:03.952Z"
      },
      {
        "duration": 345,
        "start_time": "2024-02-23T12:53:04.115Z"
      },
      {
        "duration": 208,
        "start_time": "2024-02-23T12:53:04.462Z"
      },
      {
        "duration": 134,
        "start_time": "2024-02-23T12:53:04.672Z"
      },
      {
        "duration": 201,
        "start_time": "2024-02-23T12:53:04.808Z"
      },
      {
        "duration": 210,
        "start_time": "2024-02-23T12:53:05.010Z"
      },
      {
        "duration": 335,
        "start_time": "2024-02-23T12:53:05.222Z"
      },
      {
        "duration": 2,
        "start_time": "2024-02-23T12:53:05.559Z"
      },
      {
        "duration": 3608,
        "start_time": "2024-02-23T12:53:05.565Z"
      },
      {
        "duration": 144,
        "start_time": "2024-02-23T12:53:09.175Z"
      },
      {
        "duration": 56,
        "start_time": "2024-02-23T12:53:09.320Z"
      },
      {
        "duration": 4,
        "start_time": "2024-02-23T12:53:09.377Z"
      },
      {
        "duration": 313,
        "start_time": "2024-02-23T12:53:09.383Z"
      },
      {
        "duration": 156,
        "start_time": "2024-02-23T12:53:09.697Z"
      },
      {
        "duration": 324,
        "start_time": "2024-02-23T12:53:09.854Z"
      },
      {
        "duration": 4,
        "start_time": "2024-02-23T12:53:10.180Z"
      },
      {
        "duration": 154,
        "start_time": "2024-02-23T12:53:10.186Z"
      },
      {
        "duration": 133,
        "start_time": "2024-02-23T12:53:10.342Z"
      },
      {
        "duration": 4,
        "start_time": "2024-02-23T12:53:10.477Z"
      },
      {
        "duration": 32,
        "start_time": "2024-02-23T12:53:10.482Z"
      },
      {
        "duration": 9,
        "start_time": "2024-02-23T12:53:10.515Z"
      },
      {
        "duration": 40,
        "start_time": "2024-02-23T12:53:10.525Z"
      },
      {
        "duration": 191,
        "start_time": "2024-02-23T12:53:10.566Z"
      },
      {
        "duration": 450,
        "start_time": "2024-02-23T12:53:10.759Z"
      },
      {
        "duration": 132,
        "start_time": "2024-02-23T12:53:11.212Z"
      },
      {
        "duration": 27,
        "start_time": "2024-02-23T12:53:11.346Z"
      },
      {
        "duration": 17,
        "start_time": "2024-02-23T12:53:11.375Z"
      },
      {
        "duration": 214,
        "start_time": "2024-02-23T12:53:11.394Z"
      },
      {
        "duration": 27,
        "start_time": "2024-02-23T12:53:11.609Z"
      },
      {
        "duration": 13,
        "start_time": "2024-02-23T12:53:11.638Z"
      },
      {
        "duration": 214,
        "start_time": "2024-02-23T12:53:11.652Z"
      },
      {
        "duration": 7,
        "start_time": "2024-02-23T12:53:11.867Z"
      },
      {
        "duration": 64,
        "start_time": "2024-02-23T12:53:11.875Z"
      },
      {
        "duration": 8,
        "start_time": "2024-02-23T12:53:11.940Z"
      },
      {
        "duration": 33,
        "start_time": "2024-02-23T12:53:11.949Z"
      },
      {
        "duration": 8,
        "start_time": "2024-02-23T12:53:11.983Z"
      },
      {
        "duration": 221,
        "start_time": "2024-02-23T12:53:11.993Z"
      },
      {
        "duration": 24,
        "start_time": "2024-02-23T12:53:12.215Z"
      },
      {
        "duration": 216,
        "start_time": "2024-02-23T12:53:12.241Z"
      },
      {
        "duration": 135,
        "start_time": "2024-02-23T12:53:12.459Z"
      },
      {
        "duration": 4,
        "start_time": "2024-02-23T12:53:12.596Z"
      },
      {
        "duration": 147,
        "start_time": "2024-02-23T12:53:12.601Z"
      },
      {
        "duration": 6,
        "start_time": "2024-02-23T12:53:12.750Z"
      },
      {
        "duration": 216,
        "start_time": "2024-02-23T12:53:12.757Z"
      },
      {
        "duration": 224,
        "start_time": "2024-02-23T12:53:12.974Z"
      },
      {
        "duration": 239,
        "start_time": "2024-02-23T12:53:13.199Z"
      },
      {
        "duration": 2062,
        "start_time": "2024-02-23T12:53:13.440Z"
      },
      {
        "duration": 3,
        "start_time": "2024-02-23T12:53:15.503Z"
      },
      {
        "duration": 1777769,
        "start_time": "2024-02-23T12:53:15.507Z"
      },
      {
        "duration": 12821,
        "start_time": "2024-02-23T13:22:53.277Z"
      },
      {
        "duration": 382,
        "start_time": "2024-02-23T13:23:06.100Z"
      },
      {
        "duration": 286469,
        "start_time": "2024-02-23T13:23:06.483Z"
      },
      {
        "duration": 12,
        "start_time": "2024-02-23T13:27:52.953Z"
      },
      {
        "duration": 5,
        "start_time": "2024-02-23T13:27:52.966Z"
      },
      {
        "duration": 40680,
        "start_time": "2024-02-23T13:27:52.973Z"
      },
      {
        "duration": 9,
        "start_time": "2024-02-23T13:28:33.655Z"
      },
      {
        "duration": 76,
        "start_time": "2024-02-23T13:28:33.666Z"
      },
      {
        "duration": 0,
        "start_time": "2024-02-23T13:28:33.744Z"
      },
      {
        "duration": 0,
        "start_time": "2024-02-23T13:28:33.745Z"
      },
      {
        "duration": 0,
        "start_time": "2024-02-23T13:28:33.747Z"
      },
      {
        "duration": 0,
        "start_time": "2024-02-23T13:28:33.748Z"
      },
      {
        "duration": 15839,
        "start_time": "2024-02-23T13:28:42.634Z"
      },
      {
        "duration": 7681,
        "start_time": "2024-02-23T13:28:58.475Z"
      },
      {
        "duration": 211,
        "start_time": "2024-02-23T13:29:06.157Z"
      },
      {
        "duration": 31,
        "start_time": "2024-02-23T13:29:06.370Z"
      },
      {
        "duration": 13,
        "start_time": "2024-02-23T13:29:06.402Z"
      },
      {
        "duration": 11476,
        "start_time": "2024-02-23T13:29:06.417Z"
      },
      {
        "duration": 12,
        "start_time": "2024-02-23T13:29:17.894Z"
      },
      {
        "duration": 17,
        "start_time": "2024-02-23T13:29:17.908Z"
      },
      {
        "duration": 3352,
        "start_time": "2024-02-23T13:29:17.927Z"
      },
      {
        "duration": 8,
        "start_time": "2024-02-23T13:29:21.282Z"
      },
      {
        "duration": 222,
        "start_time": "2024-02-23T13:29:21.291Z"
      },
      {
        "duration": 380,
        "start_time": "2024-02-23T13:29:21.514Z"
      },
      {
        "duration": 11,
        "start_time": "2024-02-23T13:29:21.895Z"
      },
      {
        "duration": 625,
        "start_time": "2024-02-23T13:29:21.908Z"
      },
      {
        "duration": 827,
        "start_time": "2024-02-23T13:29:22.535Z"
      },
      {
        "duration": 7,
        "start_time": "2024-02-23T13:29:23.363Z"
      },
      {
        "duration": 1120,
        "start_time": "2024-02-23T13:29:23.371Z"
      },
      {
        "duration": 225,
        "start_time": "2024-02-23T13:29:24.493Z"
      },
      {
        "duration": 125,
        "start_time": "2024-02-23T13:29:24.719Z"
      },
      {
        "duration": 155,
        "start_time": "2024-02-23T13:29:24.846Z"
      },
      {
        "duration": 341,
        "start_time": "2024-02-23T13:29:25.002Z"
      },
      {
        "duration": 211,
        "start_time": "2024-02-23T13:29:25.344Z"
      },
      {
        "duration": 124,
        "start_time": "2024-02-23T13:29:25.557Z"
      },
      {
        "duration": 201,
        "start_time": "2024-02-23T13:29:25.682Z"
      },
      {
        "duration": 200,
        "start_time": "2024-02-23T13:29:25.885Z"
      },
      {
        "duration": 309,
        "start_time": "2024-02-23T13:29:26.087Z"
      },
      {
        "duration": 2,
        "start_time": "2024-02-23T13:29:26.398Z"
      },
      {
        "duration": 3321,
        "start_time": "2024-02-23T13:29:26.404Z"
      },
      {
        "duration": 150,
        "start_time": "2024-02-23T13:29:29.726Z"
      },
      {
        "duration": 58,
        "start_time": "2024-02-23T13:29:29.878Z"
      },
      {
        "duration": 4,
        "start_time": "2024-02-23T13:29:29.937Z"
      },
      {
        "duration": 334,
        "start_time": "2024-02-23T13:29:29.943Z"
      },
      {
        "duration": 156,
        "start_time": "2024-02-23T13:29:30.278Z"
      },
      {
        "duration": 432,
        "start_time": "2024-02-23T13:29:30.435Z"
      },
      {
        "duration": 3,
        "start_time": "2024-02-23T13:29:30.869Z"
      },
      {
        "duration": 187,
        "start_time": "2024-02-23T13:29:30.874Z"
      },
      {
        "duration": 187,
        "start_time": "2024-02-23T13:29:31.063Z"
      },
      {
        "duration": 4,
        "start_time": "2024-02-23T13:29:31.252Z"
      },
      {
        "duration": 21,
        "start_time": "2024-02-23T13:29:31.257Z"
      },
      {
        "duration": 16,
        "start_time": "2024-02-23T13:29:31.280Z"
      },
      {
        "duration": 33,
        "start_time": "2024-02-23T13:29:31.298Z"
      },
      {
        "duration": 214,
        "start_time": "2024-02-23T13:29:31.332Z"
      },
      {
        "duration": 515,
        "start_time": "2024-02-23T13:29:31.548Z"
      },
      {
        "duration": 136,
        "start_time": "2024-02-23T13:29:32.064Z"
      },
      {
        "duration": 76,
        "start_time": "2024-02-23T13:29:32.202Z"
      },
      {
        "duration": 68,
        "start_time": "2024-02-23T13:29:32.280Z"
      },
      {
        "duration": 241,
        "start_time": "2024-02-23T13:29:32.349Z"
      },
      {
        "duration": 21,
        "start_time": "2024-02-23T13:29:32.592Z"
      },
      {
        "duration": 22,
        "start_time": "2024-02-23T13:29:32.615Z"
      },
      {
        "duration": 194,
        "start_time": "2024-02-23T13:29:32.639Z"
      },
      {
        "duration": 10,
        "start_time": "2024-02-23T13:29:32.835Z"
      },
      {
        "duration": 106,
        "start_time": "2024-02-23T13:29:32.847Z"
      },
      {
        "duration": 6,
        "start_time": "2024-02-23T13:29:32.955Z"
      },
      {
        "duration": 29,
        "start_time": "2024-02-23T13:29:32.963Z"
      },
      {
        "duration": 7,
        "start_time": "2024-02-23T13:29:32.993Z"
      },
      {
        "duration": 207,
        "start_time": "2024-02-23T13:29:33.002Z"
      },
      {
        "duration": 22,
        "start_time": "2024-02-23T13:29:33.211Z"
      },
      {
        "duration": 192,
        "start_time": "2024-02-23T13:29:33.235Z"
      },
      {
        "duration": 141,
        "start_time": "2024-02-23T13:29:33.429Z"
      },
      {
        "duration": 4,
        "start_time": "2024-02-23T13:29:33.572Z"
      },
      {
        "duration": 150,
        "start_time": "2024-02-23T13:29:33.577Z"
      },
      {
        "duration": 6,
        "start_time": "2024-02-23T13:29:33.733Z"
      },
      {
        "duration": 195,
        "start_time": "2024-02-23T13:29:33.740Z"
      },
      {
        "duration": 222,
        "start_time": "2024-02-23T13:29:33.937Z"
      },
      {
        "duration": 244,
        "start_time": "2024-02-23T13:29:34.161Z"
      },
      {
        "duration": 1982,
        "start_time": "2024-02-23T13:29:34.406Z"
      },
      {
        "duration": 3,
        "start_time": "2024-02-23T13:29:36.390Z"
      },
      {
        "duration": 1764802,
        "start_time": "2024-02-23T13:29:36.394Z"
      },
      {
        "duration": 12251,
        "start_time": "2024-02-23T13:59:01.198Z"
      },
      {
        "duration": 6,
        "start_time": "2024-02-23T13:59:13.450Z"
      },
      {
        "duration": 0,
        "start_time": "2024-02-23T13:59:13.458Z"
      },
      {
        "duration": 0,
        "start_time": "2024-02-23T13:59:13.459Z"
      },
      {
        "duration": 0,
        "start_time": "2024-02-23T13:59:13.461Z"
      },
      {
        "duration": 0,
        "start_time": "2024-02-23T13:59:13.461Z"
      },
      {
        "duration": 0,
        "start_time": "2024-02-23T13:59:13.463Z"
      },
      {
        "duration": 0,
        "start_time": "2024-02-23T13:59:13.464Z"
      },
      {
        "duration": 0,
        "start_time": "2024-02-23T13:59:13.465Z"
      },
      {
        "duration": 0,
        "start_time": "2024-02-23T13:59:13.466Z"
      },
      {
        "duration": 0,
        "start_time": "2024-02-23T13:59:13.467Z"
      },
      {
        "duration": 5,
        "start_time": "2024-02-23T14:04:37.591Z"
      },
      {
        "duration": 11749,
        "start_time": "2024-02-23T14:08:12.376Z"
      },
      {
        "duration": 37682,
        "start_time": "2024-02-24T19:55:06.043Z"
      },
      {
        "duration": 7096,
        "start_time": "2024-02-24T19:55:43.727Z"
      },
      {
        "duration": 217,
        "start_time": "2024-02-24T19:55:50.824Z"
      },
      {
        "duration": 21,
        "start_time": "2024-02-24T19:55:51.043Z"
      },
      {
        "duration": 10,
        "start_time": "2024-02-24T19:55:51.065Z"
      },
      {
        "duration": 42,
        "start_time": "2024-02-24T19:55:51.076Z"
      },
      {
        "duration": 9,
        "start_time": "2024-02-24T19:55:51.120Z"
      },
      {
        "duration": 11,
        "start_time": "2024-02-24T19:55:51.130Z"
      },
      {
        "duration": 4078,
        "start_time": "2024-02-24T19:55:51.142Z"
      },
      {
        "duration": 7,
        "start_time": "2024-02-24T19:55:55.223Z"
      },
      {
        "duration": 381,
        "start_time": "2024-02-24T19:55:55.232Z"
      },
      {
        "duration": 395,
        "start_time": "2024-02-24T19:55:55.615Z"
      },
      {
        "duration": 7,
        "start_time": "2024-02-24T19:55:56.012Z"
      },
      {
        "duration": 699,
        "start_time": "2024-02-24T19:55:56.020Z"
      },
      {
        "duration": 846,
        "start_time": "2024-02-24T19:55:56.721Z"
      },
      {
        "duration": 6,
        "start_time": "2024-02-24T19:55:57.568Z"
      },
      {
        "duration": 563,
        "start_time": "2024-02-24T19:55:57.575Z"
      },
      {
        "duration": 230,
        "start_time": "2024-02-24T19:55:58.140Z"
      },
      {
        "duration": 196,
        "start_time": "2024-02-24T19:55:58.371Z"
      },
      {
        "duration": 159,
        "start_time": "2024-02-24T19:55:58.568Z"
      },
      {
        "duration": 502,
        "start_time": "2024-02-24T19:55:58.729Z"
      },
      {
        "duration": 224,
        "start_time": "2024-02-24T19:55:59.233Z"
      },
      {
        "duration": 206,
        "start_time": "2024-02-24T19:55:59.459Z"
      },
      {
        "duration": 202,
        "start_time": "2024-02-24T19:55:59.668Z"
      },
      {
        "duration": 209,
        "start_time": "2024-02-24T19:55:59.872Z"
      },
      {
        "duration": 507,
        "start_time": "2024-02-24T19:56:00.082Z"
      },
      {
        "duration": 3,
        "start_time": "2024-02-24T19:56:00.590Z"
      },
      {
        "duration": 1454,
        "start_time": "2024-02-24T19:56:00.597Z"
      },
      {
        "duration": 249,
        "start_time": "2024-02-24T19:56:02.052Z"
      },
      {
        "duration": 53,
        "start_time": "2024-02-24T19:56:02.302Z"
      },
      {
        "duration": 5,
        "start_time": "2024-02-24T19:56:02.365Z"
      },
      {
        "duration": 281,
        "start_time": "2024-02-24T19:56:02.371Z"
      },
      {
        "duration": 231,
        "start_time": "2024-02-24T19:56:02.654Z"
      },
      {
        "duration": 310,
        "start_time": "2024-02-24T19:56:02.887Z"
      },
      {
        "duration": 4,
        "start_time": "2024-02-24T19:56:03.198Z"
      },
      {
        "duration": 229,
        "start_time": "2024-02-24T19:56:03.203Z"
      },
      {
        "duration": 213,
        "start_time": "2024-02-24T19:56:03.433Z"
      },
      {
        "duration": 4,
        "start_time": "2024-02-24T19:56:03.648Z"
      },
      {
        "duration": 12,
        "start_time": "2024-02-24T19:56:03.654Z"
      },
      {
        "duration": 5,
        "start_time": "2024-02-24T19:56:03.667Z"
      },
      {
        "duration": 7,
        "start_time": "2024-02-24T19:56:03.673Z"
      },
      {
        "duration": 328,
        "start_time": "2024-02-24T19:56:03.681Z"
      },
      {
        "duration": 420,
        "start_time": "2024-02-24T19:56:04.011Z"
      },
      {
        "duration": 203,
        "start_time": "2024-02-24T19:56:04.433Z"
      },
      {
        "duration": 18,
        "start_time": "2024-02-24T19:56:04.638Z"
      },
      {
        "duration": 30,
        "start_time": "2024-02-24T19:56:04.658Z"
      },
      {
        "duration": 361,
        "start_time": "2024-02-24T19:56:04.690Z"
      },
      {
        "duration": 19,
        "start_time": "2024-02-24T19:56:05.053Z"
      },
      {
        "duration": 13,
        "start_time": "2024-02-24T19:56:05.073Z"
      },
      {
        "duration": 334,
        "start_time": "2024-02-24T19:56:05.088Z"
      },
      {
        "duration": 6,
        "start_time": "2024-02-24T19:56:05.424Z"
      },
      {
        "duration": 69,
        "start_time": "2024-02-24T19:56:05.432Z"
      },
      {
        "duration": 6,
        "start_time": "2024-02-24T19:56:05.503Z"
      },
      {
        "duration": 18,
        "start_time": "2024-02-24T19:56:05.511Z"
      },
      {
        "duration": 7,
        "start_time": "2024-02-24T19:56:05.531Z"
      },
      {
        "duration": 378,
        "start_time": "2024-02-24T19:56:05.540Z"
      },
      {
        "duration": 18,
        "start_time": "2024-02-24T19:56:05.919Z"
      },
      {
        "duration": 303,
        "start_time": "2024-02-24T19:56:05.939Z"
      },
      {
        "duration": 199,
        "start_time": "2024-02-24T19:56:06.244Z"
      },
      {
        "duration": 4,
        "start_time": "2024-02-24T19:56:06.444Z"
      },
      {
        "duration": 206,
        "start_time": "2024-02-24T19:56:06.449Z"
      },
      {
        "duration": 11,
        "start_time": "2024-02-24T19:56:06.657Z"
      },
      {
        "duration": 321,
        "start_time": "2024-02-24T19:56:06.669Z"
      },
      {
        "duration": 346,
        "start_time": "2024-02-24T19:56:06.992Z"
      },
      {
        "duration": 329,
        "start_time": "2024-02-24T19:56:07.339Z"
      },
      {
        "duration": 1197,
        "start_time": "2024-02-24T19:56:07.669Z"
      },
      {
        "duration": 3,
        "start_time": "2024-02-24T19:56:08.868Z"
      },
      {
        "duration": 1780828,
        "start_time": "2024-02-24T19:56:08.873Z"
      },
      {
        "duration": 12280,
        "start_time": "2024-02-24T20:25:49.702Z"
      },
      {
        "duration": 193493,
        "start_time": "2024-02-24T20:26:01.984Z"
      },
      {
        "duration": 4705,
        "start_time": "2024-02-24T20:29:15.479Z"
      },
      {
        "duration": 11,
        "start_time": "2024-02-24T20:29:20.186Z"
      },
      {
        "duration": 72,
        "start_time": "2024-02-24T20:29:20.198Z"
      },
      {
        "duration": 37028,
        "start_time": "2024-02-24T20:29:20.271Z"
      },
      {
        "duration": 71,
        "start_time": "2024-02-24T20:29:57.300Z"
      },
      {
        "duration": 334,
        "start_time": "2024-02-24T20:29:57.372Z"
      },
      {
        "duration": 360,
        "start_time": "2024-02-24T20:29:57.708Z"
      },
      {
        "duration": 420,
        "start_time": "2024-02-24T20:29:58.070Z"
      },
      {
        "duration": 523,
        "start_time": "2024-02-24T20:29:58.492Z"
      },
      {
        "duration": 22148,
        "start_time": "2024-02-25T07:00:55.257Z"
      },
      {
        "duration": 8461,
        "start_time": "2024-02-25T07:01:17.407Z"
      },
      {
        "duration": 207,
        "start_time": "2024-02-25T07:01:25.870Z"
      },
      {
        "duration": 31,
        "start_time": "2024-02-25T07:01:26.080Z"
      },
      {
        "duration": 20,
        "start_time": "2024-02-25T07:01:26.112Z"
      },
      {
        "duration": 38,
        "start_time": "2024-02-25T07:01:26.134Z"
      },
      {
        "duration": 12,
        "start_time": "2024-02-25T07:01:26.173Z"
      },
      {
        "duration": 20,
        "start_time": "2024-02-25T07:01:26.187Z"
      },
      {
        "duration": 4151,
        "start_time": "2024-02-25T07:01:26.209Z"
      },
      {
        "duration": 9,
        "start_time": "2024-02-25T07:01:30.364Z"
      },
      {
        "duration": 276,
        "start_time": "2024-02-25T07:01:30.375Z"
      },
      {
        "duration": 395,
        "start_time": "2024-02-25T07:01:30.653Z"
      },
      {
        "duration": 11,
        "start_time": "2024-02-25T07:01:31.050Z"
      },
      {
        "duration": 744,
        "start_time": "2024-02-25T07:01:31.062Z"
      },
      {
        "duration": 865,
        "start_time": "2024-02-25T07:01:31.807Z"
      },
      {
        "duration": 6,
        "start_time": "2024-02-25T07:01:32.673Z"
      },
      {
        "duration": 1036,
        "start_time": "2024-02-25T07:01:32.681Z"
      },
      {
        "duration": 231,
        "start_time": "2024-02-25T07:01:33.719Z"
      },
      {
        "duration": 133,
        "start_time": "2024-02-25T07:01:33.952Z"
      },
      {
        "duration": 161,
        "start_time": "2024-02-25T07:01:34.087Z"
      },
      {
        "duration": 350,
        "start_time": "2024-02-25T07:01:34.250Z"
      },
      {
        "duration": 220,
        "start_time": "2024-02-25T07:01:34.602Z"
      },
      {
        "duration": 158,
        "start_time": "2024-02-25T07:01:34.824Z"
      },
      {
        "duration": 208,
        "start_time": "2024-02-25T07:01:34.984Z"
      },
      {
        "duration": 205,
        "start_time": "2024-02-25T07:01:35.194Z"
      },
      {
        "duration": 329,
        "start_time": "2024-02-25T07:01:35.400Z"
      },
      {
        "duration": 3,
        "start_time": "2024-02-25T07:01:35.731Z"
      },
      {
        "duration": 12311,
        "start_time": "2024-02-25T07:01:35.738Z"
      },
      {
        "duration": 227,
        "start_time": "2024-02-25T07:01:48.050Z"
      },
      {
        "duration": 64,
        "start_time": "2024-02-25T07:01:48.279Z"
      },
      {
        "duration": 5,
        "start_time": "2024-02-25T07:01:48.345Z"
      },
      {
        "duration": 313,
        "start_time": "2024-02-25T07:01:48.352Z"
      },
      {
        "duration": 160,
        "start_time": "2024-02-25T07:01:48.667Z"
      },
      {
        "duration": 330,
        "start_time": "2024-02-25T07:01:48.829Z"
      },
      {
        "duration": 4,
        "start_time": "2024-02-25T07:01:49.160Z"
      },
      {
        "duration": 160,
        "start_time": "2024-02-25T07:01:49.165Z"
      },
      {
        "duration": 155,
        "start_time": "2024-02-25T07:01:49.326Z"
      },
      {
        "duration": 9,
        "start_time": "2024-02-25T07:01:49.483Z"
      },
      {
        "duration": 22,
        "start_time": "2024-02-25T07:01:49.493Z"
      },
      {
        "duration": 3,
        "start_time": "2024-02-25T07:01:49.517Z"
      },
      {
        "duration": 16,
        "start_time": "2024-02-25T07:01:49.522Z"
      },
      {
        "duration": 203,
        "start_time": "2024-02-25T07:01:49.540Z"
      },
      {
        "duration": 1573,
        "start_time": "2024-02-25T07:01:49.745Z"
      },
      {
        "duration": 0,
        "start_time": "2024-02-25T07:01:51.320Z"
      },
      {
        "duration": 0,
        "start_time": "2024-02-25T07:01:51.321Z"
      },
      {
        "duration": 0,
        "start_time": "2024-02-25T07:01:51.322Z"
      },
      {
        "duration": 0,
        "start_time": "2024-02-25T07:01:51.323Z"
      },
      {
        "duration": 0,
        "start_time": "2024-02-25T07:01:51.324Z"
      },
      {
        "duration": 0,
        "start_time": "2024-02-25T07:01:51.326Z"
      },
      {
        "duration": 0,
        "start_time": "2024-02-25T07:01:51.327Z"
      },
      {
        "duration": 0,
        "start_time": "2024-02-25T07:01:51.328Z"
      },
      {
        "duration": 0,
        "start_time": "2024-02-25T07:01:51.329Z"
      },
      {
        "duration": 0,
        "start_time": "2024-02-25T07:01:51.330Z"
      },
      {
        "duration": 0,
        "start_time": "2024-02-25T07:01:51.331Z"
      },
      {
        "duration": 0,
        "start_time": "2024-02-25T07:01:51.332Z"
      },
      {
        "duration": 0,
        "start_time": "2024-02-25T07:01:51.333Z"
      },
      {
        "duration": 0,
        "start_time": "2024-02-25T07:01:51.333Z"
      },
      {
        "duration": 0,
        "start_time": "2024-02-25T07:01:51.334Z"
      },
      {
        "duration": 0,
        "start_time": "2024-02-25T07:01:51.335Z"
      },
      {
        "duration": 0,
        "start_time": "2024-02-25T07:01:51.336Z"
      },
      {
        "duration": 0,
        "start_time": "2024-02-25T07:01:51.338Z"
      },
      {
        "duration": 0,
        "start_time": "2024-02-25T07:01:51.339Z"
      },
      {
        "duration": 0,
        "start_time": "2024-02-25T07:01:51.340Z"
      },
      {
        "duration": 0,
        "start_time": "2024-02-25T07:01:51.341Z"
      },
      {
        "duration": 0,
        "start_time": "2024-02-25T07:01:51.342Z"
      },
      {
        "duration": 0,
        "start_time": "2024-02-25T07:01:51.343Z"
      },
      {
        "duration": 0,
        "start_time": "2024-02-25T07:01:51.344Z"
      },
      {
        "duration": 0,
        "start_time": "2024-02-25T07:01:51.345Z"
      },
      {
        "duration": 0,
        "start_time": "2024-02-25T07:01:51.346Z"
      },
      {
        "duration": 0,
        "start_time": "2024-02-25T07:01:51.347Z"
      },
      {
        "duration": 0,
        "start_time": "2024-02-25T07:01:51.348Z"
      },
      {
        "duration": 0,
        "start_time": "2024-02-25T07:01:51.349Z"
      },
      {
        "duration": 0,
        "start_time": "2024-02-25T07:01:51.350Z"
      },
      {
        "duration": 0,
        "start_time": "2024-02-25T07:01:51.351Z"
      },
      {
        "duration": 0,
        "start_time": "2024-02-25T07:01:51.352Z"
      },
      {
        "duration": 0,
        "start_time": "2024-02-25T07:01:51.353Z"
      },
      {
        "duration": 0,
        "start_time": "2024-02-25T07:01:51.354Z"
      },
      {
        "duration": 0,
        "start_time": "2024-02-25T07:01:51.355Z"
      },
      {
        "duration": 0,
        "start_time": "2024-02-25T07:01:51.356Z"
      },
      {
        "duration": 1344,
        "start_time": "2024-02-25T07:02:05.409Z"
      },
      {
        "duration": 1391,
        "start_time": "2024-02-25T07:02:17.349Z"
      },
      {
        "duration": 242,
        "start_time": "2024-02-25T07:02:20.605Z"
      },
      {
        "duration": 131,
        "start_time": "2024-02-25T07:02:29.765Z"
      },
      {
        "duration": 19,
        "start_time": "2024-02-25T07:02:31.927Z"
      },
      {
        "duration": 12,
        "start_time": "2024-02-25T07:02:34.733Z"
      },
      {
        "duration": 229,
        "start_time": "2024-02-25T07:02:35.143Z"
      },
      {
        "duration": 14,
        "start_time": "2024-02-25T07:02:36.126Z"
      },
      {
        "duration": 11,
        "start_time": "2024-02-25T07:02:38.875Z"
      },
      {
        "duration": 166,
        "start_time": "2024-02-25T07:02:39.196Z"
      },
      {
        "duration": 6,
        "start_time": "2024-02-25T07:02:39.573Z"
      },
      {
        "duration": 57,
        "start_time": "2024-02-25T07:02:42.274Z"
      },
      {
        "duration": 6,
        "start_time": "2024-02-25T07:02:43.350Z"
      },
      {
        "duration": 21,
        "start_time": "2024-02-25T07:02:43.766Z"
      },
      {
        "duration": 7,
        "start_time": "2024-02-25T07:02:44.396Z"
      },
      {
        "duration": 201,
        "start_time": "2024-02-25T07:02:46.017Z"
      },
      {
        "duration": 13,
        "start_time": "2024-02-25T07:02:48.060Z"
      },
      {
        "duration": 168,
        "start_time": "2024-02-25T07:02:49.866Z"
      },
      {
        "duration": 148,
        "start_time": "2024-02-25T07:02:51.075Z"
      },
      {
        "duration": 4,
        "start_time": "2024-02-25T07:02:57.673Z"
      },
      {
        "duration": 130,
        "start_time": "2024-02-25T07:02:58.877Z"
      },
      {
        "duration": 7,
        "start_time": "2024-02-25T07:03:03.431Z"
      },
      {
        "duration": 192,
        "start_time": "2024-02-25T07:03:04.923Z"
      },
      {
        "duration": 176,
        "start_time": "2024-02-25T07:03:06.909Z"
      },
      {
        "duration": 197,
        "start_time": "2024-02-25T07:03:07.938Z"
      },
      {
        "duration": 1280,
        "start_time": "2024-02-25T07:03:28.678Z"
      },
      {
        "duration": 10995,
        "start_time": "2024-02-25T07:15:58.295Z"
      },
      {
        "duration": 69,
        "start_time": "2024-02-25T07:18:18.540Z"
      },
      {
        "duration": 11436,
        "start_time": "2024-02-25T07:20:15.782Z"
      },
      {
        "duration": 12294,
        "start_time": "2024-02-25T07:20:59.113Z"
      },
      {
        "duration": 159,
        "start_time": "2024-02-25T07:21:11.408Z"
      },
      {
        "duration": 53,
        "start_time": "2024-02-25T07:21:11.569Z"
      },
      {
        "duration": 3,
        "start_time": "2024-02-25T07:21:11.624Z"
      },
      {
        "duration": 339,
        "start_time": "2024-02-25T07:21:11.629Z"
      },
      {
        "duration": 166,
        "start_time": "2024-02-25T07:21:11.970Z"
      },
      {
        "duration": 370,
        "start_time": "2024-02-25T07:21:12.138Z"
      },
      {
        "duration": 6,
        "start_time": "2024-02-25T07:21:12.510Z"
      },
      {
        "duration": 179,
        "start_time": "2024-02-25T07:21:12.517Z"
      },
      {
        "duration": 155,
        "start_time": "2024-02-25T07:21:12.699Z"
      },
      {
        "duration": 7,
        "start_time": "2024-02-25T07:21:12.856Z"
      },
      {
        "duration": 17,
        "start_time": "2024-02-25T07:21:12.865Z"
      },
      {
        "duration": 13,
        "start_time": "2024-02-25T07:21:12.884Z"
      },
      {
        "duration": 14,
        "start_time": "2024-02-25T07:21:12.899Z"
      },
      {
        "duration": 182,
        "start_time": "2024-02-25T07:21:12.915Z"
      },
      {
        "duration": 260,
        "start_time": "2024-02-25T07:21:13.099Z"
      },
      {
        "duration": 173,
        "start_time": "2024-02-25T07:21:13.361Z"
      },
      {
        "duration": 23,
        "start_time": "2024-02-25T07:21:13.535Z"
      },
      {
        "duration": 21,
        "start_time": "2024-02-25T07:21:13.559Z"
      },
      {
        "duration": 191,
        "start_time": "2024-02-25T07:21:13.581Z"
      },
      {
        "duration": 16,
        "start_time": "2024-02-25T07:21:13.774Z"
      },
      {
        "duration": 26,
        "start_time": "2024-02-25T07:21:13.792Z"
      },
      {
        "duration": 347,
        "start_time": "2024-02-25T07:21:13.820Z"
      },
      {
        "duration": 7,
        "start_time": "2024-02-25T07:21:14.169Z"
      },
      {
        "duration": 74,
        "start_time": "2024-02-25T07:21:14.178Z"
      },
      {
        "duration": 5,
        "start_time": "2024-02-25T07:21:14.254Z"
      },
      {
        "duration": 27,
        "start_time": "2024-02-25T07:21:14.261Z"
      },
      {
        "duration": 12,
        "start_time": "2024-02-25T07:21:14.290Z"
      },
      {
        "duration": 213,
        "start_time": "2024-02-25T07:21:14.316Z"
      },
      {
        "duration": 13,
        "start_time": "2024-02-25T07:21:14.532Z"
      },
      {
        "duration": 189,
        "start_time": "2024-02-25T07:21:14.546Z"
      },
      {
        "duration": 188,
        "start_time": "2024-02-25T07:21:14.737Z"
      },
      {
        "duration": 5,
        "start_time": "2024-02-25T07:21:14.927Z"
      },
      {
        "duration": 154,
        "start_time": "2024-02-25T07:21:14.949Z"
      },
      {
        "duration": 6,
        "start_time": "2024-02-25T07:21:15.157Z"
      },
      {
        "duration": 192,
        "start_time": "2024-02-25T07:21:15.510Z"
      },
      {
        "duration": 211,
        "start_time": "2024-02-25T07:21:15.704Z"
      },
      {
        "duration": 218,
        "start_time": "2024-02-25T07:21:15.917Z"
      },
      {
        "duration": 1370,
        "start_time": "2024-02-25T07:21:16.442Z"
      },
      {
        "duration": 157,
        "start_time": "2024-02-25T07:28:00.629Z"
      },
      {
        "duration": 743,
        "start_time": "2024-02-25T07:32:08.858Z"
      },
      {
        "duration": 143,
        "start_time": "2024-02-25T07:32:10.251Z"
      },
      {
        "duration": 16235,
        "start_time": "2024-02-25T07:32:26.279Z"
      },
      {
        "duration": 7732,
        "start_time": "2024-02-25T07:32:42.516Z"
      },
      {
        "duration": 213,
        "start_time": "2024-02-25T07:32:50.249Z"
      },
      {
        "duration": 21,
        "start_time": "2024-02-25T07:32:50.464Z"
      },
      {
        "duration": 10,
        "start_time": "2024-02-25T07:32:50.487Z"
      },
      {
        "duration": 39,
        "start_time": "2024-02-25T07:32:50.499Z"
      },
      {
        "duration": 11,
        "start_time": "2024-02-25T07:32:50.540Z"
      },
      {
        "duration": 11,
        "start_time": "2024-02-25T07:32:50.552Z"
      },
      {
        "duration": 4073,
        "start_time": "2024-02-25T07:32:50.564Z"
      },
      {
        "duration": 9,
        "start_time": "2024-02-25T07:32:54.640Z"
      },
      {
        "duration": 242,
        "start_time": "2024-02-25T07:32:54.650Z"
      },
      {
        "duration": 402,
        "start_time": "2024-02-25T07:32:54.894Z"
      },
      {
        "duration": 7,
        "start_time": "2024-02-25T07:32:55.298Z"
      },
      {
        "duration": 643,
        "start_time": "2024-02-25T07:32:55.307Z"
      },
      {
        "duration": 839,
        "start_time": "2024-02-25T07:32:55.952Z"
      },
      {
        "duration": 6,
        "start_time": "2024-02-25T07:32:56.793Z"
      },
      {
        "duration": 995,
        "start_time": "2024-02-25T07:32:56.800Z"
      },
      {
        "duration": 230,
        "start_time": "2024-02-25T07:32:57.797Z"
      },
      {
        "duration": 134,
        "start_time": "2024-02-25T07:32:58.029Z"
      },
      {
        "duration": 159,
        "start_time": "2024-02-25T07:32:58.164Z"
      },
      {
        "duration": 368,
        "start_time": "2024-02-25T07:32:58.325Z"
      },
      {
        "duration": 214,
        "start_time": "2024-02-25T07:32:58.695Z"
      },
      {
        "duration": 132,
        "start_time": "2024-02-25T07:32:58.911Z"
      },
      {
        "duration": 202,
        "start_time": "2024-02-25T07:32:59.044Z"
      },
      {
        "duration": 217,
        "start_time": "2024-02-25T07:32:59.247Z"
      },
      {
        "duration": 333,
        "start_time": "2024-02-25T07:32:59.466Z"
      },
      {
        "duration": 4,
        "start_time": "2024-02-25T07:32:59.801Z"
      },
      {
        "duration": 11776,
        "start_time": "2024-02-25T07:32:59.817Z"
      },
      {
        "duration": 120,
        "start_time": "2024-02-25T07:33:11.595Z"
      },
      {
        "duration": 43,
        "start_time": "2024-02-25T07:33:11.717Z"
      },
      {
        "duration": 5,
        "start_time": "2024-02-25T07:33:11.762Z"
      },
      {
        "duration": 302,
        "start_time": "2024-02-25T07:33:11.768Z"
      },
      {
        "duration": 144,
        "start_time": "2024-02-25T07:33:12.072Z"
      },
      {
        "duration": 286,
        "start_time": "2024-02-25T07:33:12.217Z"
      },
      {
        "duration": 11,
        "start_time": "2024-02-25T07:33:12.504Z"
      },
      {
        "duration": 133,
        "start_time": "2024-02-25T07:33:12.516Z"
      },
      {
        "duration": 130,
        "start_time": "2024-02-25T07:33:12.650Z"
      },
      {
        "duration": 4,
        "start_time": "2024-02-25T07:33:12.782Z"
      },
      {
        "duration": 29,
        "start_time": "2024-02-25T07:33:12.787Z"
      },
      {
        "duration": 3,
        "start_time": "2024-02-25T07:33:12.818Z"
      },
      {
        "duration": 13,
        "start_time": "2024-02-25T07:33:12.823Z"
      },
      {
        "duration": 185,
        "start_time": "2024-02-25T07:33:12.837Z"
      },
      {
        "duration": 718,
        "start_time": "2024-02-25T07:33:13.023Z"
      },
      {
        "duration": 120,
        "start_time": "2024-02-25T07:33:13.742Z"
      },
      {
        "duration": 17,
        "start_time": "2024-02-25T07:33:13.863Z"
      },
      {
        "duration": 15,
        "start_time": "2024-02-25T07:33:13.881Z"
      },
      {
        "duration": 186,
        "start_time": "2024-02-25T07:33:13.915Z"
      },
      {
        "duration": 18,
        "start_time": "2024-02-25T07:33:14.103Z"
      },
      {
        "duration": 7,
        "start_time": "2024-02-25T07:33:14.123Z"
      },
      {
        "duration": 186,
        "start_time": "2024-02-25T07:33:14.131Z"
      },
      {
        "duration": 7,
        "start_time": "2024-02-25T07:33:14.319Z"
      },
      {
        "duration": 72,
        "start_time": "2024-02-25T07:33:14.328Z"
      },
      {
        "duration": 5,
        "start_time": "2024-02-25T07:33:14.415Z"
      },
      {
        "duration": 22,
        "start_time": "2024-02-25T07:33:14.422Z"
      },
      {
        "duration": 25,
        "start_time": "2024-02-25T07:33:14.445Z"
      },
      {
        "duration": 211,
        "start_time": "2024-02-25T07:33:14.471Z"
      },
      {
        "duration": 11,
        "start_time": "2024-02-25T07:33:14.683Z"
      },
      {
        "duration": 186,
        "start_time": "2024-02-25T07:33:14.696Z"
      },
      {
        "duration": 115,
        "start_time": "2024-02-25T07:33:14.884Z"
      },
      {
        "duration": 58,
        "start_time": "2024-02-25T07:33:15.001Z"
      },
      {
        "duration": 132,
        "start_time": "2024-02-25T07:33:15.061Z"
      },
      {
        "duration": 5,
        "start_time": "2024-02-25T07:33:15.195Z"
      },
      {
        "duration": 206,
        "start_time": "2024-02-25T07:33:15.202Z"
      },
      {
        "duration": 188,
        "start_time": "2024-02-25T07:33:15.415Z"
      },
      {
        "duration": 251,
        "start_time": "2024-02-25T07:33:15.605Z"
      },
      {
        "duration": 1642,
        "start_time": "2024-02-25T07:33:15.858Z"
      },
      {
        "duration": 0,
        "start_time": "2024-02-25T07:33:17.502Z"
      },
      {
        "duration": 0,
        "start_time": "2024-02-25T07:33:17.504Z"
      },
      {
        "duration": 0,
        "start_time": "2024-02-25T07:33:17.514Z"
      },
      {
        "duration": 0,
        "start_time": "2024-02-25T07:33:17.515Z"
      },
      {
        "duration": 0,
        "start_time": "2024-02-25T07:33:17.517Z"
      },
      {
        "duration": 0,
        "start_time": "2024-02-25T07:33:17.518Z"
      },
      {
        "duration": 0,
        "start_time": "2024-02-25T07:33:17.520Z"
      },
      {
        "duration": 0,
        "start_time": "2024-02-25T07:33:17.521Z"
      },
      {
        "duration": 0,
        "start_time": "2024-02-25T07:33:17.522Z"
      },
      {
        "duration": 0,
        "start_time": "2024-02-25T07:33:17.524Z"
      },
      {
        "duration": 0,
        "start_time": "2024-02-25T07:33:17.525Z"
      },
      {
        "duration": 0,
        "start_time": "2024-02-25T07:33:17.527Z"
      },
      {
        "duration": 0,
        "start_time": "2024-02-25T07:33:17.528Z"
      },
      {
        "duration": 1459,
        "start_time": "2024-02-25T10:18:45.532Z"
      },
      {
        "duration": 134,
        "start_time": "2024-02-25T10:19:18.072Z"
      },
      {
        "duration": 18529,
        "start_time": "2024-02-25T10:59:32.521Z"
      },
      {
        "duration": 8065,
        "start_time": "2024-02-25T10:59:51.053Z"
      },
      {
        "duration": 215,
        "start_time": "2024-02-25T10:59:59.120Z"
      },
      {
        "duration": 26,
        "start_time": "2024-02-25T10:59:59.338Z"
      },
      {
        "duration": 26,
        "start_time": "2024-02-25T10:59:59.366Z"
      },
      {
        "duration": 39,
        "start_time": "2024-02-25T10:59:59.394Z"
      },
      {
        "duration": 15,
        "start_time": "2024-02-25T10:59:59.435Z"
      },
      {
        "duration": 20,
        "start_time": "2024-02-25T10:59:59.452Z"
      },
      {
        "duration": 4323,
        "start_time": "2024-02-25T10:59:59.474Z"
      },
      {
        "duration": 10,
        "start_time": "2024-02-25T11:00:03.799Z"
      },
      {
        "duration": 267,
        "start_time": "2024-02-25T11:00:03.815Z"
      },
      {
        "duration": 386,
        "start_time": "2024-02-25T11:00:04.084Z"
      },
      {
        "duration": 8,
        "start_time": "2024-02-25T11:00:04.471Z"
      },
      {
        "duration": 725,
        "start_time": "2024-02-25T11:00:04.482Z"
      },
      {
        "duration": 851,
        "start_time": "2024-02-25T11:00:05.209Z"
      },
      {
        "duration": 7,
        "start_time": "2024-02-25T11:00:06.062Z"
      },
      {
        "duration": 1126,
        "start_time": "2024-02-25T11:00:06.071Z"
      },
      {
        "duration": 234,
        "start_time": "2024-02-25T11:00:07.200Z"
      },
      {
        "duration": 138,
        "start_time": "2024-02-25T11:00:07.435Z"
      },
      {
        "duration": 160,
        "start_time": "2024-02-25T11:00:07.575Z"
      },
      {
        "duration": 397,
        "start_time": "2024-02-25T11:00:07.737Z"
      },
      {
        "duration": 220,
        "start_time": "2024-02-25T11:00:08.136Z"
      },
      {
        "duration": 148,
        "start_time": "2024-02-25T11:00:08.357Z"
      },
      {
        "duration": 211,
        "start_time": "2024-02-25T11:00:08.506Z"
      },
      {
        "duration": 206,
        "start_time": "2024-02-25T11:00:08.719Z"
      },
      {
        "duration": 406,
        "start_time": "2024-02-25T11:00:08.927Z"
      },
      {
        "duration": 5,
        "start_time": "2024-02-25T11:00:09.335Z"
      },
      {
        "duration": 12632,
        "start_time": "2024-02-25T11:00:09.346Z"
      },
      {
        "duration": 212,
        "start_time": "2024-02-25T11:00:21.981Z"
      },
      {
        "duration": 77,
        "start_time": "2024-02-25T11:00:22.195Z"
      },
      {
        "duration": 6,
        "start_time": "2024-02-25T11:00:22.274Z"
      },
      {
        "duration": 372,
        "start_time": "2024-02-25T11:00:22.282Z"
      },
      {
        "duration": 161,
        "start_time": "2024-02-25T11:00:22.656Z"
      },
      {
        "duration": 401,
        "start_time": "2024-02-25T11:00:22.819Z"
      },
      {
        "duration": 5,
        "start_time": "2024-02-25T11:00:23.222Z"
      },
      {
        "duration": 173,
        "start_time": "2024-02-25T11:00:23.229Z"
      },
      {
        "duration": 191,
        "start_time": "2024-02-25T11:00:23.404Z"
      },
      {
        "duration": 18,
        "start_time": "2024-02-25T11:00:23.597Z"
      },
      {
        "duration": 11,
        "start_time": "2024-02-25T11:00:23.617Z"
      },
      {
        "duration": 18,
        "start_time": "2024-02-25T11:00:23.630Z"
      },
      {
        "duration": 17,
        "start_time": "2024-02-25T11:00:23.650Z"
      },
      {
        "duration": 216,
        "start_time": "2024-02-25T11:00:23.669Z"
      },
      {
        "duration": 872,
        "start_time": "2024-02-25T11:00:23.886Z"
      },
      {
        "duration": 159,
        "start_time": "2024-02-25T11:00:24.760Z"
      },
      {
        "duration": 20,
        "start_time": "2024-02-25T11:00:24.921Z"
      },
      {
        "duration": 11,
        "start_time": "2024-02-25T11:00:24.943Z"
      },
      {
        "duration": 203,
        "start_time": "2024-02-25T11:00:24.956Z"
      },
      {
        "duration": 16,
        "start_time": "2024-02-25T11:00:25.161Z"
      },
      {
        "duration": 13,
        "start_time": "2024-02-25T11:00:25.179Z"
      },
      {
        "duration": 210,
        "start_time": "2024-02-25T11:00:25.194Z"
      },
      {
        "duration": 9,
        "start_time": "2024-02-25T11:00:25.414Z"
      },
      {
        "duration": 56,
        "start_time": "2024-02-25T11:00:25.426Z"
      },
      {
        "duration": 8,
        "start_time": "2024-02-25T11:00:25.484Z"
      },
      {
        "duration": 44,
        "start_time": "2024-02-25T11:00:25.494Z"
      },
      {
        "duration": 18,
        "start_time": "2024-02-25T11:00:25.540Z"
      },
      {
        "duration": 236,
        "start_time": "2024-02-25T11:00:25.560Z"
      },
      {
        "duration": 29,
        "start_time": "2024-02-25T11:00:25.798Z"
      },
      {
        "duration": 189,
        "start_time": "2024-02-25T11:00:25.828Z"
      },
      {
        "duration": 140,
        "start_time": "2024-02-25T11:00:26.019Z"
      },
      {
        "duration": 4,
        "start_time": "2024-02-25T11:00:26.161Z"
      },
      {
        "duration": 179,
        "start_time": "2024-02-25T11:00:26.166Z"
      },
      {
        "duration": 6,
        "start_time": "2024-02-25T11:00:26.347Z"
      },
      {
        "duration": 206,
        "start_time": "2024-02-25T11:00:26.355Z"
      },
      {
        "duration": 189,
        "start_time": "2024-02-25T11:00:26.563Z"
      },
      {
        "duration": 243,
        "start_time": "2024-02-25T11:00:26.754Z"
      },
      {
        "duration": 474,
        "start_time": "2024-02-25T11:00:26.998Z"
      },
      {
        "duration": 0,
        "start_time": "2024-02-25T11:00:27.474Z"
      },
      {
        "duration": 0,
        "start_time": "2024-02-25T11:00:27.476Z"
      },
      {
        "duration": 0,
        "start_time": "2024-02-25T11:00:27.477Z"
      },
      {
        "duration": 0,
        "start_time": "2024-02-25T11:00:27.479Z"
      },
      {
        "duration": 0,
        "start_time": "2024-02-25T11:00:27.480Z"
      },
      {
        "duration": 0,
        "start_time": "2024-02-25T11:00:27.482Z"
      },
      {
        "duration": 0,
        "start_time": "2024-02-25T11:00:27.485Z"
      },
      {
        "duration": 0,
        "start_time": "2024-02-25T11:00:27.487Z"
      },
      {
        "duration": 0,
        "start_time": "2024-02-25T11:00:27.489Z"
      },
      {
        "duration": 0,
        "start_time": "2024-02-25T11:00:27.490Z"
      },
      {
        "duration": 0,
        "start_time": "2024-02-25T11:00:27.516Z"
      },
      {
        "duration": 0,
        "start_time": "2024-02-25T11:00:27.517Z"
      },
      {
        "duration": 0,
        "start_time": "2024-02-25T11:00:27.519Z"
      },
      {
        "duration": 1733,
        "start_time": "2024-02-25T11:11:38.153Z"
      },
      {
        "duration": 1775,
        "start_time": "2024-02-25T11:12:17.613Z"
      },
      {
        "duration": 116,
        "start_time": "2024-02-25T13:03:30.474Z"
      },
      {
        "duration": 17971,
        "start_time": "2024-02-25T13:03:46.777Z"
      },
      {
        "duration": 9945,
        "start_time": "2024-02-25T13:04:04.749Z"
      },
      {
        "duration": 210,
        "start_time": "2024-02-25T13:04:14.696Z"
      },
      {
        "duration": 27,
        "start_time": "2024-02-25T13:04:14.908Z"
      },
      {
        "duration": 13,
        "start_time": "2024-02-25T13:04:14.937Z"
      },
      {
        "duration": 42,
        "start_time": "2024-02-25T13:04:14.952Z"
      },
      {
        "duration": 10,
        "start_time": "2024-02-25T13:04:14.996Z"
      },
      {
        "duration": 36,
        "start_time": "2024-02-25T13:04:15.008Z"
      },
      {
        "duration": 4181,
        "start_time": "2024-02-25T13:04:15.046Z"
      },
      {
        "duration": 9,
        "start_time": "2024-02-25T13:04:19.230Z"
      },
      {
        "duration": 226,
        "start_time": "2024-02-25T13:04:19.241Z"
      },
      {
        "duration": 393,
        "start_time": "2024-02-25T13:04:19.469Z"
      },
      {
        "duration": 7,
        "start_time": "2024-02-25T13:04:19.863Z"
      },
      {
        "duration": 728,
        "start_time": "2024-02-25T13:04:19.872Z"
      },
      {
        "duration": 835,
        "start_time": "2024-02-25T13:04:20.602Z"
      },
      {
        "duration": 7,
        "start_time": "2024-02-25T13:04:21.439Z"
      },
      {
        "duration": 1132,
        "start_time": "2024-02-25T13:04:21.447Z"
      },
      {
        "duration": 225,
        "start_time": "2024-02-25T13:04:22.580Z"
      },
      {
        "duration": 146,
        "start_time": "2024-02-25T13:04:22.807Z"
      },
      {
        "duration": 158,
        "start_time": "2024-02-25T13:04:22.955Z"
      },
      {
        "duration": 411,
        "start_time": "2024-02-25T13:04:23.116Z"
      },
      {
        "duration": 214,
        "start_time": "2024-02-25T13:04:23.530Z"
      },
      {
        "duration": 135,
        "start_time": "2024-02-25T13:04:23.746Z"
      },
      {
        "duration": 206,
        "start_time": "2024-02-25T13:04:23.882Z"
      },
      {
        "duration": 205,
        "start_time": "2024-02-25T13:04:24.090Z"
      },
      {
        "duration": 358,
        "start_time": "2024-02-25T13:04:24.296Z"
      },
      {
        "duration": 3,
        "start_time": "2024-02-25T13:04:24.656Z"
      },
      {
        "duration": 11059,
        "start_time": "2024-02-25T13:04:24.670Z"
      },
      {
        "duration": 170,
        "start_time": "2024-02-25T13:04:35.731Z"
      },
      {
        "duration": 60,
        "start_time": "2024-02-25T13:04:35.903Z"
      },
      {
        "duration": 4,
        "start_time": "2024-02-25T13:04:35.964Z"
      },
      {
        "duration": 305,
        "start_time": "2024-02-25T13:04:35.969Z"
      },
      {
        "duration": 155,
        "start_time": "2024-02-25T13:04:36.275Z"
      },
      {
        "duration": 302,
        "start_time": "2024-02-25T13:04:36.432Z"
      },
      {
        "duration": 4,
        "start_time": "2024-02-25T13:04:36.737Z"
      },
      {
        "duration": 147,
        "start_time": "2024-02-25T13:04:36.743Z"
      },
      {
        "duration": 164,
        "start_time": "2024-02-25T13:04:36.892Z"
      },
      {
        "duration": 4,
        "start_time": "2024-02-25T13:04:37.058Z"
      },
      {
        "duration": 14,
        "start_time": "2024-02-25T13:04:37.063Z"
      },
      {
        "duration": 4,
        "start_time": "2024-02-25T13:04:37.079Z"
      },
      {
        "duration": 32,
        "start_time": "2024-02-25T13:04:37.084Z"
      },
      {
        "duration": 200,
        "start_time": "2024-02-25T13:04:37.118Z"
      },
      {
        "duration": 704,
        "start_time": "2024-02-25T13:04:37.319Z"
      },
      {
        "duration": 139,
        "start_time": "2024-02-25T13:04:38.025Z"
      },
      {
        "duration": 20,
        "start_time": "2024-02-25T13:04:38.165Z"
      },
      {
        "duration": 36,
        "start_time": "2024-02-25T13:04:38.186Z"
      },
      {
        "duration": 203,
        "start_time": "2024-02-25T13:04:38.224Z"
      },
      {
        "duration": 15,
        "start_time": "2024-02-25T13:04:38.430Z"
      },
      {
        "duration": 9,
        "start_time": "2024-02-25T13:04:38.447Z"
      },
      {
        "duration": 217,
        "start_time": "2024-02-25T13:04:38.457Z"
      },
      {
        "duration": 6,
        "start_time": "2024-02-25T13:04:38.676Z"
      },
      {
        "duration": 73,
        "start_time": "2024-02-25T13:04:38.683Z"
      },
      {
        "duration": 5,
        "start_time": "2024-02-25T13:04:38.758Z"
      },
      {
        "duration": 19,
        "start_time": "2024-02-25T13:04:38.765Z"
      },
      {
        "duration": 30,
        "start_time": "2024-02-25T13:04:38.785Z"
      },
      {
        "duration": 224,
        "start_time": "2024-02-25T13:04:38.817Z"
      },
      {
        "duration": 13,
        "start_time": "2024-02-25T13:04:39.043Z"
      },
      {
        "duration": 202,
        "start_time": "2024-02-25T13:04:39.057Z"
      },
      {
        "duration": 128,
        "start_time": "2024-02-25T13:04:39.261Z"
      },
      {
        "duration": 23,
        "start_time": "2024-02-25T13:04:39.390Z"
      },
      {
        "duration": 140,
        "start_time": "2024-02-25T13:04:39.414Z"
      },
      {
        "duration": 6,
        "start_time": "2024-02-25T13:04:39.555Z"
      },
      {
        "duration": 234,
        "start_time": "2024-02-25T13:04:39.562Z"
      },
      {
        "duration": 203,
        "start_time": "2024-02-25T13:04:39.797Z"
      },
      {
        "duration": 240,
        "start_time": "2024-02-25T13:04:40.001Z"
      },
      {
        "duration": 423,
        "start_time": "2024-02-25T13:04:40.243Z"
      },
      {
        "duration": 1,
        "start_time": "2024-02-25T13:04:40.667Z"
      },
      {
        "duration": 0,
        "start_time": "2024-02-25T13:04:40.668Z"
      },
      {
        "duration": 0,
        "start_time": "2024-02-25T13:04:40.669Z"
      },
      {
        "duration": 0,
        "start_time": "2024-02-25T13:04:40.670Z"
      },
      {
        "duration": 0,
        "start_time": "2024-02-25T13:04:40.671Z"
      },
      {
        "duration": 0,
        "start_time": "2024-02-25T13:04:40.672Z"
      },
      {
        "duration": 0,
        "start_time": "2024-02-25T13:04:40.673Z"
      },
      {
        "duration": 0,
        "start_time": "2024-02-25T13:04:40.674Z"
      },
      {
        "duration": 0,
        "start_time": "2024-02-25T13:04:40.675Z"
      },
      {
        "duration": 0,
        "start_time": "2024-02-25T13:04:40.676Z"
      },
      {
        "duration": 0,
        "start_time": "2024-02-25T13:04:40.678Z"
      },
      {
        "duration": 0,
        "start_time": "2024-02-25T13:04:40.679Z"
      },
      {
        "duration": 0,
        "start_time": "2024-02-25T13:04:40.680Z"
      },
      {
        "duration": 149,
        "start_time": "2024-02-25T13:06:39.034Z"
      },
      {
        "duration": 148,
        "start_time": "2024-02-25T14:10:20.589Z"
      },
      {
        "duration": 655,
        "start_time": "2024-02-25T14:10:49.574Z"
      },
      {
        "duration": 66,
        "start_time": "2024-02-25T14:13:59.664Z"
      },
      {
        "duration": 182,
        "start_time": "2024-02-25T14:14:07.792Z"
      },
      {
        "duration": 2317,
        "start_time": "2024-02-25T14:40:53.630Z"
      },
      {
        "duration": 3,
        "start_time": "2024-02-25T14:41:02.101Z"
      },
      {
        "duration": 1459815,
        "start_time": "2024-02-25T14:41:03.488Z"
      },
      {
        "duration": 11513,
        "start_time": "2024-02-25T15:05:23.305Z"
      },
      {
        "duration": 196204,
        "start_time": "2024-02-25T15:05:34.820Z"
      },
      {
        "duration": 4401,
        "start_time": "2024-02-25T15:08:51.026Z"
      },
      {
        "duration": 11,
        "start_time": "2024-02-25T15:08:55.429Z"
      },
      {
        "duration": 5,
        "start_time": "2024-02-25T15:24:32.016Z"
      },
      {
        "duration": 21684,
        "start_time": "2024-02-25T15:24:32.332Z"
      },
      {
        "duration": 9,
        "start_time": "2024-02-25T15:24:54.018Z"
      },
      {
        "duration": 197,
        "start_time": "2024-02-25T15:25:26.057Z"
      },
      {
        "duration": 247,
        "start_time": "2024-02-25T15:25:26.256Z"
      },
      {
        "duration": 533,
        "start_time": "2024-02-25T15:25:26.947Z"
      },
      {
        "duration": 361,
        "start_time": "2024-02-25T15:25:27.482Z"
      },
      {
        "duration": 16445,
        "start_time": "2024-02-25T15:39:00.765Z"
      },
      {
        "duration": 7767,
        "start_time": "2024-02-25T15:39:17.212Z"
      },
      {
        "duration": 210,
        "start_time": "2024-02-25T15:39:24.980Z"
      },
      {
        "duration": 22,
        "start_time": "2024-02-25T15:39:25.192Z"
      },
      {
        "duration": 11,
        "start_time": "2024-02-25T15:39:25.215Z"
      },
      {
        "duration": 43,
        "start_time": "2024-02-25T15:39:25.228Z"
      },
      {
        "duration": 11,
        "start_time": "2024-02-25T15:39:25.273Z"
      },
      {
        "duration": 10,
        "start_time": "2024-02-25T15:39:25.286Z"
      },
      {
        "duration": 4090,
        "start_time": "2024-02-25T15:39:25.297Z"
      },
      {
        "duration": 9,
        "start_time": "2024-02-25T15:39:29.390Z"
      },
      {
        "duration": 234,
        "start_time": "2024-02-25T15:39:29.400Z"
      },
      {
        "duration": 389,
        "start_time": "2024-02-25T15:39:29.636Z"
      },
      {
        "duration": 8,
        "start_time": "2024-02-25T15:39:30.027Z"
      },
      {
        "duration": 663,
        "start_time": "2024-02-25T15:39:30.037Z"
      },
      {
        "duration": 836,
        "start_time": "2024-02-25T15:39:30.702Z"
      },
      {
        "duration": 7,
        "start_time": "2024-02-25T15:39:31.540Z"
      },
      {
        "duration": 1044,
        "start_time": "2024-02-25T15:39:31.549Z"
      },
      {
        "duration": 231,
        "start_time": "2024-02-25T15:39:32.595Z"
      },
      {
        "duration": 153,
        "start_time": "2024-02-25T15:39:32.827Z"
      },
      {
        "duration": 159,
        "start_time": "2024-02-25T15:39:32.981Z"
      },
      {
        "duration": 337,
        "start_time": "2024-02-25T15:39:33.142Z"
      },
      {
        "duration": 215,
        "start_time": "2024-02-25T15:39:33.481Z"
      },
      {
        "duration": 130,
        "start_time": "2024-02-25T15:39:33.698Z"
      },
      {
        "duration": 202,
        "start_time": "2024-02-25T15:39:33.829Z"
      },
      {
        "duration": 202,
        "start_time": "2024-02-25T15:39:34.032Z"
      },
      {
        "duration": 323,
        "start_time": "2024-02-25T15:39:34.235Z"
      },
      {
        "duration": 3,
        "start_time": "2024-02-25T15:39:34.560Z"
      },
      {
        "duration": 12068,
        "start_time": "2024-02-25T15:39:34.567Z"
      },
      {
        "duration": 153,
        "start_time": "2024-02-25T15:39:46.637Z"
      },
      {
        "duration": 69,
        "start_time": "2024-02-25T15:39:46.792Z"
      },
      {
        "duration": 4,
        "start_time": "2024-02-25T15:39:46.863Z"
      },
      {
        "duration": 270,
        "start_time": "2024-02-25T15:39:46.868Z"
      },
      {
        "duration": 134,
        "start_time": "2024-02-25T15:39:47.139Z"
      },
      {
        "duration": 297,
        "start_time": "2024-02-25T15:39:47.275Z"
      },
      {
        "duration": 4,
        "start_time": "2024-02-25T15:39:47.573Z"
      },
      {
        "duration": 137,
        "start_time": "2024-02-25T15:39:47.579Z"
      },
      {
        "duration": 129,
        "start_time": "2024-02-25T15:39:47.717Z"
      },
      {
        "duration": 3,
        "start_time": "2024-02-25T15:39:47.848Z"
      },
      {
        "duration": 7,
        "start_time": "2024-02-25T15:39:47.853Z"
      },
      {
        "duration": 3,
        "start_time": "2024-02-25T15:39:47.862Z"
      },
      {
        "duration": 6,
        "start_time": "2024-02-25T15:39:47.867Z"
      },
      {
        "duration": 212,
        "start_time": "2024-02-25T15:39:47.874Z"
      },
      {
        "duration": 953,
        "start_time": "2024-02-25T15:39:48.088Z"
      },
      {
        "duration": 130,
        "start_time": "2024-02-25T15:39:49.043Z"
      },
      {
        "duration": 19,
        "start_time": "2024-02-25T15:39:49.175Z"
      },
      {
        "duration": 24,
        "start_time": "2024-02-25T15:39:49.196Z"
      },
      {
        "duration": 187,
        "start_time": "2024-02-25T15:39:49.222Z"
      },
      {
        "duration": 15,
        "start_time": "2024-02-25T15:39:49.411Z"
      },
      {
        "duration": 12,
        "start_time": "2024-02-25T15:39:49.427Z"
      },
      {
        "duration": 201,
        "start_time": "2024-02-25T15:39:49.440Z"
      },
      {
        "duration": 8,
        "start_time": "2024-02-25T15:39:49.643Z"
      },
      {
        "duration": 84,
        "start_time": "2024-02-25T15:39:49.653Z"
      },
      {
        "duration": 6,
        "start_time": "2024-02-25T15:39:49.739Z"
      },
      {
        "duration": 20,
        "start_time": "2024-02-25T15:39:49.747Z"
      },
      {
        "duration": 7,
        "start_time": "2024-02-25T15:39:49.769Z"
      },
      {
        "duration": 247,
        "start_time": "2024-02-25T15:39:49.777Z"
      },
      {
        "duration": 14,
        "start_time": "2024-02-25T15:39:50.025Z"
      },
      {
        "duration": 197,
        "start_time": "2024-02-25T15:39:50.040Z"
      },
      {
        "duration": 133,
        "start_time": "2024-02-25T15:39:50.238Z"
      },
      {
        "duration": 24,
        "start_time": "2024-02-25T15:39:50.372Z"
      },
      {
        "duration": 157,
        "start_time": "2024-02-25T15:39:50.398Z"
      },
      {
        "duration": 6,
        "start_time": "2024-02-25T15:39:50.557Z"
      },
      {
        "duration": 209,
        "start_time": "2024-02-25T15:39:50.564Z"
      },
      {
        "duration": 252,
        "start_time": "2024-02-25T15:39:50.775Z"
      },
      {
        "duration": 262,
        "start_time": "2024-02-25T15:39:51.030Z"
      },
      {
        "duration": 2469,
        "start_time": "2024-02-25T15:39:51.294Z"
      },
      {
        "duration": 3,
        "start_time": "2024-02-25T15:39:53.765Z"
      },
      {
        "duration": 1458271,
        "start_time": "2024-02-25T15:39:53.769Z"
      },
      {
        "duration": 11371,
        "start_time": "2024-02-25T16:04:12.042Z"
      },
      {
        "duration": 243906,
        "start_time": "2024-02-25T16:04:23.415Z"
      },
      {
        "duration": 4892,
        "start_time": "2024-02-25T16:08:27.323Z"
      },
      {
        "duration": 11,
        "start_time": "2024-02-25T16:08:32.217Z"
      },
      {
        "duration": 5,
        "start_time": "2024-02-25T16:08:32.229Z"
      },
      {
        "duration": 21692,
        "start_time": "2024-02-25T16:08:32.236Z"
      },
      {
        "duration": 9,
        "start_time": "2024-02-25T16:08:53.930Z"
      },
      {
        "duration": 226,
        "start_time": "2024-02-25T16:08:53.940Z"
      },
      {
        "duration": 255,
        "start_time": "2024-02-25T16:08:54.167Z"
      },
      {
        "duration": 584,
        "start_time": "2024-02-25T16:08:54.423Z"
      },
      {
        "duration": 347,
        "start_time": "2024-02-25T16:08:55.008Z"
      },
      {
        "duration": 23214,
        "start_time": "2024-02-26T17:07:37.520Z"
      },
      {
        "duration": 11503,
        "start_time": "2024-02-26T17:08:00.736Z"
      },
      {
        "duration": 48,
        "start_time": "2024-02-26T17:08:12.240Z"
      },
      {
        "duration": 22,
        "start_time": "2024-02-26T17:08:12.290Z"
      },
      {
        "duration": 17,
        "start_time": "2024-02-26T17:08:12.313Z"
      },
      {
        "duration": 18,
        "start_time": "2024-02-26T17:08:12.332Z"
      },
      {
        "duration": 34,
        "start_time": "2024-02-26T17:08:12.352Z"
      },
      {
        "duration": 23,
        "start_time": "2024-02-26T17:08:12.387Z"
      },
      {
        "duration": 4321,
        "start_time": "2024-02-26T17:08:12.411Z"
      },
      {
        "duration": 10,
        "start_time": "2024-02-26T17:08:16.734Z"
      },
      {
        "duration": 269,
        "start_time": "2024-02-26T17:08:16.745Z"
      },
      {
        "duration": 370,
        "start_time": "2024-02-26T17:08:17.016Z"
      },
      {
        "duration": 12,
        "start_time": "2024-02-26T17:08:17.388Z"
      },
      {
        "duration": 755,
        "start_time": "2024-02-26T17:08:17.402Z"
      },
      {
        "duration": 828,
        "start_time": "2024-02-26T17:08:18.159Z"
      },
      {
        "duration": 8,
        "start_time": "2024-02-26T17:08:18.988Z"
      },
      {
        "duration": 1183,
        "start_time": "2024-02-26T17:08:18.997Z"
      },
      {
        "duration": 205,
        "start_time": "2024-02-26T17:08:20.182Z"
      },
      {
        "duration": 143,
        "start_time": "2024-02-26T17:08:20.389Z"
      },
      {
        "duration": 133,
        "start_time": "2024-02-26T17:08:20.534Z"
      },
      {
        "duration": 422,
        "start_time": "2024-02-26T17:08:20.669Z"
      },
      {
        "duration": 191,
        "start_time": "2024-02-26T17:08:21.093Z"
      },
      {
        "duration": 138,
        "start_time": "2024-02-26T17:08:21.286Z"
      },
      {
        "duration": 176,
        "start_time": "2024-02-26T17:08:21.425Z"
      },
      {
        "duration": 176,
        "start_time": "2024-02-26T17:08:21.603Z"
      },
      {
        "duration": 351,
        "start_time": "2024-02-26T17:08:21.781Z"
      },
      {
        "duration": 4,
        "start_time": "2024-02-26T17:08:22.134Z"
      },
      {
        "duration": 11281,
        "start_time": "2024-02-26T17:08:22.143Z"
      },
      {
        "duration": 190,
        "start_time": "2024-02-26T17:08:33.426Z"
      },
      {
        "duration": 145,
        "start_time": "2024-02-26T17:08:33.618Z"
      },
      {
        "duration": 62,
        "start_time": "2024-02-26T17:08:33.765Z"
      },
      {
        "duration": 5,
        "start_time": "2024-02-26T17:08:33.828Z"
      },
      {
        "duration": 341,
        "start_time": "2024-02-26T17:08:33.835Z"
      },
      {
        "duration": 114,
        "start_time": "2024-02-26T17:08:34.179Z"
      },
      {
        "duration": 284,
        "start_time": "2024-02-26T17:08:34.295Z"
      },
      {
        "duration": 5,
        "start_time": "2024-02-26T17:08:34.581Z"
      },
      {
        "duration": 125,
        "start_time": "2024-02-26T17:08:34.591Z"
      },
      {
        "duration": 113,
        "start_time": "2024-02-26T17:08:34.718Z"
      },
      {
        "duration": 19,
        "start_time": "2024-02-26T17:08:34.833Z"
      },
      {
        "duration": 31,
        "start_time": "2024-02-26T17:08:34.854Z"
      },
      {
        "duration": 34,
        "start_time": "2024-02-26T17:08:34.887Z"
      },
      {
        "duration": 18,
        "start_time": "2024-02-26T17:08:34.923Z"
      },
      {
        "duration": 212,
        "start_time": "2024-02-26T17:08:34.943Z"
      },
      {
        "duration": 2263,
        "start_time": "2024-02-26T17:08:35.157Z"
      },
      {
        "duration": 0,
        "start_time": "2024-02-26T17:08:37.422Z"
      },
      {
        "duration": 0,
        "start_time": "2024-02-26T17:08:37.423Z"
      },
      {
        "duration": 0,
        "start_time": "2024-02-26T17:08:37.425Z"
      },
      {
        "duration": 0,
        "start_time": "2024-02-26T17:08:37.426Z"
      },
      {
        "duration": 0,
        "start_time": "2024-02-26T17:08:37.427Z"
      },
      {
        "duration": 0,
        "start_time": "2024-02-26T17:08:37.429Z"
      },
      {
        "duration": 0,
        "start_time": "2024-02-26T17:08:37.430Z"
      },
      {
        "duration": 0,
        "start_time": "2024-02-26T17:08:37.431Z"
      },
      {
        "duration": 0,
        "start_time": "2024-02-26T17:08:37.432Z"
      },
      {
        "duration": 0,
        "start_time": "2024-02-26T17:08:37.433Z"
      },
      {
        "duration": 0,
        "start_time": "2024-02-26T17:08:37.434Z"
      },
      {
        "duration": 0,
        "start_time": "2024-02-26T17:08:37.436Z"
      },
      {
        "duration": 0,
        "start_time": "2024-02-26T17:08:37.437Z"
      },
      {
        "duration": 0,
        "start_time": "2024-02-26T17:08:37.438Z"
      },
      {
        "duration": 0,
        "start_time": "2024-02-26T17:08:37.439Z"
      },
      {
        "duration": 0,
        "start_time": "2024-02-26T17:08:37.440Z"
      },
      {
        "duration": 0,
        "start_time": "2024-02-26T17:08:37.441Z"
      },
      {
        "duration": 0,
        "start_time": "2024-02-26T17:08:37.443Z"
      },
      {
        "duration": 0,
        "start_time": "2024-02-26T17:08:37.445Z"
      },
      {
        "duration": 0,
        "start_time": "2024-02-26T17:08:37.446Z"
      },
      {
        "duration": 0,
        "start_time": "2024-02-26T17:08:37.448Z"
      },
      {
        "duration": 0,
        "start_time": "2024-02-26T17:08:37.450Z"
      },
      {
        "duration": 1,
        "start_time": "2024-02-26T17:08:37.451Z"
      },
      {
        "duration": 0,
        "start_time": "2024-02-26T17:08:37.453Z"
      },
      {
        "duration": 0,
        "start_time": "2024-02-26T17:08:37.454Z"
      },
      {
        "duration": 0,
        "start_time": "2024-02-26T17:08:37.455Z"
      },
      {
        "duration": 0,
        "start_time": "2024-02-26T17:08:37.457Z"
      },
      {
        "duration": 0,
        "start_time": "2024-02-26T17:08:37.458Z"
      },
      {
        "duration": 0,
        "start_time": "2024-02-26T17:08:37.460Z"
      },
      {
        "duration": 0,
        "start_time": "2024-02-26T17:08:37.461Z"
      },
      {
        "duration": 0,
        "start_time": "2024-02-26T17:08:37.493Z"
      },
      {
        "duration": 0,
        "start_time": "2024-02-26T17:08:37.494Z"
      },
      {
        "duration": 0,
        "start_time": "2024-02-26T17:08:37.495Z"
      },
      {
        "duration": 0,
        "start_time": "2024-02-26T17:08:37.496Z"
      },
      {
        "duration": 0,
        "start_time": "2024-02-26T17:08:37.497Z"
      },
      {
        "duration": 0,
        "start_time": "2024-02-26T17:08:37.499Z"
      },
      {
        "duration": 1993,
        "start_time": "2024-02-26T17:09:58.174Z"
      },
      {
        "duration": 2016,
        "start_time": "2024-02-26T17:10:07.821Z"
      },
      {
        "duration": 431,
        "start_time": "2024-02-26T17:10:29.788Z"
      },
      {
        "duration": 106,
        "start_time": "2024-02-26T17:10:33.686Z"
      },
      {
        "duration": 23,
        "start_time": "2024-02-26T17:11:07.684Z"
      },
      {
        "duration": 13,
        "start_time": "2024-02-26T17:11:09.481Z"
      },
      {
        "duration": 242,
        "start_time": "2024-02-26T17:11:09.937Z"
      },
      {
        "duration": 16,
        "start_time": "2024-02-26T17:11:10.406Z"
      },
      {
        "duration": 13,
        "start_time": "2024-02-26T17:11:12.029Z"
      },
      {
        "duration": 217,
        "start_time": "2024-02-26T17:11:12.503Z"
      },
      {
        "duration": 8,
        "start_time": "2024-02-26T17:11:16.845Z"
      },
      {
        "duration": 40,
        "start_time": "2024-02-26T17:11:24.313Z"
      },
      {
        "duration": 6,
        "start_time": "2024-02-26T17:11:25.218Z"
      },
      {
        "duration": 23,
        "start_time": "2024-02-26T17:11:25.872Z"
      },
      {
        "duration": 9,
        "start_time": "2024-02-26T17:11:26.115Z"
      },
      {
        "duration": 187,
        "start_time": "2024-02-26T17:11:28.852Z"
      },
      {
        "duration": 13,
        "start_time": "2024-02-26T17:11:32.510Z"
      },
      {
        "duration": 183,
        "start_time": "2024-02-26T17:11:32.670Z"
      },
      {
        "duration": 104,
        "start_time": "2024-02-26T17:11:32.856Z"
      },
      {
        "duration": 35,
        "start_time": "2024-02-26T17:11:32.962Z"
      },
      {
        "duration": 117,
        "start_time": "2024-02-26T17:11:33.144Z"
      },
      {
        "duration": 7,
        "start_time": "2024-02-26T17:11:36.075Z"
      },
      {
        "duration": 195,
        "start_time": "2024-02-26T17:11:41.379Z"
      },
      {
        "duration": 201,
        "start_time": "2024-02-26T17:11:41.576Z"
      },
      {
        "duration": 225,
        "start_time": "2024-02-26T17:11:41.788Z"
      },
      {
        "duration": 80,
        "start_time": "2024-02-26T17:12:59.501Z"
      },
      {
        "duration": 1406,
        "start_time": "2024-02-26T17:15:00.437Z"
      },
      {
        "duration": 3,
        "start_time": "2024-02-26T17:15:05.825Z"
      },
      {
        "duration": 1272805,
        "start_time": "2024-02-26T17:17:26.839Z"
      },
      {
        "duration": 8953,
        "start_time": "2024-02-26T17:38:39.645Z"
      },
      {
        "duration": 222395,
        "start_time": "2024-02-26T17:38:48.599Z"
      },
      {
        "duration": 5508,
        "start_time": "2024-02-26T17:42:30.996Z"
      },
      {
        "duration": 13,
        "start_time": "2024-02-26T17:42:36.505Z"
      },
      {
        "duration": 17,
        "start_time": "2024-02-26T17:42:36.520Z"
      },
      {
        "duration": 22876,
        "start_time": "2024-02-26T17:42:36.538Z"
      },
      {
        "duration": 9,
        "start_time": "2024-02-26T17:42:59.416Z"
      },
      {
        "duration": 283,
        "start_time": "2024-02-26T17:42:59.428Z"
      },
      {
        "duration": 264,
        "start_time": "2024-02-26T17:42:59.713Z"
      },
      {
        "duration": 417,
        "start_time": "2024-02-26T17:42:59.979Z"
      },
      {
        "duration": 397,
        "start_time": "2024-02-26T17:43:00.398Z"
      },
      {
        "duration": 13004,
        "start_time": "2024-02-26T18:19:19.057Z"
      },
      {
        "duration": 2091,
        "start_time": "2024-02-26T18:22:46.107Z"
      },
      {
        "duration": 1966,
        "start_time": "2024-02-26T18:22:59.663Z"
      },
      {
        "duration": 22258,
        "start_time": "2024-02-26T18:23:18.053Z"
      },
      {
        "duration": 13780,
        "start_time": "2024-02-26T18:25:53.452Z"
      },
      {
        "duration": 171,
        "start_time": "2024-02-26T18:26:14.549Z"
      },
      {
        "duration": 59,
        "start_time": "2024-02-26T18:26:15.225Z"
      },
      {
        "duration": 45,
        "start_time": "2024-02-26T18:26:17.438Z"
      },
      {
        "duration": 4,
        "start_time": "2024-02-26T18:26:17.865Z"
      },
      {
        "duration": 229,
        "start_time": "2024-02-26T18:26:18.260Z"
      },
      {
        "duration": 111,
        "start_time": "2024-02-26T18:26:18.916Z"
      },
      {
        "duration": 244,
        "start_time": "2024-02-26T18:26:19.582Z"
      },
      {
        "duration": 3,
        "start_time": "2024-02-26T18:26:19.923Z"
      },
      {
        "duration": 115,
        "start_time": "2024-02-26T18:26:20.121Z"
      },
      {
        "duration": 110,
        "start_time": "2024-02-26T18:26:20.293Z"
      },
      {
        "duration": 3,
        "start_time": "2024-02-26T18:26:20.625Z"
      },
      {
        "duration": 6,
        "start_time": "2024-02-26T18:26:21.791Z"
      },
      {
        "duration": 3,
        "start_time": "2024-02-26T18:26:21.948Z"
      },
      {
        "duration": 5,
        "start_time": "2024-02-26T18:26:22.104Z"
      },
      {
        "duration": 185,
        "start_time": "2024-02-26T18:26:22.256Z"
      },
      {
        "duration": 462,
        "start_time": "2024-02-26T18:26:22.871Z"
      },
      {
        "duration": 108,
        "start_time": "2024-02-26T18:26:23.335Z"
      },
      {
        "duration": 21,
        "start_time": "2024-02-26T18:26:25.116Z"
      },
      {
        "duration": 13,
        "start_time": "2024-02-26T18:26:25.516Z"
      },
      {
        "duration": 205,
        "start_time": "2024-02-26T18:26:25.903Z"
      },
      {
        "duration": 18,
        "start_time": "2024-02-26T18:26:26.110Z"
      },
      {
        "duration": 11,
        "start_time": "2024-02-26T18:26:27.319Z"
      },
      {
        "duration": 203,
        "start_time": "2024-02-26T18:26:27.472Z"
      },
      {
        "duration": 7,
        "start_time": "2024-02-26T18:26:28.424Z"
      },
      {
        "duration": 42,
        "start_time": "2024-02-26T18:26:30.507Z"
      },
      {
        "duration": 5,
        "start_time": "2024-02-26T18:26:30.677Z"
      },
      {
        "duration": 23,
        "start_time": "2024-02-26T18:26:30.856Z"
      },
      {
        "duration": 73,
        "start_time": "2024-02-26T18:26:31.021Z"
      },
      {
        "duration": 390,
        "start_time": "2024-02-26T18:26:31.200Z"
      },
      {
        "duration": 231,
        "start_time": "2024-02-26T18:26:31.592Z"
      },
      {
        "duration": 344,
        "start_time": "2024-02-26T18:26:31.826Z"
      },
      {
        "duration": 106,
        "start_time": "2024-02-26T18:26:32.172Z"
      },
      {
        "duration": 75,
        "start_time": "2024-02-26T18:26:32.279Z"
      },
      {
        "duration": 106,
        "start_time": "2024-02-26T18:26:32.776Z"
      },
      {
        "duration": 212,
        "start_time": "2024-02-26T18:26:32.983Z"
      },
      {
        "duration": 199,
        "start_time": "2024-02-26T18:26:35.935Z"
      },
      {
        "duration": 185,
        "start_time": "2024-02-26T18:26:36.318Z"
      },
      {
        "duration": 211,
        "start_time": "2024-02-26T18:26:36.682Z"
      },
      {
        "duration": 439,
        "start_time": "2024-02-26T18:27:11.375Z"
      },
      {
        "duration": 105,
        "start_time": "2024-02-26T18:27:11.816Z"
      },
      {
        "duration": 21,
        "start_time": "2024-02-26T18:27:13.188Z"
      },
      {
        "duration": 12,
        "start_time": "2024-02-26T18:27:13.533Z"
      },
      {
        "duration": 188,
        "start_time": "2024-02-26T18:27:13.712Z"
      },
      {
        "duration": 18,
        "start_time": "2024-02-26T18:27:13.901Z"
      },
      {
        "duration": 10,
        "start_time": "2024-02-26T18:27:14.424Z"
      },
      {
        "duration": 175,
        "start_time": "2024-02-26T18:27:14.599Z"
      },
      {
        "duration": 6,
        "start_time": "2024-02-26T18:27:14.777Z"
      },
      {
        "duration": 37,
        "start_time": "2024-02-26T18:27:15.310Z"
      },
      {
        "duration": 6,
        "start_time": "2024-02-26T18:27:15.497Z"
      },
      {
        "duration": 23,
        "start_time": "2024-02-26T18:27:16.055Z"
      },
      {
        "duration": 6,
        "start_time": "2024-02-26T18:27:16.501Z"
      },
      {
        "duration": 176,
        "start_time": "2024-02-26T18:27:16.961Z"
      },
      {
        "duration": 14,
        "start_time": "2024-02-26T18:27:17.954Z"
      },
      {
        "duration": 183,
        "start_time": "2024-02-26T18:27:18.413Z"
      },
      {
        "duration": 99,
        "start_time": "2024-02-26T18:27:19.341Z"
      },
      {
        "duration": 4,
        "start_time": "2024-02-26T18:27:19.500Z"
      },
      {
        "duration": 109,
        "start_time": "2024-02-26T18:27:19.667Z"
      },
      {
        "duration": 7,
        "start_time": "2024-02-26T18:27:19.818Z"
      },
      {
        "duration": 191,
        "start_time": "2024-02-26T18:27:20.135Z"
      },
      {
        "duration": 205,
        "start_time": "2024-02-26T18:27:20.328Z"
      },
      {
        "duration": 209,
        "start_time": "2024-02-26T18:27:20.535Z"
      },
      {
        "duration": 1359,
        "start_time": "2024-02-26T18:27:21.390Z"
      },
      {
        "duration": 1388,
        "start_time": "2024-02-26T18:27:30.830Z"
      },
      {
        "duration": 18316,
        "start_time": "2024-02-26T18:27:39.343Z"
      },
      {
        "duration": 11329,
        "start_time": "2024-02-26T18:27:57.662Z"
      },
      {
        "duration": 43,
        "start_time": "2024-02-26T18:28:08.993Z"
      },
      {
        "duration": 24,
        "start_time": "2024-02-26T18:28:09.038Z"
      },
      {
        "duration": 43,
        "start_time": "2024-02-26T18:28:09.064Z"
      },
      {
        "duration": 27,
        "start_time": "2024-02-26T18:28:09.108Z"
      },
      {
        "duration": 56,
        "start_time": "2024-02-26T18:28:09.137Z"
      },
      {
        "duration": 104,
        "start_time": "2024-02-26T18:28:09.194Z"
      },
      {
        "duration": 4314,
        "start_time": "2024-02-26T18:28:09.300Z"
      },
      {
        "duration": 10,
        "start_time": "2024-02-26T18:28:13.616Z"
      },
      {
        "duration": 245,
        "start_time": "2024-02-26T18:28:13.627Z"
      },
      {
        "duration": 363,
        "start_time": "2024-02-26T18:28:13.874Z"
      },
      {
        "duration": 8,
        "start_time": "2024-02-26T18:28:14.239Z"
      },
      {
        "duration": 695,
        "start_time": "2024-02-26T18:28:14.249Z"
      },
      {
        "duration": 808,
        "start_time": "2024-02-26T18:28:14.946Z"
      },
      {
        "duration": 7,
        "start_time": "2024-02-26T18:28:15.756Z"
      },
      {
        "duration": 1227,
        "start_time": "2024-02-26T18:28:15.765Z"
      },
      {
        "duration": 201,
        "start_time": "2024-02-26T18:28:16.994Z"
      },
      {
        "duration": 142,
        "start_time": "2024-02-26T18:28:17.197Z"
      },
      {
        "duration": 132,
        "start_time": "2024-02-26T18:28:17.341Z"
      },
      {
        "duration": 396,
        "start_time": "2024-02-26T18:28:17.474Z"
      },
      {
        "duration": 193,
        "start_time": "2024-02-26T18:28:17.872Z"
      },
      {
        "duration": 138,
        "start_time": "2024-02-26T18:28:18.066Z"
      },
      {
        "duration": 175,
        "start_time": "2024-02-26T18:28:18.206Z"
      },
      {
        "duration": 174,
        "start_time": "2024-02-26T18:28:18.383Z"
      },
      {
        "duration": 343,
        "start_time": "2024-02-26T18:28:18.559Z"
      },
      {
        "duration": 5,
        "start_time": "2024-02-26T18:28:18.904Z"
      },
      {
        "duration": 12432,
        "start_time": "2024-02-26T18:28:18.914Z"
      },
      {
        "duration": 177,
        "start_time": "2024-02-26T18:28:31.348Z"
      },
      {
        "duration": 88,
        "start_time": "2024-02-26T18:28:31.526Z"
      },
      {
        "duration": 60,
        "start_time": "2024-02-26T18:28:31.616Z"
      },
      {
        "duration": 40,
        "start_time": "2024-02-26T18:28:31.678Z"
      },
      {
        "duration": 287,
        "start_time": "2024-02-26T18:28:31.719Z"
      },
      {
        "duration": 112,
        "start_time": "2024-02-26T18:28:32.008Z"
      },
      {
        "duration": 247,
        "start_time": "2024-02-26T18:28:32.122Z"
      },
      {
        "duration": 3,
        "start_time": "2024-02-26T18:28:32.371Z"
      },
      {
        "duration": 128,
        "start_time": "2024-02-26T18:28:32.376Z"
      },
      {
        "duration": 114,
        "start_time": "2024-02-26T18:28:32.506Z"
      },
      {
        "duration": 73,
        "start_time": "2024-02-26T18:28:32.622Z"
      },
      {
        "duration": 36,
        "start_time": "2024-02-26T18:28:32.697Z"
      },
      {
        "duration": 3,
        "start_time": "2024-02-26T18:28:32.735Z"
      },
      {
        "duration": 12,
        "start_time": "2024-02-26T18:28:32.740Z"
      },
      {
        "duration": 212,
        "start_time": "2024-02-26T18:28:32.754Z"
      },
      {
        "duration": 489,
        "start_time": "2024-02-26T18:28:32.968Z"
      },
      {
        "duration": 103,
        "start_time": "2024-02-26T18:28:33.459Z"
      },
      {
        "duration": 31,
        "start_time": "2024-02-26T18:28:33.564Z"
      },
      {
        "duration": 27,
        "start_time": "2024-02-26T18:28:33.597Z"
      },
      {
        "duration": 209,
        "start_time": "2024-02-26T18:28:33.626Z"
      },
      {
        "duration": 16,
        "start_time": "2024-02-26T18:28:33.836Z"
      },
      {
        "duration": 13,
        "start_time": "2024-02-26T18:28:33.854Z"
      },
      {
        "duration": 193,
        "start_time": "2024-02-26T18:28:33.868Z"
      },
      {
        "duration": 6,
        "start_time": "2024-02-26T18:28:34.063Z"
      },
      {
        "duration": 51,
        "start_time": "2024-02-26T18:28:34.071Z"
      },
      {
        "duration": 5,
        "start_time": "2024-02-26T18:28:34.124Z"
      },
      {
        "duration": 21,
        "start_time": "2024-02-26T18:28:34.131Z"
      },
      {
        "duration": 9,
        "start_time": "2024-02-26T18:28:34.153Z"
      },
      {
        "duration": 229,
        "start_time": "2024-02-26T18:28:34.164Z"
      },
      {
        "duration": 15,
        "start_time": "2024-02-26T18:28:34.395Z"
      },
      {
        "duration": 186,
        "start_time": "2024-02-26T18:28:34.411Z"
      },
      {
        "duration": 98,
        "start_time": "2024-02-26T18:28:34.599Z"
      },
      {
        "duration": 12,
        "start_time": "2024-02-26T18:28:34.699Z"
      },
      {
        "duration": 102,
        "start_time": "2024-02-26T18:28:34.714Z"
      },
      {
        "duration": 5,
        "start_time": "2024-02-26T18:28:34.818Z"
      },
      {
        "duration": 216,
        "start_time": "2024-02-26T18:28:34.825Z"
      },
      {
        "duration": 194,
        "start_time": "2024-02-26T18:28:35.043Z"
      },
      {
        "duration": 205,
        "start_time": "2024-02-26T18:28:35.238Z"
      },
      {
        "duration": 1217,
        "start_time": "2024-02-26T18:28:35.444Z"
      },
      {
        "duration": 3,
        "start_time": "2024-02-26T18:28:36.663Z"
      },
      {
        "duration": 1329118,
        "start_time": "2024-02-26T18:28:36.667Z"
      },
      {
        "duration": 9235,
        "start_time": "2024-02-26T18:50:45.787Z"
      },
      {
        "duration": 278074,
        "start_time": "2024-02-26T18:50:55.024Z"
      },
      {
        "duration": 4717,
        "start_time": "2024-02-26T18:55:33.099Z"
      },
      {
        "duration": 11,
        "start_time": "2024-02-26T18:55:37.818Z"
      },
      {
        "duration": 63,
        "start_time": "2024-02-26T18:55:37.830Z"
      },
      {
        "duration": 22328,
        "start_time": "2024-02-26T18:55:37.894Z"
      },
      {
        "duration": 75,
        "start_time": "2024-02-26T18:56:00.224Z"
      },
      {
        "duration": 382,
        "start_time": "2024-02-26T18:56:00.301Z"
      },
      {
        "duration": 242,
        "start_time": "2024-02-26T18:56:00.685Z"
      },
      {
        "duration": 467,
        "start_time": "2024-02-26T18:56:00.929Z"
      },
      {
        "duration": 410,
        "start_time": "2024-02-26T18:56:01.398Z"
      },
      {
        "duration": 361,
        "start_time": "2024-02-26T19:24:04.567Z"
      },
      {
        "duration": 28,
        "start_time": "2024-02-26T19:24:23.830Z"
      },
      {
        "duration": 205,
        "start_time": "2024-02-26T19:25:24.210Z"
      },
      {
        "duration": 249,
        "start_time": "2024-02-26T19:25:25.795Z"
      },
      {
        "duration": 308,
        "start_time": "2024-02-26T19:29:05.138Z"
      },
      {
        "duration": 627,
        "start_time": "2024-02-26T19:32:42.051Z"
      }
    ],
    "colab": {
      "provenance": [],
      "toc_visible": true,
      "include_colab_link": true
    },
    "kernelspec": {
      "display_name": "Python 3 (ipykernel)",
      "language": "python",
      "name": "python3"
    },
    "language_info": {
      "codemirror_mode": {
        "name": "ipython",
        "version": 3
      },
      "file_extension": ".py",
      "mimetype": "text/x-python",
      "name": "python",
      "nbconvert_exporter": "python",
      "pygments_lexer": "ipython3",
      "version": "3.9.5"
    },
    "toc": {
      "base_numbering": 1,
      "nav_menu": {},
      "number_sections": true,
      "sideBar": true,
      "skip_h1_title": true,
      "title_cell": "Table of Contents",
      "title_sidebar": "Contents",
      "toc_cell": false,
      "toc_position": {},
      "toc_section_display": true,
      "toc_window_display": false
    }
  },
  "nbformat": 4,
  "nbformat_minor": 0
}